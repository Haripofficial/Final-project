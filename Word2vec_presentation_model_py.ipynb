{
  "nbformat": 4,
  "nbformat_minor": 0,
  "metadata": {
    "colab": {
      "name": "Word2vec presentation model.py",
      "provenance": [],
      "mount_file_id": "1wHlnJw_z53fwykzym9zTOK0a62wCGK_Z",
      "authorship_tag": "ABX9TyN7mfqeJSLBakTx6Pp3usyF",
      "include_colab_link": true
    },
    "kernelspec": {
      "name": "python3",
      "display_name": "Python 3"
    },
    "language_info": {
      "name": "python"
    },
    "accelerator": "GPU"
  },
  "cells": [
    {
      "cell_type": "markdown",
      "metadata": {
        "id": "view-in-github",
        "colab_type": "text"
      },
      "source": [
        "<a href=\"https://colab.research.google.com/github/Haripofficial/Final-project/blob/main/Word2vec_presentation_model_py.ipynb\" target=\"_parent\"><img src=\"https://colab.research.google.com/assets/colab-badge.svg\" alt=\"Open In Colab\"/></a>"
      ]
    },
    {
      "cell_type": "markdown",
      "metadata": {
        "id": "DALSbdagKjKy"
      },
      "source": [
        "# MENTAL HEALTH CHATBOT USING SENTIMENT ANALYSIS\n",
        "\n",
        "## *LSTM Model Using Word2vec*\n",
        "\n",
        "\n",
        "*   For sentiment analysis we need to deal with sequential data where the context of a word have greater importance. Hence we select LSTM Model. They are a special kind of RNN, capable of learning long-term dependencies.\n",
        "\n",
        "\n",
        "\n",
        "\n",
        "\n",
        "\n",
        "\n"
      ]
    },
    {
      "cell_type": "code",
      "metadata": {
        "id": "EZMfVRKtdBYP"
      },
      "source": [
        "# importing different libraries requred for building and evaluating the model.\n",
        "# pandas \n",
        "import pandas as pd\n",
        "\n",
        "# nltk - natural language toolkit\n",
        "import nltk\n",
        "from nltk.corpus import stopwords\n",
        "from  nltk.stem import SnowballStemmer\n",
        "\n",
        "# Matplotlib\n",
        "import matplotlib.pyplot as plt\n",
        "%matplotlib inline\n",
        "\n",
        "# Word2vec\n",
        "import gensim\n",
        "\n",
        "# Scikit-learn\n",
        "from sklearn.model_selection import train_test_split\n",
        "from sklearn.preprocessing import LabelEncoder\n",
        "from sklearn.metrics import confusion_matrix, classification_report, accuracy_score\n",
        "from sklearn.manifold import TSNE\n",
        "from sklearn.feature_extraction.text import TfidfVectorizer\n",
        "\n",
        "# Keras\n",
        "from keras.preprocessing.text import Tokenizer\n",
        "from keras.preprocessing.sequence import pad_sequences\n",
        "from keras.models import Sequential\n",
        "from keras.layers import Activation, Dense, Dropout, Embedding, Flatten, Conv1D, MaxPooling1D, LSTM\n",
        "from keras import utils\n",
        "from keras.callbacks import ReduceLROnPlateau, EarlyStopping\n",
        "\n",
        "\n",
        "# others\n",
        "import re\n",
        "import numpy as np\n",
        "import os\n",
        "from collections import Counter\n",
        "import logging\n",
        "import time\n",
        "import pickle\n",
        "import itertools\n",
        "\n",
        "# Set log\n",
        "logging.basicConfig(format='%(asctime)s : %(levelname)s : %(message)s', level=logging.INFO)"
      ],
      "execution_count": null,
      "outputs": []
    },
    {
      "cell_type": "code",
      "metadata": {
        "colab": {
          "base_uri": "https://localhost:8080/"
        },
        "id": "-5eoIbmddBbZ",
        "outputId": "234c8ec6-ed8f-4de7-d76b-56800ae3391c"
      },
      "source": [
        "nltk.download('stopwords')"
      ],
      "execution_count": null,
      "outputs": [
        {
          "output_type": "stream",
          "text": [
            "[nltk_data] Downloading package stopwords to /root/nltk_data...\n",
            "[nltk_data]   Unzipping corpora/stopwords.zip.\n"
          ],
          "name": "stdout"
        },
        {
          "output_type": "execute_result",
          "data": {
            "text/plain": [
              "True"
            ]
          },
          "metadata": {
            "tags": []
          },
          "execution_count": 2
        }
      ]
    },
    {
      "cell_type": "code",
      "metadata": {
        "id": "OiAfxFO9dBel"
      },
      "source": [
        "\n",
        "\n",
        "# Details of the dataset\n",
        "DATASET_COLUMNS = [\"target\", \"ids\", \"date\", \"flag\", \"user\", \"text\"]\n",
        "DATASET_ENCODING = \"ISO-8859-1\"\n",
        "TRAIN_SIZE = 0.8\n",
        "\n",
        "# Text cleaning\n",
        "TEXT_CLEANING_RE = \"@\\S+|https?:\\S+|http?:\\S|[^A-Za-z0-9]+\"\n",
        "\n",
        "# Word2vec config\n",
        "W2V_SIZE = 300\n",
        "W2V_WINDOW = 7\n",
        "W2V_EPOCH = 32\n",
        "W2V_MIN_COUNT = 10\n",
        "\n",
        "# Parameters for lstm\n",
        "SEQUENCE_LENGTH = 30\n",
        "EPOCHS = 15\n",
        "BATCH_SIZE = 1024\n",
        "\n",
        "# Sentiment Assigning\n",
        "POSITIVE = \"POSITIVE\"\n",
        "NEGATIVE = \"NEGATIVE\"\n",
        "\n",
        "# Modal download\n",
        "KERAS_MODEL = \"modelvs.h5\"\n",
        "WORD2VEC_MODEL = \"modelvs.w2v\"\n",
        "TOKENIZER_MODEL = \"tokenizerfinalvs.pkl\"\n",
        "ENCODER_MODEL = \"encodervs.pkl\""
      ],
      "execution_count": null,
      "outputs": []
    },
    {
      "cell_type": "code",
      "metadata": {
        "id": "sz0V3700dBhd"
      },
      "source": [
        "#dataset_filename = os.listdir(\"../input\")[0]\n",
        "#dataset_path = os.path.join(\"..\",\"input\",dataset_filename)\n",
        "#print(\"Open file:\", dataset_path)\n",
        "df = pd.read_csv('/content/drive/MyDrive/Dataset/training.1600000.processed.noemoticon.csv', encoding =DATASET_ENCODING , names=DATASET_COLUMNS)"
      ],
      "execution_count": null,
      "outputs": []
    },
    {
      "cell_type": "code",
      "metadata": {
        "colab": {
          "base_uri": "https://localhost:8080/"
        },
        "id": "W1lAZpOGdBkv",
        "outputId": "304045cf-de79-4d26-ce10-0b6d1ffaae2c"
      },
      "source": [
        "print(\"Dataset size:\", len(df))"
      ],
      "execution_count": null,
      "outputs": [
        {
          "output_type": "stream",
          "text": [
            "Dataset size: 1600000\n"
          ],
          "name": "stdout"
        }
      ]
    },
    {
      "cell_type": "code",
      "metadata": {
        "colab": {
          "base_uri": "https://localhost:8080/",
          "height": 202
        },
        "id": "WfRrgSZrdBn2",
        "outputId": "020895b8-a714-40c1-bc10-251ccaf0b0d1"
      },
      "source": [
        "df.head(5)"
      ],
      "execution_count": null,
      "outputs": [
        {
          "output_type": "execute_result",
          "data": {
            "text/html": [
              "<div>\n",
              "<style scoped>\n",
              "    .dataframe tbody tr th:only-of-type {\n",
              "        vertical-align: middle;\n",
              "    }\n",
              "\n",
              "    .dataframe tbody tr th {\n",
              "        vertical-align: top;\n",
              "    }\n",
              "\n",
              "    .dataframe thead th {\n",
              "        text-align: right;\n",
              "    }\n",
              "</style>\n",
              "<table border=\"1\" class=\"dataframe\">\n",
              "  <thead>\n",
              "    <tr style=\"text-align: right;\">\n",
              "      <th></th>\n",
              "      <th>target</th>\n",
              "      <th>ids</th>\n",
              "      <th>date</th>\n",
              "      <th>flag</th>\n",
              "      <th>user</th>\n",
              "      <th>text</th>\n",
              "    </tr>\n",
              "  </thead>\n",
              "  <tbody>\n",
              "    <tr>\n",
              "      <th>0</th>\n",
              "      <td>0</td>\n",
              "      <td>1467810369</td>\n",
              "      <td>Mon Apr 06 22:19:45 PDT 2009</td>\n",
              "      <td>NO_QUERY</td>\n",
              "      <td>_TheSpecialOne_</td>\n",
              "      <td>@switchfoot http://twitpic.com/2y1zl - Awww, t...</td>\n",
              "    </tr>\n",
              "    <tr>\n",
              "      <th>1</th>\n",
              "      <td>0</td>\n",
              "      <td>1467810672</td>\n",
              "      <td>Mon Apr 06 22:19:49 PDT 2009</td>\n",
              "      <td>NO_QUERY</td>\n",
              "      <td>scotthamilton</td>\n",
              "      <td>is upset that he can't update his Facebook by ...</td>\n",
              "    </tr>\n",
              "    <tr>\n",
              "      <th>2</th>\n",
              "      <td>0</td>\n",
              "      <td>1467810917</td>\n",
              "      <td>Mon Apr 06 22:19:53 PDT 2009</td>\n",
              "      <td>NO_QUERY</td>\n",
              "      <td>mattycus</td>\n",
              "      <td>@Kenichan I dived many times for the ball. Man...</td>\n",
              "    </tr>\n",
              "    <tr>\n",
              "      <th>3</th>\n",
              "      <td>0</td>\n",
              "      <td>1467811184</td>\n",
              "      <td>Mon Apr 06 22:19:57 PDT 2009</td>\n",
              "      <td>NO_QUERY</td>\n",
              "      <td>ElleCTF</td>\n",
              "      <td>my whole body feels itchy and like its on fire</td>\n",
              "    </tr>\n",
              "    <tr>\n",
              "      <th>4</th>\n",
              "      <td>0</td>\n",
              "      <td>1467811193</td>\n",
              "      <td>Mon Apr 06 22:19:57 PDT 2009</td>\n",
              "      <td>NO_QUERY</td>\n",
              "      <td>Karoli</td>\n",
              "      <td>@nationwideclass no, it's not behaving at all....</td>\n",
              "    </tr>\n",
              "  </tbody>\n",
              "</table>\n",
              "</div>"
            ],
            "text/plain": [
              "   target  ...                                               text\n",
              "0       0  ...  @switchfoot http://twitpic.com/2y1zl - Awww, t...\n",
              "1       0  ...  is upset that he can't update his Facebook by ...\n",
              "2       0  ...  @Kenichan I dived many times for the ball. Man...\n",
              "3       0  ...    my whole body feels itchy and like its on fire \n",
              "4       0  ...  @nationwideclass no, it's not behaving at all....\n",
              "\n",
              "[5 rows x 6 columns]"
            ]
          },
          "metadata": {
            "tags": []
          },
          "execution_count": 6
        }
      ]
    },
    {
      "cell_type": "code",
      "metadata": {
        "id": "n9prlQg7dBq2"
      },
      "source": [
        "decode_map = {0: \"NEGATIVE\", 4: \"POSITIVE\"}\n",
        "def decode_sentiment(label):\n",
        "    return decode_map[int(label)]"
      ],
      "execution_count": null,
      "outputs": []
    },
    {
      "cell_type": "code",
      "metadata": {
        "colab": {
          "base_uri": "https://localhost:8080/"
        },
        "id": "QwQZbG-WdBuW",
        "outputId": "53b621e8-7add-4a51-970f-a119c4f31331"
      },
      "source": [
        "%%time\n",
        "df.target = df.target.apply(lambda x: decode_sentiment(x))"
      ],
      "execution_count": null,
      "outputs": [
        {
          "output_type": "stream",
          "text": [
            "CPU times: user 480 ms, sys: 2.91 ms, total: 483 ms\n",
            "Wall time: 483 ms\n"
          ],
          "name": "stdout"
        }
      ]
    },
    {
      "cell_type": "code",
      "metadata": {
        "colab": {
          "base_uri": "https://localhost:8080/",
          "height": 516
        },
        "id": "oOyHv9kDdBxv",
        "outputId": "1955c3d6-a2f3-4a05-a924-e97540fb467d"
      },
      "source": [
        "target_cnt = Counter(df.target)\n",
        "\n",
        "plt.figure(figsize=(16,8))\n",
        "plt.bar(target_cnt.keys(), target_cnt.values())\n",
        "plt.title(\"Dataset labels distribuition\")"
      ],
      "execution_count": null,
      "outputs": [
        {
          "output_type": "execute_result",
          "data": {
            "text/plain": [
              "Text(0.5, 1.0, 'Dataset labels distribuition')"
            ]
          },
          "metadata": {
            "tags": []
          },
          "execution_count": 9
        },
        {
          "output_type": "display_data",
          "data": {
            "image/png": "[encoded data removed]",
            "text/plain": [
              "<Figure size 1152x576 with 1 Axes>"
            ]
          },
          "metadata": {
            "tags": [],
            "needs_background": "light"
          }
        }
      ]
    },
    {
      "cell_type": "code",
      "metadata": {
        "colab": {
          "base_uri": "https://localhost:8080/"
        },
        "id": "mdigTFtudB0s",
        "outputId": "a6176bf9-bf75-4b7d-c33e-91cbecf3efe6"
      },
      "source": [
        "nltk.download('stopwords')\n",
        "stop_words = stopwords.words(\"english\")\n",
        "neg = ['not','no','don',\"don't\",'off','should',\"aren't\" , 't', 'can', 'couldn', \"couldn't\", 'didn', \"didn't\", 'doesn', \"doesn't\", 'hadn', \"hadn't\", 'hasn', \"hasn't\", 'haven', \"haven't\", 'isn', \"isn't\", 'ma', 'mightn', \"mightn't\", 'mustn', \"mustn't\", 'needn', \"needn't\", 'shan', \"shan't\", 'shouldn', \"shouldn't\", 'wasn', \"wasn't\", 'weren', \"weren't\", 'won', \"won't\", 'wouldn', \"wouldn't\",'ain', 'aren']\n",
        "Stop_words = [e for e in stop_words if e not in neg]\n",
        "print(Stop_words)\n",
        "stemmer = SnowballStemmer(\"english\")\n",
        "\n",
        "TEXT_CLEANING_RE = \"@\\S+|https?:\\S+|http?:\\S|[^A-Za-z0-9]+\""
      ],
      "execution_count": null,
      "outputs": [
        {
          "output_type": "stream",
          "text": [
            "[nltk_data] Downloading package stopwords to /root/nltk_data...\n",
            "[nltk_data]   Package stopwords is already up-to-date!\n",
            "['i', 'me', 'my', 'myself', 'we', 'our', 'ours', 'ourselves', 'you', \"you're\", \"you've\", \"you'll\", \"you'd\", 'your', 'yours', 'yourself', 'yourselves', 'he', 'him', 'his', 'himself', 'she', \"she's\", 'her', 'hers', 'herself', 'it', \"it's\", 'its', 'itself', 'they', 'them', 'their', 'theirs', 'themselves', 'what', 'which', 'who', 'whom', 'this', 'that', \"that'll\", 'these', 'those', 'am', 'is', 'are', 'was', 'were', 'be', 'been', 'being', 'have', 'has', 'had', 'having', 'do', 'does', 'did', 'doing', 'a', 'an', 'the', 'and', 'but', 'if', 'or', 'because', 'as', 'until', 'while', 'of', 'at', 'by', 'for', 'with', 'about', 'against', 'between', 'into', 'through', 'during', 'before', 'after', 'above', 'below', 'to', 'from', 'up', 'down', 'in', 'out', 'on', 'over', 'under', 'again', 'further', 'then', 'once', 'here', 'there', 'when', 'where', 'why', 'how', 'all', 'any', 'both', 'each', 'few', 'more', 'most', 'other', 'some', 'such', 'nor', 'only', 'own', 'same', 'so', 'than', 'too', 'very', 's', 'will', 'just', \"should've\", 'now', 'd', 'll', 'm', 'o', 're', 've', 'y']\n"
          ],
          "name": "stdout"
        }
      ]
    },
    {
      "cell_type": "code",
      "metadata": {
        "id": "fY0nyv4JdB3v"
      },
      "source": [
        "def preprocess(text, stem=False):\n",
        "    text=text.replace(\"'\",'')\n",
        "    text = re.sub(TEXT_CLEANING_RE, ' ', str(text).lower()).strip()\n",
        "    tokens = []\n",
        "    for token in text.split():\n",
        "        if token not in Stop_words:\n",
        "            if stem:\n",
        "                tokens.append(stemmer.stem(token))\n",
        "            else:\n",
        "                tokens.append(token)\n",
        "    return \" \".join(tokens)\n",
        " "
      ],
      "execution_count": null,
      "outputs": []
    },
    {
      "cell_type": "code",
      "metadata": {
        "colab": {
          "base_uri": "https://localhost:8080/"
        },
        "id": "xxFbJN1vdB7e",
        "outputId": "520b5800-f11f-4d3f-c3e9-84ba0b8e7958"
      },
      "source": [
        "%%time\n",
        "df.text = df.text.apply(lambda x: preprocess(x))"
      ],
      "execution_count": null,
      "outputs": [
        {
          "output_type": "stream",
          "text": [
            "CPU times: user 38.8 s, sys: 221 ms, total: 39.1 s\n",
            "Wall time: 39.1 s\n"
          ],
          "name": "stdout"
        }
      ]
    },
    {
      "cell_type": "code",
      "metadata": {
        "colab": {
          "base_uri": "https://localhost:8080/"
        },
        "id": "r3WOtVOvdB_E",
        "outputId": "6c4481a3-8449-4c10-de07-cff9d58c3d8d"
      },
      "source": [
        "df_train, df_test = train_test_split(df, test_size=1-TRAIN_SIZE, random_state=42)\n",
        "print(\"TRAIN size:\", len(df_train))\n",
        "print(\"TEST size:\", len(df_test))"
      ],
      "execution_count": null,
      "outputs": [
        {
          "output_type": "stream",
          "text": [
            "TRAIN size: 1280000\n",
            "TEST size: 320000\n"
          ],
          "name": "stdout"
        }
      ]
    },
    {
      "cell_type": "code",
      "metadata": {
        "colab": {
          "base_uri": "https://localhost:8080/"
        },
        "id": "VNcAs_7DdCCY",
        "outputId": "fb032cee-ffb4-4492-edfb-07be2a21325f"
      },
      "source": [
        "%%time\n",
        "documents = [_text.split() for _text in df_train.text] "
      ],
      "execution_count": null,
      "outputs": [
        {
          "output_type": "stream",
          "text": [
            "CPU times: user 2.71 s, sys: 320 ms, total: 3.03 s\n",
            "Wall time: 3.03 s\n"
          ],
          "name": "stdout"
        }
      ]
    },
    {
      "cell_type": "code",
      "metadata": {
        "id": "A4UnAw0xdCFU"
      },
      "source": [
        "w2v_model = gensim.models.word2vec.Word2Vec(size=W2V_SIZE, \n",
        "                                            window=W2V_WINDOW, \n",
        "                                            min_count=W2V_MIN_COUNT, \n",
        "                                            workers=8)"
      ],
      "execution_count": null,
      "outputs": []
    },
    {
      "cell_type": "code",
      "metadata": {
        "colab": {
          "base_uri": "https://localhost:8080/"
        },
        "id": "xeBwxc8IdCIn",
        "outputId": "7f78cbbf-9217-4e85-ae44-76bde7975316"
      },
      "source": [
        "w2v_model.build_vocab(documents)"
      ],
      "execution_count": null,
      "outputs": [
        {
          "output_type": "stream",
          "text": [
            "2021-06-05 17:18:40,884 : INFO : collecting all words and their counts\n",
            "2021-06-05 17:18:40,885 : INFO : PROGRESS: at sentence #0, processed 0 words, keeping 0 word types\n",
            "2021-06-05 17:18:40,910 : INFO : PROGRESS: at sentence #10000, processed 77345 words, keeping 14156 word types\n",
            "2021-06-05 17:18:40,933 : INFO : PROGRESS: at sentence #20000, processed 153988 words, keeping 21803 word types\n",
            "2021-06-05 17:18:40,958 : INFO : PROGRESS: at sentence #30000, processed 230195 words, keeping 27837 word types\n",
            "2021-06-05 17:18:40,977 : INFO : PROGRESS: at sentence #40000, processed 307559 words, keeping 33135 word types\n",
            "2021-06-05 17:18:41,001 : INFO : PROGRESS: at sentence #50000, processed 383861 words, keeping 38054 word types\n",
            "2021-06-05 17:18:41,023 : INFO : PROGRESS: at sentence #60000, processed 460279 words, keeping 42714 word types\n",
            "2021-06-05 17:18:41,046 : INFO : PROGRESS: at sentence #70000, processed 536692 words, keeping 47041 word types\n",
            "2021-06-05 17:18:41,065 : INFO : PROGRESS: at sentence #80000, processed 614104 words, keeping 51125 word types\n",
            "2021-06-05 17:18:41,089 : INFO : PROGRESS: at sentence #90000, processed 690232 words, keeping 54858 word types\n",
            "2021-06-05 17:18:41,110 : INFO : PROGRESS: at sentence #100000, processed 766668 words, keeping 58553 word types\n",
            "2021-06-05 17:18:41,133 : INFO : PROGRESS: at sentence #110000, processed 843483 words, keeping 62035 word types\n",
            "2021-06-05 17:18:41,154 : INFO : PROGRESS: at sentence #120000, processed 920748 words, keeping 65466 word types\n",
            "2021-06-05 17:18:41,174 : INFO : PROGRESS: at sentence #130000, processed 997410 words, keeping 68806 word types\n",
            "2021-06-05 17:18:41,198 : INFO : PROGRESS: at sentence #140000, processed 1073734 words, keeping 71958 word types\n",
            "2021-06-05 17:18:41,230 : INFO : PROGRESS: at sentence #150000, processed 1150306 words, keeping 75191 word types\n",
            "2021-06-05 17:18:41,256 : INFO : PROGRESS: at sentence #160000, processed 1226538 words, keeping 78298 word types\n",
            "2021-06-05 17:18:41,280 : INFO : PROGRESS: at sentence #170000, processed 1303574 words, keeping 81421 word types\n",
            "2021-06-05 17:18:41,302 : INFO : PROGRESS: at sentence #180000, processed 1381038 words, keeping 84585 word types\n",
            "2021-06-05 17:18:41,328 : INFO : PROGRESS: at sentence #190000, processed 1458854 words, keeping 87557 word types\n",
            "2021-06-05 17:18:41,349 : INFO : PROGRESS: at sentence #200000, processed 1535338 words, keeping 90395 word types\n",
            "2021-06-05 17:18:41,369 : INFO : PROGRESS: at sentence #210000, processed 1612744 words, keeping 93172 word types\n",
            "2021-06-05 17:18:41,391 : INFO : PROGRESS: at sentence #220000, processed 1689567 words, keeping 96011 word types\n",
            "2021-06-05 17:18:41,415 : INFO : PROGRESS: at sentence #230000, processed 1766522 words, keeping 98794 word types\n",
            "2021-06-05 17:18:41,437 : INFO : PROGRESS: at sentence #240000, processed 1843516 words, keeping 101463 word types\n",
            "2021-06-05 17:18:41,459 : INFO : PROGRESS: at sentence #250000, processed 1920847 words, keeping 104118 word types\n",
            "2021-06-05 17:18:41,480 : INFO : PROGRESS: at sentence #260000, processed 1997728 words, keeping 106724 word types\n",
            "2021-06-05 17:18:41,509 : INFO : PROGRESS: at sentence #270000, processed 2074613 words, keeping 109248 word types\n",
            "2021-06-05 17:18:41,532 : INFO : PROGRESS: at sentence #280000, processed 2151410 words, keeping 111813 word types\n",
            "2021-06-05 17:18:41,556 : INFO : PROGRESS: at sentence #290000, processed 2228694 words, keeping 114268 word types\n",
            "2021-06-05 17:18:41,578 : INFO : PROGRESS: at sentence #300000, processed 2304905 words, keeping 116660 word types\n",
            "2021-06-05 17:18:41,599 : INFO : PROGRESS: at sentence #310000, processed 2381661 words, keeping 119102 word types\n",
            "2021-06-05 17:18:41,618 : INFO : PROGRESS: at sentence #320000, processed 2458629 words, keeping 121526 word types\n",
            "2021-06-05 17:18:41,643 : INFO : PROGRESS: at sentence #330000, processed 2535448 words, keeping 123986 word types\n",
            "2021-06-05 17:18:41,663 : INFO : PROGRESS: at sentence #340000, processed 2612407 words, keeping 126307 word types\n",
            "2021-06-05 17:18:41,686 : INFO : PROGRESS: at sentence #350000, processed 2689406 words, keeping 128607 word types\n",
            "2021-06-05 17:18:41,711 : INFO : PROGRESS: at sentence #360000, processed 2766443 words, keeping 130882 word types\n",
            "2021-06-05 17:18:41,733 : INFO : PROGRESS: at sentence #370000, processed 2843206 words, keeping 133147 word types\n",
            "2021-06-05 17:18:41,753 : INFO : PROGRESS: at sentence #380000, processed 2920121 words, keeping 135449 word types\n",
            "2021-06-05 17:18:41,779 : INFO : PROGRESS: at sentence #390000, processed 2996953 words, keeping 137642 word types\n",
            "2021-06-05 17:18:41,801 : INFO : PROGRESS: at sentence #400000, processed 3074313 words, keeping 139866 word types\n",
            "2021-06-05 17:18:41,825 : INFO : PROGRESS: at sentence #410000, processed 3150731 words, keeping 142069 word types\n",
            "2021-06-05 17:18:41,848 : INFO : PROGRESS: at sentence #420000, processed 3227649 words, keeping 144337 word types\n",
            "2021-06-05 17:18:41,871 : INFO : PROGRESS: at sentence #430000, processed 3304869 words, keeping 146601 word types\n",
            "2021-06-05 17:18:41,892 : INFO : PROGRESS: at sentence #440000, processed 3381697 words, keeping 148715 word types\n",
            "2021-06-05 17:18:41,915 : INFO : PROGRESS: at sentence #450000, processed 3459271 words, keeping 150841 word types\n",
            "2021-06-05 17:18:41,936 : INFO : PROGRESS: at sentence #460000, processed 3536201 words, keeping 152950 word types\n",
            "2021-06-05 17:18:41,958 : INFO : PROGRESS: at sentence #470000, processed 3613862 words, keeping 155118 word types\n",
            "2021-06-05 17:18:41,980 : INFO : PROGRESS: at sentence #480000, processed 3690446 words, keeping 157165 word types\n",
            "2021-06-05 17:18:41,999 : INFO : PROGRESS: at sentence #490000, processed 3767003 words, keeping 159288 word types\n",
            "2021-06-05 17:18:42,023 : INFO : PROGRESS: at sentence #500000, processed 3844001 words, keeping 161370 word types\n",
            "2021-06-05 17:18:42,045 : INFO : PROGRESS: at sentence #510000, processed 3920953 words, keeping 163408 word types\n",
            "2021-06-05 17:18:42,065 : INFO : PROGRESS: at sentence #520000, processed 3998498 words, keeping 165455 word types\n",
            "2021-06-05 17:18:42,087 : INFO : PROGRESS: at sentence #530000, processed 4075814 words, keeping 167568 word types\n",
            "2021-06-05 17:18:42,108 : INFO : PROGRESS: at sentence #540000, processed 4152561 words, keeping 169516 word types\n",
            "2021-06-05 17:18:42,133 : INFO : PROGRESS: at sentence #550000, processed 4229061 words, keeping 171516 word types\n",
            "2021-06-05 17:18:42,160 : INFO : PROGRESS: at sentence #560000, processed 4306391 words, keeping 173546 word types\n",
            "2021-06-05 17:18:42,190 : INFO : PROGRESS: at sentence #570000, processed 4383381 words, keeping 175546 word types\n",
            "2021-06-05 17:18:42,218 : INFO : PROGRESS: at sentence #580000, processed 4460222 words, keeping 177451 word types\n",
            "2021-06-05 17:18:42,241 : INFO : PROGRESS: at sentence #590000, processed 4537180 words, keeping 179316 word types\n",
            "2021-06-05 17:18:42,262 : INFO : PROGRESS: at sentence #600000, processed 4614254 words, keeping 181221 word types\n",
            "2021-06-05 17:18:42,284 : INFO : PROGRESS: at sentence #610000, processed 4691388 words, keeping 183197 word types\n",
            "2021-06-05 17:18:42,306 : INFO : PROGRESS: at sentence #620000, processed 4768430 words, keeping 185064 word types\n",
            "2021-06-05 17:18:42,330 : INFO : PROGRESS: at sentence #630000, processed 4845011 words, keeping 186980 word types\n",
            "2021-06-05 17:18:42,356 : INFO : PROGRESS: at sentence #640000, processed 4922420 words, keeping 188850 word types\n",
            "2021-06-05 17:18:42,376 : INFO : PROGRESS: at sentence #650000, processed 4999948 words, keeping 190758 word types\n",
            "2021-06-05 17:18:42,402 : INFO : PROGRESS: at sentence #660000, processed 5076701 words, keeping 192522 word types\n",
            "2021-06-05 17:18:42,424 : INFO : PROGRESS: at sentence #670000, processed 5154005 words, keeping 194347 word types\n",
            "2021-06-05 17:18:42,447 : INFO : PROGRESS: at sentence #680000, processed 5230346 words, keeping 196327 word types\n",
            "2021-06-05 17:18:42,473 : INFO : PROGRESS: at sentence #690000, processed 5307579 words, keeping 198157 word types\n",
            "2021-06-05 17:18:42,495 : INFO : PROGRESS: at sentence #700000, processed 5385001 words, keeping 199961 word types\n",
            "2021-06-05 17:18:42,525 : INFO : PROGRESS: at sentence #710000, processed 5462470 words, keeping 201777 word types\n",
            "2021-06-05 17:18:42,545 : INFO : PROGRESS: at sentence #720000, processed 5539135 words, keeping 203624 word types\n",
            "2021-06-05 17:18:42,570 : INFO : PROGRESS: at sentence #730000, processed 5615515 words, keeping 205466 word types\n",
            "2021-06-05 17:18:42,592 : INFO : PROGRESS: at sentence #740000, processed 5692286 words, keeping 207196 word types\n",
            "2021-06-05 17:18:42,612 : INFO : PROGRESS: at sentence #750000, processed 5768927 words, keeping 208945 word types\n",
            "2021-06-05 17:18:42,635 : INFO : PROGRESS: at sentence #760000, processed 5845847 words, keeping 210717 word types\n",
            "2021-06-05 17:18:42,657 : INFO : PROGRESS: at sentence #770000, processed 5923211 words, keeping 212536 word types\n",
            "2021-06-05 17:18:42,680 : INFO : PROGRESS: at sentence #780000, processed 5999152 words, keeping 214302 word types\n",
            "2021-06-05 17:18:42,702 : INFO : PROGRESS: at sentence #790000, processed 6076689 words, keeping 216136 word types\n",
            "2021-06-05 17:18:42,726 : INFO : PROGRESS: at sentence #800000, processed 6154247 words, keeping 217922 word types\n",
            "2021-06-05 17:18:42,749 : INFO : PROGRESS: at sentence #810000, processed 6231654 words, keeping 219585 word types\n",
            "2021-06-05 17:18:42,772 : INFO : PROGRESS: at sentence #820000, processed 6308555 words, keeping 221411 word types\n",
            "2021-06-05 17:18:42,796 : INFO : PROGRESS: at sentence #830000, processed 6384949 words, keeping 223227 word types\n",
            "2021-06-05 17:18:42,816 : INFO : PROGRESS: at sentence #840000, processed 6461026 words, keeping 225017 word types\n",
            "2021-06-05 17:18:42,842 : INFO : PROGRESS: at sentence #850000, processed 6537925 words, keeping 226706 word types\n",
            "2021-06-05 17:18:42,864 : INFO : PROGRESS: at sentence #860000, processed 6614519 words, keeping 228380 word types\n",
            "2021-06-05 17:18:42,893 : INFO : PROGRESS: at sentence #870000, processed 6691833 words, keeping 230121 word types\n",
            "2021-06-05 17:18:42,913 : INFO : PROGRESS: at sentence #880000, processed 6768758 words, keeping 231771 word types\n",
            "2021-06-05 17:18:42,936 : INFO : PROGRESS: at sentence #890000, processed 6845618 words, keeping 233446 word types\n",
            "2021-06-05 17:18:42,960 : INFO : PROGRESS: at sentence #900000, processed 6922156 words, keeping 235232 word types\n",
            "2021-06-05 17:18:42,980 : INFO : PROGRESS: at sentence #910000, processed 6999273 words, keeping 236922 word types\n",
            "2021-06-05 17:18:43,003 : INFO : PROGRESS: at sentence #920000, processed 7076235 words, keeping 238591 word types\n",
            "2021-06-05 17:18:43,027 : INFO : PROGRESS: at sentence #930000, processed 7153443 words, keeping 240332 word types\n",
            "2021-06-05 17:18:43,052 : INFO : PROGRESS: at sentence #940000, processed 7229662 words, keeping 242025 word types\n",
            "2021-06-05 17:18:43,075 : INFO : PROGRESS: at sentence #950000, processed 7306988 words, keeping 243725 word types\n",
            "2021-06-05 17:18:43,101 : INFO : PROGRESS: at sentence #960000, processed 7383762 words, keeping 245393 word types\n",
            "2021-06-05 17:18:43,124 : INFO : PROGRESS: at sentence #970000, processed 7460781 words, keeping 247035 word types\n",
            "2021-06-05 17:18:43,148 : INFO : PROGRESS: at sentence #980000, processed 7536963 words, keeping 248730 word types\n",
            "2021-06-05 17:18:43,168 : INFO : PROGRESS: at sentence #990000, processed 7613541 words, keeping 250303 word types\n",
            "2021-06-05 17:18:43,191 : INFO : PROGRESS: at sentence #1000000, processed 7689709 words, keeping 251857 word types\n",
            "2021-06-05 17:18:43,214 : INFO : PROGRESS: at sentence #1010000, processed 7766016 words, keeping 253452 word types\n",
            "2021-06-05 17:18:43,237 : INFO : PROGRESS: at sentence #1020000, processed 7842794 words, keeping 255067 word types\n",
            "2021-06-05 17:18:43,259 : INFO : PROGRESS: at sentence #1030000, processed 7919119 words, keeping 256599 word types\n",
            "2021-06-05 17:18:43,289 : INFO : PROGRESS: at sentence #1040000, processed 7995658 words, keeping 258191 word types\n",
            "2021-06-05 17:18:43,310 : INFO : PROGRESS: at sentence #1050000, processed 8072008 words, keeping 259763 word types\n",
            "2021-06-05 17:18:43,334 : INFO : PROGRESS: at sentence #1060000, processed 8149485 words, keeping 261357 word types\n",
            "2021-06-05 17:18:43,358 : INFO : PROGRESS: at sentence #1070000, processed 8225757 words, keeping 262862 word types\n",
            "2021-06-05 17:18:43,380 : INFO : PROGRESS: at sentence #1080000, processed 8303058 words, keeping 264440 word types\n",
            "2021-06-05 17:18:43,403 : INFO : PROGRESS: at sentence #1090000, processed 8379822 words, keeping 266079 word types\n",
            "2021-06-05 17:18:43,423 : INFO : PROGRESS: at sentence #1100000, processed 8457254 words, keeping 267708 word types\n",
            "2021-06-05 17:18:43,447 : INFO : PROGRESS: at sentence #1110000, processed 8534290 words, keeping 269256 word types\n",
            "2021-06-05 17:18:43,468 : INFO : PROGRESS: at sentence #1120000, processed 8610688 words, keeping 270797 word types\n",
            "2021-06-05 17:18:43,494 : INFO : PROGRESS: at sentence #1130000, processed 8687810 words, keeping 272352 word types\n",
            "2021-06-05 17:18:43,521 : INFO : PROGRESS: at sentence #1140000, processed 8764828 words, keeping 273945 word types\n",
            "2021-06-05 17:18:43,546 : INFO : PROGRESS: at sentence #1150000, processed 8841622 words, keeping 275491 word types\n",
            "2021-06-05 17:18:43,570 : INFO : PROGRESS: at sentence #1160000, processed 8917656 words, keeping 277022 word types\n",
            "2021-06-05 17:18:43,596 : INFO : PROGRESS: at sentence #1170000, processed 8994096 words, keeping 278606 word types\n",
            "2021-06-05 17:18:43,617 : INFO : PROGRESS: at sentence #1180000, processed 9071294 words, keeping 280187 word types\n",
            "2021-06-05 17:18:43,641 : INFO : PROGRESS: at sentence #1190000, processed 9147283 words, keeping 281704 word types\n",
            "2021-06-05 17:18:43,661 : INFO : PROGRESS: at sentence #1200000, processed 9223582 words, keeping 283173 word types\n",
            "2021-06-05 17:18:43,689 : INFO : PROGRESS: at sentence #1210000, processed 9299636 words, keeping 284700 word types\n",
            "2021-06-05 17:18:43,712 : INFO : PROGRESS: at sentence #1220000, processed 9376242 words, keeping 286190 word types\n",
            "2021-06-05 17:18:43,733 : INFO : PROGRESS: at sentence #1230000, processed 9452891 words, keeping 287768 word types\n",
            "2021-06-05 17:18:43,759 : INFO : PROGRESS: at sentence #1240000, processed 9530145 words, keeping 289346 word types\n",
            "2021-06-05 17:18:43,779 : INFO : PROGRESS: at sentence #1250000, processed 9607733 words, keeping 290896 word types\n",
            "2021-06-05 17:18:43,803 : INFO : PROGRESS: at sentence #1260000, processed 9684920 words, keeping 292387 word types\n",
            "2021-06-05 17:18:43,829 : INFO : PROGRESS: at sentence #1270000, processed 9762087 words, keeping 293877 word types\n",
            "2021-06-05 17:18:43,851 : INFO : collected 295347 word types from a corpus of 9838428 raw words and 1280000 sentences\n",
            "2021-06-05 17:18:43,852 : INFO : Loading a fresh vocabulary\n",
            "2021-06-05 17:18:44,013 : INFO : effective_min_count=10 retains 30737 unique words (10% of original 295347, drops 264610)\n",
            "2021-06-05 17:18:44,014 : INFO : effective_min_count=10 leaves 9384925 word corpus (95% of original 9838428, drops 453503)\n",
            "2021-06-05 17:18:44,103 : INFO : deleting the raw counts dictionary of 295347 items\n",
            "2021-06-05 17:18:44,111 : INFO : sample=0.001 downsamples 50 most-common words\n",
            "2021-06-05 17:18:44,117 : INFO : downsampling leaves estimated 8660172 word corpus (92.3% of prior 9384925)\n",
            "2021-06-05 17:18:44,191 : INFO : estimated required memory for 30737 words and 300 dimensions: 89137300 bytes\n",
            "2021-06-05 17:18:44,192 : INFO : resetting layer weights\n"
          ],
          "name": "stderr"
        }
      ]
    },
    {
      "cell_type": "code",
      "metadata": {
        "colab": {
          "base_uri": "https://localhost:8080/"
        },
        "id": "By5S6VCvdCLe",
        "outputId": "dd6dbcf1-719b-417a-cf11-d79c92239474"
      },
      "source": [
        "words = w2v_model.wv.vocab.keys()\n",
        "vocab_size = len(words)\n",
        "print(\"Vocab size\", vocab_size)"
      ],
      "execution_count": null,
      "outputs": [
        {
          "output_type": "stream",
          "text": [
            "Vocab size 30737\n"
          ],
          "name": "stdout"
        }
      ]
    },
    {
      "cell_type": "code",
      "metadata": {
        "colab": {
          "base_uri": "https://localhost:8080/"
        },
        "id": "n1597uEJdCQh",
        "outputId": "d774cc61-80aa-4267-9b8d-a8da158089c1"
      },
      "source": [
        "%%time\n",
        "w2v_model.train(documents, total_examples=len(documents), epochs=W2V_EPOCH)"
      ],
      "execution_count": null,
      "outputs": [
        {
          "output_type": "stream",
          "text": [
            "2021-06-05 17:18:49,286 : INFO : training model with 8 workers on 30737 vocabulary and 300 features, using sg=0 hs=0 sample=0.001 negative=5 window=7\n",
            "2021-06-05 17:18:50,325 : INFO : EPOCH 1 - PROGRESS: at 4.48% examples, 377834 words/s, in_qsize 13, out_qsize 4\n",
            "2021-06-05 17:18:51,333 : INFO : EPOCH 1 - PROGRESS: at 9.47% examples, 402796 words/s, in_qsize 15, out_qsize 3\n",
            "2021-06-05 17:18:52,339 : INFO : EPOCH 1 - PROGRESS: at 14.45% examples, 411272 words/s, in_qsize 16, out_qsize 0\n",
            "2021-06-05 17:18:53,371 : INFO : EPOCH 1 - PROGRESS: at 19.51% examples, 415067 words/s, in_qsize 12, out_qsize 3\n",
            "2021-06-05 17:18:54,410 : INFO : EPOCH 1 - PROGRESS: at 24.70% examples, 418399 words/s, in_qsize 13, out_qsize 3\n",
            "2021-06-05 17:18:55,488 : INFO : EPOCH 1 - PROGRESS: at 30.08% examples, 420933 words/s, in_qsize 13, out_qsize 5\n",
            "2021-06-05 17:18:56,518 : INFO : EPOCH 1 - PROGRESS: at 35.15% examples, 422802 words/s, in_qsize 16, out_qsize 6\n",
            "2021-06-05 17:18:57,529 : INFO : EPOCH 1 - PROGRESS: at 40.62% examples, 427726 words/s, in_qsize 15, out_qsize 0\n",
            "2021-06-05 17:18:58,572 : INFO : EPOCH 1 - PROGRESS: at 45.70% examples, 427101 words/s, in_qsize 11, out_qsize 4\n",
            "2021-06-05 17:18:59,619 : INFO : EPOCH 1 - PROGRESS: at 51.07% examples, 429710 words/s, in_qsize 14, out_qsize 3\n",
            "2021-06-05 17:19:00,610 : INFO : EPOCH 1 - PROGRESS: at 56.03% examples, 429527 words/s, in_qsize 15, out_qsize 2\n",
            "2021-06-05 17:19:01,624 : INFO : EPOCH 1 - PROGRESS: at 61.32% examples, 431298 words/s, in_qsize 15, out_qsize 0\n",
            "2021-06-05 17:19:02,625 : INFO : EPOCH 1 - PROGRESS: at 66.70% examples, 433894 words/s, in_qsize 13, out_qsize 0\n",
            "2021-06-05 17:19:03,707 : INFO : EPOCH 1 - PROGRESS: at 71.68% examples, 431250 words/s, in_qsize 15, out_qsize 0\n",
            "2021-06-05 17:19:04,713 : INFO : EPOCH 1 - PROGRESS: at 77.17% examples, 433930 words/s, in_qsize 15, out_qsize 0\n",
            "2021-06-05 17:19:05,735 : INFO : EPOCH 1 - PROGRESS: at 82.27% examples, 433732 words/s, in_qsize 15, out_qsize 0\n",
            "2021-06-05 17:19:06,817 : INFO : EPOCH 1 - PROGRESS: at 87.66% examples, 433549 words/s, in_qsize 15, out_qsize 0\n",
            "2021-06-05 17:19:07,827 : INFO : EPOCH 1 - PROGRESS: at 92.64% examples, 433189 words/s, in_qsize 16, out_qsize 6\n",
            "2021-06-05 17:19:08,832 : INFO : EPOCH 1 - PROGRESS: at 98.24% examples, 435668 words/s, in_qsize 14, out_qsize 0\n",
            "2021-06-05 17:19:09,049 : INFO : worker thread finished; awaiting finish of 7 more threads\n",
            "2021-06-05 17:19:09,052 : INFO : worker thread finished; awaiting finish of 6 more threads\n",
            "2021-06-05 17:19:09,060 : INFO : worker thread finished; awaiting finish of 5 more threads\n",
            "2021-06-05 17:19:09,079 : INFO : worker thread finished; awaiting finish of 4 more threads\n",
            "2021-06-05 17:19:09,092 : INFO : worker thread finished; awaiting finish of 3 more threads\n",
            "2021-06-05 17:19:09,097 : INFO : worker thread finished; awaiting finish of 2 more threads\n",
            "2021-06-05 17:19:09,101 : INFO : worker thread finished; awaiting finish of 1 more threads\n",
            "2021-06-05 17:19:09,104 : INFO : worker thread finished; awaiting finish of 0 more threads\n",
            "2021-06-05 17:19:09,105 : INFO : EPOCH - 1 : training on 9838428 raw words (8661195 effective words) took 19.8s, 437349 effective words/s\n",
            "2021-06-05 17:19:10,149 : INFO : EPOCH 2 - PROGRESS: at 4.79% examples, 401689 words/s, in_qsize 16, out_qsize 2\n",
            "2021-06-05 17:19:11,155 : INFO : EPOCH 2 - PROGRESS: at 10.49% examples, 445284 words/s, in_qsize 15, out_qsize 0\n",
            "2021-06-05 17:19:12,178 : INFO : EPOCH 2 - PROGRESS: at 14.95% examples, 422905 words/s, in_qsize 16, out_qsize 5\n",
            "2021-06-05 17:19:13,236 : INFO : EPOCH 2 - PROGRESS: at 20.63% examples, 433783 words/s, in_qsize 15, out_qsize 0\n",
            "2021-06-05 17:19:14,253 : INFO : EPOCH 2 - PROGRESS: at 25.82% examples, 435249 words/s, in_qsize 15, out_qsize 0\n",
            "2021-06-05 17:19:15,265 : INFO : EPOCH 2 - PROGRESS: at 30.79% examples, 433803 words/s, in_qsize 15, out_qsize 7\n",
            "2021-06-05 17:19:16,285 : INFO : EPOCH 2 - PROGRESS: at 35.85% examples, 433929 words/s, in_qsize 16, out_qsize 2\n",
            "2021-06-05 17:19:17,315 : INFO : EPOCH 2 - PROGRESS: at 41.13% examples, 434785 words/s, in_qsize 15, out_qsize 0\n",
            "2021-06-05 17:19:18,369 : INFO : EPOCH 2 - PROGRESS: at 46.10% examples, 431871 words/s, in_qsize 15, out_qsize 0\n",
            "2021-06-05 17:19:19,371 : INFO : EPOCH 2 - PROGRESS: at 51.27% examples, 433453 words/s, in_qsize 15, out_qsize 0\n",
            "2021-06-05 17:19:20,477 : INFO : EPOCH 2 - PROGRESS: at 56.24% examples, 429223 words/s, in_qsize 10, out_qsize 5\n",
            "2021-06-05 17:19:21,483 : INFO : EPOCH 2 - PROGRESS: at 61.62% examples, 432011 words/s, in_qsize 16, out_qsize 2\n",
            "2021-06-05 17:19:22,497 : INFO : EPOCH 2 - PROGRESS: at 66.80% examples, 432812 words/s, in_qsize 15, out_qsize 0\n",
            "2021-06-05 17:19:23,507 : INFO : EPOCH 2 - PROGRESS: at 71.27% examples, 429354 words/s, in_qsize 16, out_qsize 0\n",
            "2021-06-05 17:19:24,514 : INFO : EPOCH 2 - PROGRESS: at 76.25% examples, 429254 words/s, in_qsize 14, out_qsize 1\n",
            "2021-06-05 17:19:25,561 : INFO : EPOCH 2 - PROGRESS: at 81.36% examples, 428691 words/s, in_qsize 15, out_qsize 3\n",
            "2021-06-05 17:19:26,577 : INFO : EPOCH 2 - PROGRESS: at 86.64% examples, 429933 words/s, in_qsize 15, out_qsize 0\n",
            "2021-06-05 17:19:27,641 : INFO : EPOCH 2 - PROGRESS: at 91.93% examples, 429947 words/s, in_qsize 16, out_qsize 0\n",
            "2021-06-05 17:19:28,649 : INFO : EPOCH 2 - PROGRESS: at 97.03% examples, 430260 words/s, in_qsize 15, out_qsize 0\n",
            "2021-06-05 17:19:29,076 : INFO : worker thread finished; awaiting finish of 7 more threads\n",
            "2021-06-05 17:19:29,088 : INFO : worker thread finished; awaiting finish of 6 more threads\n",
            "2021-06-05 17:19:29,110 : INFO : worker thread finished; awaiting finish of 5 more threads\n",
            "2021-06-05 17:19:29,115 : INFO : worker thread finished; awaiting finish of 4 more threads\n",
            "2021-06-05 17:19:29,123 : INFO : worker thread finished; awaiting finish of 3 more threads\n",
            "2021-06-05 17:19:29,125 : INFO : worker thread finished; awaiting finish of 2 more threads\n",
            "2021-06-05 17:19:29,128 : INFO : worker thread finished; awaiting finish of 1 more threads\n",
            "2021-06-05 17:19:29,151 : INFO : worker thread finished; awaiting finish of 0 more threads\n",
            "2021-06-05 17:19:29,152 : INFO : EPOCH - 2 : training on 9838428 raw words (8660723 effective words) took 20.0s, 432324 effective words/s\n",
            "2021-06-05 17:19:30,221 : INFO : EPOCH 3 - PROGRESS: at 4.89% examples, 400034 words/s, in_qsize 15, out_qsize 0\n",
            "2021-06-05 17:19:31,268 : INFO : EPOCH 3 - PROGRESS: at 9.97% examples, 410051 words/s, in_qsize 15, out_qsize 0\n",
            "2021-06-05 17:19:32,373 : INFO : EPOCH 3 - PROGRESS: at 15.46% examples, 416942 words/s, in_qsize 15, out_qsize 0\n",
            "2021-06-05 17:19:33,384 : INFO : EPOCH 3 - PROGRESS: at 20.63% examples, 424300 words/s, in_qsize 13, out_qsize 4\n",
            "2021-06-05 17:19:34,440 : INFO : EPOCH 3 - PROGRESS: at 25.92% examples, 425320 words/s, in_qsize 15, out_qsize 0\n",
            "2021-06-05 17:19:35,446 : INFO : EPOCH 3 - PROGRESS: at 31.09% examples, 428644 words/s, in_qsize 15, out_qsize 0\n",
            "2021-06-05 17:19:36,455 : INFO : EPOCH 3 - PROGRESS: at 36.26% examples, 430869 words/s, in_qsize 15, out_qsize 0\n",
            "2021-06-05 17:19:37,458 : INFO : EPOCH 3 - PROGRESS: at 41.13% examples, 429709 words/s, in_qsize 15, out_qsize 3\n",
            "2021-06-05 17:19:38,480 : INFO : EPOCH 3 - PROGRESS: at 46.51% examples, 432604 words/s, in_qsize 15, out_qsize 0\n",
            "2021-06-05 17:19:39,481 : INFO : EPOCH 3 - PROGRESS: at 51.77% examples, 435008 words/s, in_qsize 15, out_qsize 0\n",
            "2021-06-05 17:19:40,499 : INFO : EPOCH 3 - PROGRESS: at 56.85% examples, 434779 words/s, in_qsize 11, out_qsize 6\n",
            "2021-06-05 17:19:41,609 : INFO : EPOCH 3 - PROGRESS: at 62.43% examples, 436180 words/s, in_qsize 10, out_qsize 7\n",
            "2021-06-05 17:19:42,588 : INFO : EPOCH 3 - PROGRESS: at 67.92% examples, 438542 words/s, in_qsize 15, out_qsize 0\n",
            "2021-06-05 17:19:43,598 : INFO : EPOCH 3 - PROGRESS: at 73.51% examples, 441392 words/s, in_qsize 15, out_qsize 0\n",
            "2021-06-05 17:19:44,707 : INFO : EPOCH 3 - PROGRESS: at 78.71% examples, 438773 words/s, in_qsize 15, out_qsize 2\n",
            "2021-06-05 17:19:45,741 : INFO : EPOCH 3 - PROGRESS: at 84.20% examples, 440073 words/s, in_qsize 15, out_qsize 0\n",
            "2021-06-05 17:19:46,780 : INFO : EPOCH 3 - PROGRESS: at 89.38% examples, 439578 words/s, in_qsize 16, out_qsize 2\n",
            "2021-06-05 17:19:47,803 : INFO : EPOCH 3 - PROGRESS: at 94.69% examples, 439984 words/s, in_qsize 16, out_qsize 4\n",
            "2021-06-05 17:19:48,626 : INFO : worker thread finished; awaiting finish of 7 more threads\n",
            "2021-06-05 17:19:48,642 : INFO : worker thread finished; awaiting finish of 6 more threads\n",
            "2021-06-05 17:19:48,644 : INFO : worker thread finished; awaiting finish of 5 more threads\n",
            "2021-06-05 17:19:48,665 : INFO : worker thread finished; awaiting finish of 4 more threads\n",
            "2021-06-05 17:19:48,667 : INFO : worker thread finished; awaiting finish of 3 more threads\n",
            "2021-06-05 17:19:48,671 : INFO : worker thread finished; awaiting finish of 2 more threads\n",
            "2021-06-05 17:19:48,674 : INFO : worker thread finished; awaiting finish of 1 more threads\n",
            "2021-06-05 17:19:48,684 : INFO : worker thread finished; awaiting finish of 0 more threads\n",
            "2021-06-05 17:19:48,685 : INFO : EPOCH - 3 : training on 9838428 raw words (8660217 effective words) took 19.5s, 443664 effective words/s\n",
            "2021-06-05 17:19:49,737 : INFO : EPOCH 4 - PROGRESS: at 4.99% examples, 414030 words/s, in_qsize 16, out_qsize 0\n",
            "2021-06-05 17:19:50,740 : INFO : EPOCH 4 - PROGRESS: at 10.08% examples, 426301 words/s, in_qsize 14, out_qsize 0\n",
            "2021-06-05 17:19:51,798 : INFO : EPOCH 4 - PROGRESS: at 15.26% examples, 425359 words/s, in_qsize 16, out_qsize 2\n",
            "2021-06-05 17:19:52,869 : INFO : EPOCH 4 - PROGRESS: at 20.83% examples, 432096 words/s, in_qsize 15, out_qsize 0\n",
            "2021-06-05 17:19:53,906 : INFO : EPOCH 4 - PROGRESS: at 25.92% examples, 430553 words/s, in_qsize 16, out_qsize 1\n",
            "2021-06-05 17:19:54,959 : INFO : EPOCH 4 - PROGRESS: at 31.60% examples, 436896 words/s, in_qsize 15, out_qsize 0\n",
            "2021-06-05 17:19:55,994 : INFO : EPOCH 4 - PROGRESS: at 36.87% examples, 437611 words/s, in_qsize 15, out_qsize 0\n",
            "2021-06-05 17:19:57,007 : INFO : EPOCH 4 - PROGRESS: at 42.04% examples, 438291 words/s, in_qsize 16, out_qsize 0\n",
            "2021-06-05 17:19:58,046 : INFO : EPOCH 4 - PROGRESS: at 47.42% examples, 439460 words/s, in_qsize 15, out_qsize 0\n",
            "2021-06-05 17:19:59,140 : INFO : EPOCH 4 - PROGRESS: at 53.10% examples, 440616 words/s, in_qsize 15, out_qsize 0\n",
            "2021-06-05 17:20:00,148 : INFO : EPOCH 4 - PROGRESS: at 58.78% examples, 445031 words/s, in_qsize 16, out_qsize 0\n",
            "2021-06-05 17:20:01,166 : INFO : EPOCH 4 - PROGRESS: at 63.84% examples, 443787 words/s, in_qsize 15, out_qsize 0\n",
            "2021-06-05 17:20:02,173 : INFO : EPOCH 4 - PROGRESS: at 69.34% examples, 445916 words/s, in_qsize 14, out_qsize 0\n",
            "2021-06-05 17:20:03,197 : INFO : EPOCH 4 - PROGRESS: at 74.62% examples, 445961 words/s, in_qsize 15, out_qsize 0\n",
            "2021-06-05 17:20:04,236 : INFO : EPOCH 4 - PROGRESS: at 79.93% examples, 445570 words/s, in_qsize 16, out_qsize 0\n",
            "2021-06-05 17:20:05,257 : INFO : EPOCH 4 - PROGRESS: at 84.91% examples, 444150 words/s, in_qsize 16, out_qsize 3\n",
            "2021-06-05 17:20:06,278 : INFO : EPOCH 4 - PROGRESS: at 90.51% examples, 445849 words/s, in_qsize 15, out_qsize 0\n",
            "2021-06-05 17:20:07,331 : INFO : EPOCH 4 - PROGRESS: at 95.71% examples, 444730 words/s, in_qsize 15, out_qsize 0\n",
            "2021-06-05 17:20:07,945 : INFO : worker thread finished; awaiting finish of 7 more threads\n",
            "2021-06-05 17:20:07,983 : INFO : worker thread finished; awaiting finish of 6 more threads\n",
            "2021-06-05 17:20:08,000 : INFO : worker thread finished; awaiting finish of 5 more threads\n",
            "2021-06-05 17:20:08,026 : INFO : worker thread finished; awaiting finish of 4 more threads\n",
            "2021-06-05 17:20:08,034 : INFO : worker thread finished; awaiting finish of 3 more threads\n",
            "2021-06-05 17:20:08,042 : INFO : worker thread finished; awaiting finish of 2 more threads\n",
            "2021-06-05 17:20:08,045 : INFO : worker thread finished; awaiting finish of 1 more threads\n",
            "2021-06-05 17:20:08,046 : INFO : worker thread finished; awaiting finish of 0 more threads\n",
            "2021-06-05 17:20:08,047 : INFO : EPOCH - 4 : training on 9838428 raw words (8659339 effective words) took 19.4s, 447496 effective words/s\n",
            "2021-06-05 17:20:09,087 : INFO : EPOCH 5 - PROGRESS: at 4.78% examples, 412123 words/s, in_qsize 15, out_qsize 0\n",
            "2021-06-05 17:20:10,067 : INFO : EPOCH 5 - PROGRESS: at 10.18% examples, 438308 words/s, in_qsize 13, out_qsize 0\n",
            "2021-06-05 17:20:11,151 : INFO : EPOCH 5 - PROGRESS: at 15.46% examples, 432499 words/s, in_qsize 13, out_qsize 3\n",
            "2021-06-05 17:20:12,155 : INFO : EPOCH 5 - PROGRESS: at 21.04% examples, 444581 words/s, in_qsize 15, out_qsize 0\n",
            "2021-06-05 17:20:13,194 : INFO : EPOCH 5 - PROGRESS: at 26.22% examples, 442049 words/s, in_qsize 15, out_qsize 0\n",
            "2021-06-05 17:20:14,196 : INFO : EPOCH 5 - PROGRESS: at 31.60% examples, 445916 words/s, in_qsize 16, out_qsize 1\n",
            "2021-06-05 17:20:15,221 : INFO : EPOCH 5 - PROGRESS: at 36.76% examples, 444769 words/s, in_qsize 14, out_qsize 1\n",
            "2021-06-05 17:20:16,244 : INFO : EPOCH 5 - PROGRESS: at 42.25% examples, 447230 words/s, in_qsize 14, out_qsize 2\n",
            "2021-06-05 17:20:17,353 : INFO : EPOCH 5 - PROGRESS: at 47.52% examples, 443083 words/s, in_qsize 15, out_qsize 0\n",
            "2021-06-05 17:20:18,357 : INFO : EPOCH 5 - PROGRESS: at 53.30% examples, 448631 words/s, in_qsize 14, out_qsize 1\n",
            "2021-06-05 17:20:19,391 : INFO : EPOCH 5 - PROGRESS: at 58.17% examples, 444968 words/s, in_qsize 16, out_qsize 1\n",
            "2021-06-05 17:20:20,441 : INFO : EPOCH 5 - PROGRESS: at 63.64% examples, 445588 words/s, in_qsize 15, out_qsize 0\n",
            "2021-06-05 17:20:21,453 : INFO : EPOCH 5 - PROGRESS: at 68.63% examples, 444148 words/s, in_qsize 14, out_qsize 1\n",
            "2021-06-05 17:20:22,484 : INFO : EPOCH 5 - PROGRESS: at 73.91% examples, 444096 words/s, in_qsize 15, out_qsize 0\n",
            "2021-06-05 17:20:23,532 : INFO : EPOCH 5 - PROGRESS: at 79.21% examples, 443560 words/s, in_qsize 15, out_qsize 0\n",
            "2021-06-05 17:20:24,576 : INFO : EPOCH 5 - PROGRESS: at 84.81% examples, 444857 words/s, in_qsize 15, out_qsize 0\n",
            "2021-06-05 17:20:25,605 : INFO : EPOCH 5 - PROGRESS: at 89.99% examples, 444332 words/s, in_qsize 14, out_qsize 1\n",
            "2021-06-05 17:20:26,661 : INFO : EPOCH 5 - PROGRESS: at 95.00% examples, 442259 words/s, in_qsize 12, out_qsize 3\n",
            "2021-06-05 17:20:27,414 : INFO : worker thread finished; awaiting finish of 7 more threads\n",
            "2021-06-05 17:20:27,417 : INFO : worker thread finished; awaiting finish of 6 more threads\n",
            "2021-06-05 17:20:27,423 : INFO : worker thread finished; awaiting finish of 5 more threads\n",
            "2021-06-05 17:20:27,427 : INFO : worker thread finished; awaiting finish of 4 more threads\n",
            "2021-06-05 17:20:27,454 : INFO : worker thread finished; awaiting finish of 3 more threads\n",
            "2021-06-05 17:20:27,465 : INFO : worker thread finished; awaiting finish of 2 more threads\n",
            "2021-06-05 17:20:27,471 : INFO : worker thread finished; awaiting finish of 1 more threads\n",
            "2021-06-05 17:20:27,482 : INFO : worker thread finished; awaiting finish of 0 more threads\n",
            "2021-06-05 17:20:27,484 : INFO : EPOCH - 5 : training on 9838428 raw words (8660049 effective words) took 19.4s, 445839 effective words/s\n",
            "2021-06-05 17:20:28,527 : INFO : EPOCH 6 - PROGRESS: at 4.48% examples, 374823 words/s, in_qsize 15, out_qsize 0\n",
            "2021-06-05 17:20:29,534 : INFO : EPOCH 6 - PROGRESS: at 10.08% examples, 427187 words/s, in_qsize 15, out_qsize 0\n",
            "2021-06-05 17:20:30,572 : INFO : EPOCH 6 - PROGRESS: at 14.95% examples, 420314 words/s, in_qsize 15, out_qsize 0\n",
            "2021-06-05 17:20:31,587 : INFO : EPOCH 6 - PROGRESS: at 20.53% examples, 434291 words/s, in_qsize 15, out_qsize 0\n",
            "2021-06-05 17:20:32,630 : INFO : EPOCH 6 - PROGRESS: at 25.82% examples, 435166 words/s, in_qsize 15, out_qsize 0\n",
            "2021-06-05 17:20:33,636 : INFO : EPOCH 6 - PROGRESS: at 31.09% examples, 438423 words/s, in_qsize 15, out_qsize 0\n",
            "2021-06-05 17:20:34,661 : INFO : EPOCH 6 - PROGRESS: at 36.16% examples, 437116 words/s, in_qsize 14, out_qsize 1\n",
            "2021-06-05 17:20:35,671 : INFO : EPOCH 6 - PROGRESS: at 41.53% examples, 440153 words/s, in_qsize 15, out_qsize 0\n",
            "2021-06-05 17:20:36,708 : INFO : EPOCH 6 - PROGRESS: at 46.71% examples, 439363 words/s, in_qsize 15, out_qsize 0\n",
            "2021-06-05 17:20:37,714 : INFO : EPOCH 6 - PROGRESS: at 51.87% examples, 440019 words/s, in_qsize 15, out_qsize 0\n",
            "2021-06-05 17:20:38,737 : INFO : EPOCH 6 - PROGRESS: at 57.05% examples, 439879 words/s, in_qsize 16, out_qsize 1\n",
            "2021-06-05 17:20:39,737 : INFO : EPOCH 6 - PROGRESS: at 62.74% examples, 444200 words/s, in_qsize 14, out_qsize 1\n",
            "2021-06-05 17:20:40,783 : INFO : EPOCH 6 - PROGRESS: at 67.92% examples, 443039 words/s, in_qsize 14, out_qsize 1\n",
            "2021-06-05 17:20:41,816 : INFO : EPOCH 6 - PROGRESS: at 73.41% examples, 444279 words/s, in_qsize 16, out_qsize 0\n",
            "2021-06-05 17:20:42,843 : INFO : EPOCH 6 - PROGRESS: at 78.50% examples, 443218 words/s, in_qsize 16, out_qsize 1\n",
            "2021-06-05 17:20:43,844 : INFO : EPOCH 6 - PROGRESS: at 84.11% examples, 445667 words/s, in_qsize 16, out_qsize 0\n",
            "2021-06-05 17:20:44,856 : INFO : EPOCH 6 - PROGRESS: at 89.58% examples, 447050 words/s, in_qsize 14, out_qsize 1\n",
            "2021-06-05 17:20:45,866 : INFO : EPOCH 6 - PROGRESS: at 94.79% examples, 446862 words/s, in_qsize 16, out_qsize 2\n",
            "2021-06-05 17:20:46,660 : INFO : worker thread finished; awaiting finish of 7 more threads\n",
            "2021-06-05 17:20:46,668 : INFO : worker thread finished; awaiting finish of 6 more threads\n",
            "2021-06-05 17:20:46,693 : INFO : worker thread finished; awaiting finish of 5 more threads\n",
            "2021-06-05 17:20:46,709 : INFO : worker thread finished; awaiting finish of 4 more threads\n",
            "2021-06-05 17:20:46,731 : INFO : worker thread finished; awaiting finish of 3 more threads\n",
            "2021-06-05 17:20:46,757 : INFO : worker thread finished; awaiting finish of 2 more threads\n",
            "2021-06-05 17:20:46,764 : INFO : worker thread finished; awaiting finish of 1 more threads\n",
            "2021-06-05 17:20:46,766 : INFO : worker thread finished; awaiting finish of 0 more threads\n",
            "2021-06-05 17:20:46,767 : INFO : EPOCH - 6 : training on 9838428 raw words (8660807 effective words) took 19.3s, 449397 effective words/s\n",
            "2021-06-05 17:20:47,846 : INFO : EPOCH 7 - PROGRESS: at 4.68% examples, 379833 words/s, in_qsize 12, out_qsize 3\n",
            "2021-06-05 17:20:48,856 : INFO : EPOCH 7 - PROGRESS: at 10.18% examples, 424070 words/s, in_qsize 15, out_qsize 0\n",
            "2021-06-05 17:20:49,890 : INFO : EPOCH 7 - PROGRESS: at 15.77% examples, 438510 words/s, in_qsize 15, out_qsize 0\n",
            "2021-06-05 17:20:50,895 : INFO : EPOCH 7 - PROGRESS: at 20.63% examples, 433992 words/s, in_qsize 14, out_qsize 1\n",
            "2021-06-05 17:20:51,970 : INFO : EPOCH 7 - PROGRESS: at 26.12% examples, 435586 words/s, in_qsize 15, out_qsize 0\n",
            "2021-06-05 17:20:52,992 : INFO : EPOCH 7 - PROGRESS: at 31.50% examples, 439118 words/s, in_qsize 13, out_qsize 2\n",
            "2021-06-05 17:20:53,999 : INFO : EPOCH 7 - PROGRESS: at 36.77% examples, 441137 words/s, in_qsize 15, out_qsize 0\n",
            "2021-06-05 17:20:55,015 : INFO : EPOCH 7 - PROGRESS: at 41.84% examples, 440155 words/s, in_qsize 13, out_qsize 2\n",
            "2021-06-05 17:20:56,039 : INFO : EPOCH 7 - PROGRESS: at 47.22% examples, 441882 words/s, in_qsize 15, out_qsize 0\n",
            "2021-06-05 17:20:57,140 : INFO : EPOCH 7 - PROGRESS: at 52.59% examples, 439976 words/s, in_qsize 14, out_qsize 3\n",
            "2021-06-05 17:20:58,194 : INFO : EPOCH 7 - PROGRESS: at 58.07% examples, 440968 words/s, in_qsize 15, out_qsize 0\n",
            "2021-06-05 17:20:59,194 : INFO : EPOCH 7 - PROGRESS: at 63.13% examples, 440862 words/s, in_qsize 15, out_qsize 0\n",
            "2021-06-05 17:21:00,217 : INFO : EPOCH 7 - PROGRESS: at 68.43% examples, 441352 words/s, in_qsize 15, out_qsize 0\n",
            "2021-06-05 17:21:01,263 : INFO : EPOCH 7 - PROGRESS: at 74.01% examples, 442857 words/s, in_qsize 15, out_qsize 0\n",
            "2021-06-05 17:21:02,288 : INFO : EPOCH 7 - PROGRESS: at 78.91% examples, 440844 words/s, in_qsize 15, out_qsize 0\n",
            "2021-06-05 17:21:03,328 : INFO : EPOCH 7 - PROGRESS: at 84.40% examples, 441843 words/s, in_qsize 15, out_qsize 0\n",
            "2021-06-05 17:21:04,400 : INFO : EPOCH 7 - PROGRESS: at 89.58% examples, 440406 words/s, in_qsize 14, out_qsize 1\n",
            "2021-06-05 17:21:05,497 : INFO : EPOCH 7 - PROGRESS: at 95.30% examples, 440900 words/s, in_qsize 12, out_qsize 3\n",
            "2021-06-05 17:21:06,208 : INFO : worker thread finished; awaiting finish of 7 more threads\n",
            "2021-06-05 17:21:06,210 : INFO : worker thread finished; awaiting finish of 6 more threads\n",
            "2021-06-05 17:21:06,237 : INFO : worker thread finished; awaiting finish of 5 more threads\n",
            "2021-06-05 17:21:06,247 : INFO : worker thread finished; awaiting finish of 4 more threads\n",
            "2021-06-05 17:21:06,252 : INFO : worker thread finished; awaiting finish of 3 more threads\n",
            "2021-06-05 17:21:06,277 : INFO : worker thread finished; awaiting finish of 2 more threads\n",
            "2021-06-05 17:21:06,288 : INFO : worker thread finished; awaiting finish of 1 more threads\n",
            "2021-06-05 17:21:06,290 : INFO : worker thread finished; awaiting finish of 0 more threads\n",
            "2021-06-05 17:21:06,292 : INFO : EPOCH - 7 : training on 9838428 raw words (8659293 effective words) took 19.5s, 443809 effective words/s\n",
            "2021-06-05 17:21:07,317 : INFO : EPOCH 8 - PROGRESS: at 4.99% examples, 425265 words/s, in_qsize 15, out_qsize 0\n",
            "2021-06-05 17:21:08,339 : INFO : EPOCH 8 - PROGRESS: at 10.18% examples, 432363 words/s, in_qsize 16, out_qsize 0\n",
            "2021-06-05 17:21:09,358 : INFO : EPOCH 8 - PROGRESS: at 14.95% examples, 423436 words/s, in_qsize 15, out_qsize 0\n",
            "2021-06-05 17:21:10,368 : INFO : EPOCH 8 - PROGRESS: at 20.43% examples, 435087 words/s, in_qsize 15, out_qsize 1\n",
            "2021-06-05 17:21:11,397 : INFO : EPOCH 8 - PROGRESS: at 25.41% examples, 431801 words/s, in_qsize 13, out_qsize 2\n",
            "2021-06-05 17:21:12,465 : INFO : EPOCH 8 - PROGRESS: at 31.29% examples, 439737 words/s, in_qsize 15, out_qsize 0\n",
            "2021-06-05 17:21:13,476 : INFO : EPOCH 8 - PROGRESS: at 36.36% examples, 439120 words/s, in_qsize 16, out_qsize 1\n",
            "2021-06-05 17:21:14,482 : INFO : EPOCH 8 - PROGRESS: at 41.94% examples, 444263 words/s, in_qsize 15, out_qsize 0\n",
            "2021-06-05 17:21:15,500 : INFO : EPOCH 8 - PROGRESS: at 47.42% examples, 446796 words/s, in_qsize 13, out_qsize 1\n",
            "2021-06-05 17:21:16,509 : INFO : EPOCH 8 - PROGRESS: at 52.90% examples, 449175 words/s, in_qsize 15, out_qsize 0\n",
            "2021-06-05 17:21:17,560 : INFO : EPOCH 8 - PROGRESS: at 58.07% examples, 447110 words/s, in_qsize 15, out_qsize 0\n",
            "2021-06-05 17:21:18,566 : INFO : EPOCH 8 - PROGRESS: at 63.44% examples, 448453 words/s, in_qsize 16, out_qsize 2\n",
            "2021-06-05 17:21:19,573 : INFO : EPOCH 8 - PROGRESS: at 68.73% examples, 448914 words/s, in_qsize 16, out_qsize 1\n",
            "2021-06-05 17:21:20,588 : INFO : EPOCH 8 - PROGRESS: at 73.81% examples, 447784 words/s, in_qsize 15, out_qsize 0\n",
            "2021-06-05 17:21:21,611 : INFO : EPOCH 8 - PROGRESS: at 79.22% examples, 448313 words/s, in_qsize 15, out_qsize 0\n",
            "2021-06-05 17:21:22,617 : INFO : EPOCH 8 - PROGRESS: at 84.71% examples, 449822 words/s, in_qsize 14, out_qsize 2\n",
            "2021-06-05 17:21:23,655 : INFO : EPOCH 8 - PROGRESS: at 89.79% examples, 448236 words/s, in_qsize 15, out_qsize 0\n",
            "2021-06-05 17:21:24,788 : INFO : EPOCH 8 - PROGRESS: at 95.51% examples, 447410 words/s, in_qsize 14, out_qsize 1\n",
            "2021-06-05 17:21:25,404 : INFO : worker thread finished; awaiting finish of 7 more threads\n",
            "2021-06-05 17:21:25,464 : INFO : worker thread finished; awaiting finish of 6 more threads\n",
            "2021-06-05 17:21:25,508 : INFO : worker thread finished; awaiting finish of 5 more threads\n",
            "2021-06-05 17:21:25,511 : INFO : worker thread finished; awaiting finish of 4 more threads\n",
            "2021-06-05 17:21:25,514 : INFO : worker thread finished; awaiting finish of 3 more threads\n",
            "2021-06-05 17:21:25,536 : INFO : worker thread finished; awaiting finish of 2 more threads\n",
            "2021-06-05 17:21:25,539 : INFO : worker thread finished; awaiting finish of 1 more threads\n",
            "2021-06-05 17:21:25,543 : INFO : worker thread finished; awaiting finish of 0 more threads\n",
            "2021-06-05 17:21:25,545 : INFO : EPOCH - 8 : training on 9838428 raw words (8658994 effective words) took 19.2s, 450026 effective words/s\n",
            "2021-06-05 17:21:26,619 : INFO : EPOCH 9 - PROGRESS: at 4.89% examples, 397821 words/s, in_qsize 16, out_qsize 1\n",
            "2021-06-05 17:21:27,687 : INFO : EPOCH 9 - PROGRESS: at 10.59% examples, 429837 words/s, in_qsize 16, out_qsize 0\n",
            "2021-06-05 17:21:28,687 : INFO : EPOCH 9 - PROGRESS: at 15.66% examples, 433011 words/s, in_qsize 14, out_qsize 0\n",
            "2021-06-05 17:21:29,734 : INFO : EPOCH 9 - PROGRESS: at 20.93% examples, 434004 words/s, in_qsize 14, out_qsize 1\n",
            "2021-06-05 17:21:30,770 : INFO : EPOCH 9 - PROGRESS: at 26.42% examples, 438892 words/s, in_qsize 15, out_qsize 0\n",
            "2021-06-05 17:21:31,785 : INFO : EPOCH 9 - PROGRESS: at 31.80% examples, 443117 words/s, in_qsize 15, out_qsize 0\n",
            "2021-06-05 17:21:32,777 : INFO : EPOCH 9 - PROGRESS: at 36.87% examples, 442451 words/s, in_qsize 15, out_qsize 0\n",
            "2021-06-05 17:21:33,803 : INFO : EPOCH 9 - PROGRESS: at 42.14% examples, 442892 words/s, in_qsize 15, out_qsize 0\n",
            "2021-06-05 17:21:34,825 : INFO : EPOCH 9 - PROGRESS: at 47.63% examples, 445356 words/s, in_qsize 15, out_qsize 0\n",
            "2021-06-05 17:21:35,852 : INFO : EPOCH 9 - PROGRESS: at 52.59% examples, 442826 words/s, in_qsize 15, out_qsize 0\n",
            "2021-06-05 17:21:36,855 : INFO : EPOCH 9 - PROGRESS: at 57.66% examples, 442464 words/s, in_qsize 14, out_qsize 1\n",
            "2021-06-05 17:21:37,863 : INFO : EPOCH 9 - PROGRESS: at 62.93% examples, 443420 words/s, in_qsize 15, out_qsize 0\n",
            "2021-06-05 17:21:38,904 : INFO : EPOCH 9 - PROGRESS: at 68.33% examples, 443757 words/s, in_qsize 15, out_qsize 0\n",
            "2021-06-05 17:21:39,911 : INFO : EPOCH 9 - PROGRESS: at 73.30% examples, 442679 words/s, in_qsize 15, out_qsize 0\n",
            "2021-06-05 17:21:40,911 : INFO : EPOCH 9 - PROGRESS: at 78.50% examples, 443053 words/s, in_qsize 16, out_qsize 0\n",
            "2021-06-05 17:21:41,968 : INFO : EPOCH 9 - PROGRESS: at 84.00% examples, 443466 words/s, in_qsize 15, out_qsize 0\n",
            "2021-06-05 17:21:42,997 : INFO : EPOCH 9 - PROGRESS: at 88.97% examples, 442017 words/s, in_qsize 16, out_qsize 1\n",
            "2021-06-05 17:21:44,009 : INFO : EPOCH 9 - PROGRESS: at 94.38% examples, 443026 words/s, in_qsize 15, out_qsize 0\n",
            "2021-06-05 17:21:44,924 : INFO : worker thread finished; awaiting finish of 7 more threads\n",
            "2021-06-05 17:21:44,953 : INFO : worker thread finished; awaiting finish of 6 more threads\n",
            "2021-06-05 17:21:44,957 : INFO : worker thread finished; awaiting finish of 5 more threads\n",
            "2021-06-05 17:21:44,960 : INFO : worker thread finished; awaiting finish of 4 more threads\n",
            "2021-06-05 17:21:44,961 : INFO : worker thread finished; awaiting finish of 3 more threads\n",
            "2021-06-05 17:21:44,964 : INFO : worker thread finished; awaiting finish of 2 more threads\n",
            "2021-06-05 17:21:44,967 : INFO : worker thread finished; awaiting finish of 1 more threads\n",
            "2021-06-05 17:21:44,979 : INFO : worker thread finished; awaiting finish of 0 more threads\n",
            "2021-06-05 17:21:44,983 : INFO : EPOCH - 9 : training on 9838428 raw words (8660789 effective words) took 19.4s, 445859 effective words/s\n",
            "2021-06-05 17:21:46,026 : INFO : EPOCH 10 - PROGRESS: at 4.89% examples, 410016 words/s, in_qsize 15, out_qsize 0\n",
            "2021-06-05 17:21:47,034 : INFO : EPOCH 10 - PROGRESS: at 10.28% examples, 436153 words/s, in_qsize 13, out_qsize 0\n",
            "2021-06-05 17:21:48,129 : INFO : EPOCH 10 - PROGRESS: at 15.87% examples, 438076 words/s, in_qsize 14, out_qsize 1\n",
            "2021-06-05 17:21:49,137 : INFO : EPOCH 10 - PROGRESS: at 21.14% examples, 441940 words/s, in_qsize 15, out_qsize 0\n",
            "2021-06-05 17:21:50,232 : INFO : EPOCH 10 - PROGRESS: at 26.32% examples, 437659 words/s, in_qsize 16, out_qsize 3\n",
            "2021-06-05 17:21:51,211 : INFO : EPOCH 10 - PROGRESS: at 31.70% examples, 441664 words/s, in_qsize 14, out_qsize 1\n",
            "2021-06-05 17:21:52,213 : INFO : EPOCH 10 - PROGRESS: at 36.77% examples, 441228 words/s, in_qsize 13, out_qsize 4\n",
            "2021-06-05 17:21:53,225 : INFO : EPOCH 10 - PROGRESS: at 42.25% examples, 444695 words/s, in_qsize 15, out_qsize 0\n",
            "2021-06-05 17:21:54,286 : INFO : EPOCH 10 - PROGRESS: at 47.32% examples, 441331 words/s, in_qsize 14, out_qsize 1\n",
            "2021-06-05 17:21:55,311 : INFO : EPOCH 10 - PROGRESS: at 52.59% examples, 441843 words/s, in_qsize 16, out_qsize 0\n",
            "2021-06-05 17:21:56,336 : INFO : EPOCH 10 - PROGRESS: at 57.97% examples, 443057 words/s, in_qsize 15, out_qsize 0\n",
            "2021-06-05 17:21:57,349 : INFO : EPOCH 10 - PROGRESS: at 63.23% examples, 443795 words/s, in_qsize 15, out_qsize 0\n",
            "2021-06-05 17:21:58,392 : INFO : EPOCH 10 - PROGRESS: at 68.43% examples, 442726 words/s, in_qsize 15, out_qsize 0\n",
            "2021-06-05 17:21:59,446 : INFO : EPOCH 10 - PROGRESS: at 73.81% examples, 442679 words/s, in_qsize 15, out_qsize 0\n",
            "2021-06-05 17:22:00,470 : INFO : EPOCH 10 - PROGRESS: at 79.21% examples, 443528 words/s, in_qsize 15, out_qsize 0\n",
            "2021-06-05 17:22:01,498 : INFO : EPOCH 10 - PROGRESS: at 84.41% examples, 443082 words/s, in_qsize 14, out_qsize 1\n",
            "2021-06-05 17:22:02,531 : INFO : EPOCH 10 - PROGRESS: at 89.99% examples, 444562 words/s, in_qsize 15, out_qsize 0\n",
            "2021-06-05 17:22:03,594 : INFO : EPOCH 10 - PROGRESS: at 95.31% examples, 443733 words/s, in_qsize 15, out_qsize 0\n",
            "2021-06-05 17:22:04,347 : INFO : worker thread finished; awaiting finish of 7 more threads\n",
            "2021-06-05 17:22:04,351 : INFO : worker thread finished; awaiting finish of 6 more threads\n",
            "2021-06-05 17:22:04,372 : INFO : worker thread finished; awaiting finish of 5 more threads\n",
            "2021-06-05 17:22:04,375 : INFO : worker thread finished; awaiting finish of 4 more threads\n",
            "2021-06-05 17:22:04,388 : INFO : worker thread finished; awaiting finish of 3 more threads\n",
            "2021-06-05 17:22:04,391 : INFO : worker thread finished; awaiting finish of 2 more threads\n",
            "2021-06-05 17:22:04,395 : INFO : worker thread finished; awaiting finish of 1 more threads\n",
            "2021-06-05 17:22:04,411 : INFO : worker thread finished; awaiting finish of 0 more threads\n",
            "2021-06-05 17:22:04,412 : INFO : EPOCH - 10 : training on 9838428 raw words (8659536 effective words) took 19.4s, 446005 effective words/s\n",
            "2021-06-05 17:22:05,445 : INFO : EPOCH 11 - PROGRESS: at 4.89% examples, 413730 words/s, in_qsize 15, out_qsize 0\n",
            "2021-06-05 17:22:06,463 : INFO : EPOCH 11 - PROGRESS: at 9.77% examples, 414479 words/s, in_qsize 15, out_qsize 0\n",
            "2021-06-05 17:22:07,464 : INFO : EPOCH 11 - PROGRESS: at 15.26% examples, 434192 words/s, in_qsize 15, out_qsize 0\n",
            "2021-06-05 17:22:08,466 : INFO : EPOCH 11 - PROGRESS: at 20.12% examples, 430946 words/s, in_qsize 14, out_qsize 1\n",
            "2021-06-05 17:22:09,470 : INFO : EPOCH 11 - PROGRESS: at 25.31% examples, 434097 words/s, in_qsize 15, out_qsize 0\n",
            "2021-06-05 17:22:10,481 : INFO : EPOCH 11 - PROGRESS: at 30.59% examples, 437178 words/s, in_qsize 15, out_qsize 0\n",
            "2021-06-05 17:22:11,545 : INFO : EPOCH 11 - PROGRESS: at 35.76% examples, 436372 words/s, in_qsize 15, out_qsize 0\n",
            "2021-06-05 17:22:12,524 : INFO : EPOCH 11 - PROGRESS: at 40.72% examples, 435571 words/s, in_qsize 16, out_qsize 0\n",
            "2021-06-05 17:22:13,532 : INFO : EPOCH 11 - PROGRESS: at 46.00% examples, 437626 words/s, in_qsize 16, out_qsize 0\n",
            "2021-06-05 17:22:14,572 : INFO : EPOCH 11 - PROGRESS: at 51.37% examples, 438749 words/s, in_qsize 15, out_qsize 0\n",
            "2021-06-05 17:22:15,625 : INFO : EPOCH 11 - PROGRESS: at 56.75% examples, 439551 words/s, in_qsize 15, out_qsize 1\n",
            "2021-06-05 17:22:16,622 : INFO : EPOCH 11 - PROGRESS: at 62.43% examples, 443690 words/s, in_qsize 15, out_qsize 0\n",
            "2021-06-05 17:22:17,631 : INFO : EPOCH 11 - PROGRESS: at 67.21% examples, 441080 words/s, in_qsize 14, out_qsize 3\n",
            "2021-06-05 17:22:18,728 : INFO : EPOCH 11 - PROGRESS: at 72.69% examples, 440487 words/s, in_qsize 15, out_qsize 0\n",
            "2021-06-05 17:22:19,747 : INFO : EPOCH 11 - PROGRESS: at 77.89% examples, 440468 words/s, in_qsize 15, out_qsize 4\n",
            "2021-06-05 17:22:20,756 : INFO : EPOCH 11 - PROGRESS: at 83.80% examples, 444487 words/s, in_qsize 15, out_qsize 0\n",
            "2021-06-05 17:22:21,829 : INFO : EPOCH 11 - PROGRESS: at 88.97% examples, 442873 words/s, in_qsize 15, out_qsize 0\n",
            "2021-06-05 17:22:22,873 : INFO : EPOCH 11 - PROGRESS: at 94.39% examples, 443054 words/s, in_qsize 14, out_qsize 1\n",
            "2021-06-05 17:22:23,792 : INFO : worker thread finished; awaiting finish of 7 more threads\n",
            "2021-06-05 17:22:23,796 : INFO : worker thread finished; awaiting finish of 6 more threads\n",
            "2021-06-05 17:22:23,806 : INFO : worker thread finished; awaiting finish of 5 more threads\n",
            "2021-06-05 17:22:23,814 : INFO : worker thread finished; awaiting finish of 4 more threads\n",
            "2021-06-05 17:22:23,824 : INFO : worker thread finished; awaiting finish of 3 more threads\n",
            "2021-06-05 17:22:23,836 : INFO : worker thread finished; awaiting finish of 2 more threads\n",
            "2021-06-05 17:22:23,852 : INFO : worker thread finished; awaiting finish of 1 more threads\n",
            "2021-06-05 17:22:23,858 : INFO : worker thread finished; awaiting finish of 0 more threads\n",
            "2021-06-05 17:22:23,858 : INFO : EPOCH - 11 : training on 9838428 raw words (8659877 effective words) took 19.4s, 445606 effective words/s\n",
            "2021-06-05 17:22:24,916 : INFO : EPOCH 12 - PROGRESS: at 4.58% examples, 378780 words/s, in_qsize 13, out_qsize 2\n",
            "2021-06-05 17:22:25,984 : INFO : EPOCH 12 - PROGRESS: at 10.38% examples, 424865 words/s, in_qsize 15, out_qsize 0\n",
            "2021-06-05 17:22:27,014 : INFO : EPOCH 12 - PROGRESS: at 15.67% examples, 431007 words/s, in_qsize 15, out_qsize 0\n",
            "2021-06-05 17:22:28,015 : INFO : EPOCH 12 - PROGRESS: at 21.04% examples, 439507 words/s, in_qsize 16, out_qsize 0\n",
            "2021-06-05 17:22:29,044 : INFO : EPOCH 12 - PROGRESS: at 26.42% examples, 442276 words/s, in_qsize 15, out_qsize 0\n",
            "2021-06-05 17:22:30,076 : INFO : EPOCH 12 - PROGRESS: at 31.60% examples, 441901 words/s, in_qsize 15, out_qsize 7\n",
            "2021-06-05 17:22:31,076 : INFO : EPOCH 12 - PROGRESS: at 36.87% examples, 443261 words/s, in_qsize 15, out_qsize 0\n",
            "2021-06-05 17:22:32,080 : INFO : EPOCH 12 - PROGRESS: at 42.05% examples, 443751 words/s, in_qsize 11, out_qsize 4\n",
            "2021-06-05 17:22:33,178 : INFO : EPOCH 12 - PROGRESS: at 47.72% examples, 444358 words/s, in_qsize 16, out_qsize 1\n",
            "2021-06-05 17:22:34,275 : INFO : EPOCH 12 - PROGRESS: at 53.40% examples, 444881 words/s, in_qsize 16, out_qsize 1\n",
            "2021-06-05 17:22:35,277 : INFO : EPOCH 12 - PROGRESS: at 59.09% examples, 449042 words/s, in_qsize 15, out_qsize 0\n",
            "2021-06-05 17:22:36,282 : INFO : EPOCH 12 - PROGRESS: at 63.94% examples, 446660 words/s, in_qsize 13, out_qsize 2\n",
            "2021-06-05 17:22:37,334 : INFO : EPOCH 12 - PROGRESS: at 69.14% examples, 445104 words/s, in_qsize 15, out_qsize 0\n",
            "2021-06-05 17:22:38,364 : INFO : EPOCH 12 - PROGRESS: at 74.32% examples, 444429 words/s, in_qsize 15, out_qsize 2\n",
            "2021-06-05 17:22:39,441 : INFO : EPOCH 12 - PROGRESS: at 79.72% examples, 443638 words/s, in_qsize 15, out_qsize 3\n",
            "2021-06-05 17:22:40,443 : INFO : EPOCH 12 - PROGRESS: at 85.52% examples, 447076 words/s, in_qsize 15, out_qsize 0\n",
            "2021-06-05 17:22:41,462 : INFO : EPOCH 12 - PROGRESS: at 90.40% examples, 445190 words/s, in_qsize 12, out_qsize 3\n",
            "2021-06-05 17:22:42,487 : INFO : EPOCH 12 - PROGRESS: at 95.72% examples, 445222 words/s, in_qsize 15, out_qsize 0\n",
            "2021-06-05 17:22:43,145 : INFO : worker thread finished; awaiting finish of 7 more threads\n",
            "2021-06-05 17:22:43,150 : INFO : worker thread finished; awaiting finish of 6 more threads\n",
            "2021-06-05 17:22:43,158 : INFO : worker thread finished; awaiting finish of 5 more threads\n",
            "2021-06-05 17:22:43,180 : INFO : worker thread finished; awaiting finish of 4 more threads\n",
            "2021-06-05 17:22:43,194 : INFO : worker thread finished; awaiting finish of 3 more threads\n",
            "2021-06-05 17:22:43,199 : INFO : worker thread finished; awaiting finish of 2 more threads\n",
            "2021-06-05 17:22:43,207 : INFO : worker thread finished; awaiting finish of 1 more threads\n",
            "2021-06-05 17:22:43,212 : INFO : worker thread finished; awaiting finish of 0 more threads\n",
            "2021-06-05 17:22:43,213 : INFO : EPOCH - 12 : training on 9838428 raw words (8660533 effective words) took 19.3s, 447753 effective words/s\n",
            "2021-06-05 17:22:44,231 : INFO : EPOCH 13 - PROGRESS: at 4.58% examples, 393677 words/s, in_qsize 15, out_qsize 0\n",
            "2021-06-05 17:22:45,287 : INFO : EPOCH 13 - PROGRESS: at 10.18% examples, 427039 words/s, in_qsize 15, out_qsize 0\n",
            "2021-06-05 17:22:46,298 : INFO : EPOCH 13 - PROGRESS: at 15.77% examples, 443856 words/s, in_qsize 16, out_qsize 0\n",
            "2021-06-05 17:22:47,314 : INFO : EPOCH 13 - PROGRESS: at 20.83% examples, 441239 words/s, in_qsize 14, out_qsize 1\n",
            "2021-06-05 17:22:48,421 : INFO : EPOCH 13 - PROGRESS: at 26.42% examples, 440373 words/s, in_qsize 14, out_qsize 4\n",
            "2021-06-05 17:22:49,434 : INFO : EPOCH 13 - PROGRESS: at 32.01% examples, 446439 words/s, in_qsize 15, out_qsize 0\n",
            "2021-06-05 17:22:50,447 : INFO : EPOCH 13 - PROGRESS: at 37.28% examples, 447164 words/s, in_qsize 15, out_qsize 0\n",
            "2021-06-05 17:22:51,452 : INFO : EPOCH 13 - PROGRESS: at 42.55% examples, 448150 words/s, in_qsize 12, out_qsize 3\n",
            "2021-06-05 17:22:52,500 : INFO : EPOCH 13 - PROGRESS: at 48.03% examples, 448806 words/s, in_qsize 15, out_qsize 0\n",
            "2021-06-05 17:22:53,522 : INFO : EPOCH 13 - PROGRESS: at 53.60% examples, 451237 words/s, in_qsize 16, out_qsize 0\n",
            "2021-06-05 17:22:54,617 : INFO : EPOCH 13 - PROGRESS: at 58.78% examples, 447278 words/s, in_qsize 15, out_qsize 0\n",
            "2021-06-05 17:22:55,644 : INFO : EPOCH 13 - PROGRESS: at 64.15% examples, 447799 words/s, in_qsize 13, out_qsize 2\n",
            "2021-06-05 17:22:56,708 : INFO : EPOCH 13 - PROGRESS: at 69.85% examples, 449017 words/s, in_qsize 15, out_qsize 0\n",
            "2021-06-05 17:22:57,732 : INFO : EPOCH 13 - PROGRESS: at 74.93% examples, 448056 words/s, in_qsize 15, out_qsize 7\n",
            "2021-06-05 17:22:58,770 : INFO : EPOCH 13 - PROGRESS: at 80.54% examples, 449394 words/s, in_qsize 15, out_qsize 3\n",
            "2021-06-05 17:22:59,762 : INFO : EPOCH 13 - PROGRESS: at 86.23% examples, 451764 words/s, in_qsize 15, out_qsize 0\n",
            "2021-06-05 17:23:00,823 : INFO : EPOCH 13 - PROGRESS: at 91.22% examples, 449018 words/s, in_qsize 14, out_qsize 3\n",
            "2021-06-05 17:23:01,861 : INFO : EPOCH 13 - PROGRESS: at 96.62% examples, 449037 words/s, in_qsize 16, out_qsize 2\n",
            "2021-06-05 17:23:02,258 : INFO : worker thread finished; awaiting finish of 7 more threads\n",
            "2021-06-05 17:23:02,286 : INFO : worker thread finished; awaiting finish of 6 more threads\n",
            "2021-06-05 17:23:02,340 : INFO : worker thread finished; awaiting finish of 5 more threads\n",
            "2021-06-05 17:23:02,348 : INFO : worker thread finished; awaiting finish of 4 more threads\n",
            "2021-06-05 17:23:02,351 : INFO : worker thread finished; awaiting finish of 3 more threads\n",
            "2021-06-05 17:23:02,365 : INFO : worker thread finished; awaiting finish of 2 more threads\n",
            "2021-06-05 17:23:02,366 : INFO : worker thread finished; awaiting finish of 1 more threads\n",
            "2021-06-05 17:23:02,376 : INFO : worker thread finished; awaiting finish of 0 more threads\n",
            "2021-06-05 17:23:02,377 : INFO : EPOCH - 13 : training on 9838428 raw words (8660903 effective words) took 19.2s, 452243 effective words/s\n",
            "2021-06-05 17:23:03,432 : INFO : EPOCH 14 - PROGRESS: at 4.68% examples, 387461 words/s, in_qsize 10, out_qsize 5\n",
            "2021-06-05 17:23:04,465 : INFO : EPOCH 14 - PROGRESS: at 10.28% examples, 428060 words/s, in_qsize 15, out_qsize 0\n",
            "2021-06-05 17:23:05,474 : INFO : EPOCH 14 - PROGRESS: at 15.46% examples, 433353 words/s, in_qsize 15, out_qsize 0\n",
            "2021-06-05 17:23:06,516 : INFO : EPOCH 14 - PROGRESS: at 20.73% examples, 434771 words/s, in_qsize 15, out_qsize 0\n",
            "2021-06-05 17:23:07,528 : INFO : EPOCH 14 - PROGRESS: at 26.02% examples, 438267 words/s, in_qsize 15, out_qsize 1\n",
            "2021-06-05 17:23:08,575 : INFO : EPOCH 14 - PROGRESS: at 30.99% examples, 433807 words/s, in_qsize 16, out_qsize 0\n",
            "2021-06-05 17:23:09,624 : INFO : EPOCH 14 - PROGRESS: at 36.16% examples, 434318 words/s, in_qsize 15, out_qsize 2\n",
            "2021-06-05 17:23:10,635 : INFO : EPOCH 14 - PROGRESS: at 40.93% examples, 429951 words/s, in_qsize 15, out_qsize 0\n",
            "2021-06-05 17:23:11,721 : INFO : EPOCH 14 - PROGRESS: at 46.30% examples, 429896 words/s, in_qsize 15, out_qsize 2\n",
            "2021-06-05 17:23:12,767 : INFO : EPOCH 14 - PROGRESS: at 51.77% examples, 432389 words/s, in_qsize 15, out_qsize 0\n",
            "2021-06-05 17:23:13,770 : INFO : EPOCH 14 - PROGRESS: at 57.25% examples, 436044 words/s, in_qsize 15, out_qsize 0\n",
            "2021-06-05 17:23:14,780 : INFO : EPOCH 14 - PROGRESS: at 62.13% examples, 434575 words/s, in_qsize 16, out_qsize 1\n",
            "2021-06-05 17:23:15,803 : INFO : EPOCH 14 - PROGRESS: at 67.11% examples, 434172 words/s, in_qsize 15, out_qsize 2\n",
            "2021-06-05 17:23:16,831 : INFO : EPOCH 14 - PROGRESS: at 72.39% examples, 434381 words/s, in_qsize 14, out_qsize 1\n",
            "2021-06-05 17:23:17,839 : INFO : EPOCH 14 - PROGRESS: at 77.58% examples, 435090 words/s, in_qsize 15, out_qsize 0\n",
            "2021-06-05 17:23:18,839 : INFO : EPOCH 14 - PROGRESS: at 82.88% examples, 436464 words/s, in_qsize 15, out_qsize 0\n",
            "2021-06-05 17:23:19,872 : INFO : EPOCH 14 - PROGRESS: at 88.06% examples, 436327 words/s, in_qsize 15, out_qsize 0\n",
            "2021-06-05 17:23:20,914 : INFO : EPOCH 14 - PROGRESS: at 93.46% examples, 436933 words/s, in_qsize 15, out_qsize 0\n",
            "2021-06-05 17:23:21,941 : INFO : EPOCH 14 - PROGRESS: at 98.45% examples, 436181 words/s, in_qsize 15, out_qsize 3\n",
            "2021-06-05 17:23:22,107 : INFO : worker thread finished; awaiting finish of 7 more threads\n",
            "2021-06-05 17:23:22,110 : INFO : worker thread finished; awaiting finish of 6 more threads\n",
            "2021-06-05 17:23:22,116 : INFO : worker thread finished; awaiting finish of 5 more threads\n",
            "2021-06-05 17:23:22,123 : INFO : worker thread finished; awaiting finish of 4 more threads\n",
            "2021-06-05 17:23:22,128 : INFO : worker thread finished; awaiting finish of 3 more threads\n",
            "2021-06-05 17:23:22,135 : INFO : worker thread finished; awaiting finish of 2 more threads\n",
            "2021-06-05 17:23:22,137 : INFO : worker thread finished; awaiting finish of 1 more threads\n",
            "2021-06-05 17:23:22,147 : INFO : worker thread finished; awaiting finish of 0 more threads\n",
            "2021-06-05 17:23:22,149 : INFO : EPOCH - 14 : training on 9838428 raw words (8660138 effective words) took 19.8s, 438257 effective words/s\n",
            "2021-06-05 17:23:23,164 : INFO : EPOCH 15 - PROGRESS: at 4.38% examples, 377122 words/s, in_qsize 16, out_qsize 0\n",
            "2021-06-05 17:23:24,197 : INFO : EPOCH 15 - PROGRESS: at 9.36% examples, 402968 words/s, in_qsize 15, out_qsize 1\n",
            "2021-06-05 17:23:25,233 : INFO : EPOCH 15 - PROGRESS: at 14.75% examples, 415167 words/s, in_qsize 15, out_qsize 0\n",
            "2021-06-05 17:23:26,267 : INFO : EPOCH 15 - PROGRESS: at 19.82% examples, 419855 words/s, in_qsize 15, out_qsize 1\n",
            "2021-06-05 17:23:27,297 : INFO : EPOCH 15 - PROGRESS: at 25.11% examples, 422976 words/s, in_qsize 15, out_qsize 0\n",
            "2021-06-05 17:23:28,320 : INFO : EPOCH 15 - PROGRESS: at 29.67% examples, 417032 words/s, in_qsize 14, out_qsize 1\n",
            "2021-06-05 17:23:29,349 : INFO : EPOCH 15 - PROGRESS: at 35.35% examples, 425871 words/s, in_qsize 15, out_qsize 0\n",
            "2021-06-05 17:23:30,407 : INFO : EPOCH 15 - PROGRESS: at 40.02% examples, 420317 words/s, in_qsize 14, out_qsize 1\n",
            "2021-06-05 17:23:31,466 : INFO : EPOCH 15 - PROGRESS: at 45.29% examples, 421638 words/s, in_qsize 16, out_qsize 0\n",
            "2021-06-05 17:23:32,474 : INFO : EPOCH 15 - PROGRESS: at 50.25% examples, 422235 words/s, in_qsize 14, out_qsize 0\n",
            "2021-06-05 17:23:33,595 : INFO : EPOCH 15 - PROGRESS: at 55.52% examples, 420881 words/s, in_qsize 15, out_qsize 0\n",
            "2021-06-05 17:23:34,634 : INFO : EPOCH 15 - PROGRESS: at 60.91% examples, 423206 words/s, in_qsize 15, out_qsize 0\n",
            "2021-06-05 17:23:35,639 : INFO : EPOCH 15 - PROGRESS: at 66.19% examples, 425600 words/s, in_qsize 14, out_qsize 1\n",
            "2021-06-05 17:23:36,646 : INFO : EPOCH 15 - PROGRESS: at 71.38% examples, 426990 words/s, in_qsize 16, out_qsize 0\n",
            "2021-06-05 17:23:37,668 : INFO : EPOCH 15 - PROGRESS: at 76.56% examples, 427780 words/s, in_qsize 15, out_qsize 0\n",
            "2021-06-05 17:23:38,677 : INFO : EPOCH 15 - PROGRESS: at 81.46% examples, 427240 words/s, in_qsize 15, out_qsize 0\n",
            "2021-06-05 17:23:39,709 : INFO : EPOCH 15 - PROGRESS: at 86.94% examples, 429163 words/s, in_qsize 16, out_qsize 0\n",
            "2021-06-05 17:23:40,750 : INFO : EPOCH 15 - PROGRESS: at 91.93% examples, 428769 words/s, in_qsize 15, out_qsize 0\n",
            "2021-06-05 17:23:41,758 : INFO : EPOCH 15 - PROGRESS: at 97.03% examples, 428699 words/s, in_qsize 16, out_qsize 1\n",
            "2021-06-05 17:23:42,137 : INFO : worker thread finished; awaiting finish of 7 more threads\n",
            "2021-06-05 17:23:42,153 : INFO : worker thread finished; awaiting finish of 6 more threads\n",
            "2021-06-05 17:23:42,197 : INFO : worker thread finished; awaiting finish of 5 more threads\n",
            "2021-06-05 17:23:42,212 : INFO : worker thread finished; awaiting finish of 4 more threads\n",
            "2021-06-05 17:23:42,219 : INFO : worker thread finished; awaiting finish of 3 more threads\n",
            "2021-06-05 17:23:42,220 : INFO : worker thread finished; awaiting finish of 2 more threads\n",
            "2021-06-05 17:23:42,233 : INFO : worker thread finished; awaiting finish of 1 more threads\n",
            "2021-06-05 17:23:42,248 : INFO : worker thread finished; awaiting finish of 0 more threads\n",
            "2021-06-05 17:23:42,249 : INFO : EPOCH - 15 : training on 9838428 raw words (8659870 effective words) took 20.1s, 431066 effective words/s\n",
            "2021-06-05 17:23:43,282 : INFO : EPOCH 16 - PROGRESS: at 4.38% examples, 370634 words/s, in_qsize 15, out_qsize 5\n",
            "2021-06-05 17:23:44,304 : INFO : EPOCH 16 - PROGRESS: at 9.87% examples, 417808 words/s, in_qsize 16, out_qsize 0\n",
            "2021-06-05 17:23:45,316 : INFO : EPOCH 16 - PROGRESS: at 14.85% examples, 420431 words/s, in_qsize 15, out_qsize 3\n",
            "2021-06-05 17:23:46,337 : INFO : EPOCH 16 - PROGRESS: at 20.43% examples, 433813 words/s, in_qsize 16, out_qsize 0\n",
            "2021-06-05 17:23:47,337 : INFO : EPOCH 16 - PROGRESS: at 25.51% examples, 434973 words/s, in_qsize 15, out_qsize 1\n",
            "2021-06-05 17:23:48,369 : INFO : EPOCH 16 - PROGRESS: at 30.69% examples, 434945 words/s, in_qsize 16, out_qsize 0\n",
            "2021-06-05 17:23:49,382 : INFO : EPOCH 16 - PROGRESS: at 35.76% examples, 434869 words/s, in_qsize 16, out_qsize 0\n",
            "2021-06-05 17:23:50,388 : INFO : EPOCH 16 - PROGRESS: at 40.62% examples, 432997 words/s, in_qsize 16, out_qsize 1\n",
            "2021-06-05 17:23:51,452 : INFO : EPOCH 16 - PROGRESS: at 45.80% examples, 431688 words/s, in_qsize 10, out_qsize 5\n",
            "2021-06-05 17:23:52,481 : INFO : EPOCH 16 - PROGRESS: at 51.27% examples, 434763 words/s, in_qsize 14, out_qsize 2\n",
            "2021-06-05 17:23:53,504 : INFO : EPOCH 16 - PROGRESS: at 56.75% examples, 437478 words/s, in_qsize 15, out_qsize 0\n",
            "2021-06-05 17:23:54,512 : INFO : EPOCH 16 - PROGRESS: at 61.12% examples, 432364 words/s, in_qsize 15, out_qsize 0\n",
            "2021-06-05 17:23:55,565 : INFO : EPOCH 16 - PROGRESS: at 66.19% examples, 431202 words/s, in_qsize 15, out_qsize 2\n",
            "2021-06-05 17:23:56,589 : INFO : EPOCH 16 - PROGRESS: at 71.27% examples, 431094 words/s, in_qsize 15, out_qsize 0\n",
            "2021-06-05 17:23:57,630 : INFO : EPOCH 16 - PROGRESS: at 76.25% examples, 429917 words/s, in_qsize 16, out_qsize 0\n",
            "2021-06-05 17:23:58,636 : INFO : EPOCH 16 - PROGRESS: at 81.56% examples, 431432 words/s, in_qsize 15, out_qsize 0\n",
            "2021-06-05 17:23:59,657 : INFO : EPOCH 16 - PROGRESS: at 86.13% examples, 428873 words/s, in_qsize 14, out_qsize 2\n",
            "2021-06-05 17:24:00,664 : INFO : EPOCH 16 - PROGRESS: at 90.91% examples, 427871 words/s, in_qsize 16, out_qsize 0\n",
            "2021-06-05 17:24:01,679 : INFO : EPOCH 16 - PROGRESS: at 96.02% examples, 428122 words/s, in_qsize 15, out_qsize 0\n",
            "2021-06-05 17:24:02,383 : INFO : worker thread finished; awaiting finish of 7 more threads\n",
            "2021-06-05 17:24:02,388 : INFO : worker thread finished; awaiting finish of 6 more threads\n",
            "2021-06-05 17:24:02,391 : INFO : worker thread finished; awaiting finish of 5 more threads\n",
            "2021-06-05 17:24:02,397 : INFO : worker thread finished; awaiting finish of 4 more threads\n",
            "2021-06-05 17:24:02,427 : INFO : worker thread finished; awaiting finish of 3 more threads\n",
            "2021-06-05 17:24:02,446 : INFO : worker thread finished; awaiting finish of 2 more threads\n",
            "2021-06-05 17:24:02,449 : INFO : worker thread finished; awaiting finish of 1 more threads\n",
            "2021-06-05 17:24:02,462 : INFO : worker thread finished; awaiting finish of 0 more threads\n",
            "2021-06-05 17:24:02,464 : INFO : EPOCH - 16 : training on 9838428 raw words (8658974 effective words) took 20.2s, 428622 effective words/s\n",
            "2021-06-05 17:24:03,514 : INFO : EPOCH 17 - PROGRESS: at 4.07% examples, 338917 words/s, in_qsize 15, out_qsize 0\n",
            "2021-06-05 17:24:04,519 : INFO : EPOCH 17 - PROGRESS: at 8.76% examples, 370178 words/s, in_qsize 15, out_qsize 0\n",
            "2021-06-05 17:24:05,563 : INFO : EPOCH 17 - PROGRESS: at 13.64% examples, 384558 words/s, in_qsize 15, out_qsize 1\n",
            "2021-06-05 17:24:06,644 : INFO : EPOCH 17 - PROGRESS: at 18.71% examples, 388187 words/s, in_qsize 15, out_qsize 0\n",
            "2021-06-05 17:24:07,696 : INFO : EPOCH 17 - PROGRESS: at 23.68% examples, 395132 words/s, in_qsize 15, out_qsize 5\n",
            "2021-06-05 17:24:08,669 : INFO : EPOCH 17 - PROGRESS: at 29.06% examples, 406289 words/s, in_qsize 16, out_qsize 0\n",
            "2021-06-05 17:24:09,684 : INFO : EPOCH 17 - PROGRESS: at 33.83% examples, 406434 words/s, in_qsize 14, out_qsize 1\n",
            "2021-06-05 17:24:10,753 : INFO : EPOCH 17 - PROGRESS: at 38.49% examples, 403888 words/s, in_qsize 14, out_qsize 1\n",
            "2021-06-05 17:24:11,829 : INFO : EPOCH 17 - PROGRESS: at 43.57% examples, 404579 words/s, in_qsize 15, out_qsize 0\n",
            "2021-06-05 17:24:12,874 : INFO : EPOCH 17 - PROGRESS: at 48.53% examples, 405603 words/s, in_qsize 16, out_qsize 3\n",
            "2021-06-05 17:24:13,922 : INFO : EPOCH 17 - PROGRESS: at 53.91% examples, 408220 words/s, in_qsize 15, out_qsize 0\n",
            "2021-06-05 17:24:14,925 : INFO : EPOCH 17 - PROGRESS: at 58.58% examples, 407847 words/s, in_qsize 14, out_qsize 3\n",
            "2021-06-05 17:24:15,937 : INFO : EPOCH 17 - PROGRESS: at 63.54% examples, 409203 words/s, in_qsize 16, out_qsize 0\n",
            "2021-06-05 17:24:16,947 : INFO : EPOCH 17 - PROGRESS: at 68.02% examples, 407409 words/s, in_qsize 15, out_qsize 0\n",
            "2021-06-05 17:24:17,983 : INFO : EPOCH 17 - PROGRESS: at 73.10% examples, 409065 words/s, in_qsize 15, out_qsize 0\n",
            "2021-06-05 17:24:18,977 : INFO : EPOCH 17 - PROGRESS: at 77.48% examples, 406870 words/s, in_qsize 14, out_qsize 4\n",
            "2021-06-05 17:24:20,020 : INFO : EPOCH 17 - PROGRESS: at 82.58% examples, 408030 words/s, in_qsize 15, out_qsize 1\n",
            "2021-06-05 17:24:21,082 : INFO : EPOCH 17 - PROGRESS: at 87.76% examples, 408614 words/s, in_qsize 16, out_qsize 2\n",
            "2021-06-05 17:24:22,114 : INFO : EPOCH 17 - PROGRESS: at 92.64% examples, 409134 words/s, in_qsize 15, out_qsize 2\n",
            "2021-06-05 17:24:23,103 : INFO : EPOCH 17 - PROGRESS: at 97.43% examples, 409238 words/s, in_qsize 15, out_qsize 4\n",
            "2021-06-05 17:24:23,472 : INFO : worker thread finished; awaiting finish of 7 more threads\n",
            "2021-06-05 17:24:23,480 : INFO : worker thread finished; awaiting finish of 6 more threads\n",
            "2021-06-05 17:24:23,490 : INFO : worker thread finished; awaiting finish of 5 more threads\n",
            "2021-06-05 17:24:23,495 : INFO : worker thread finished; awaiting finish of 4 more threads\n",
            "2021-06-05 17:24:23,506 : INFO : worker thread finished; awaiting finish of 3 more threads\n",
            "2021-06-05 17:24:23,513 : INFO : worker thread finished; awaiting finish of 2 more threads\n",
            "2021-06-05 17:24:23,545 : INFO : worker thread finished; awaiting finish of 1 more threads\n",
            "2021-06-05 17:24:23,549 : INFO : worker thread finished; awaiting finish of 0 more threads\n",
            "2021-06-05 17:24:23,550 : INFO : EPOCH - 17 : training on 9838428 raw words (8660708 effective words) took 21.1s, 410961 effective words/s\n",
            "2021-06-05 17:24:24,574 : INFO : EPOCH 18 - PROGRESS: at 4.37% examples, 373734 words/s, in_qsize 16, out_qsize 0\n",
            "2021-06-05 17:24:25,628 : INFO : EPOCH 18 - PROGRESS: at 9.16% examples, 383290 words/s, in_qsize 15, out_qsize 0\n",
            "2021-06-05 17:24:26,667 : INFO : EPOCH 18 - PROGRESS: at 13.95% examples, 388143 words/s, in_qsize 15, out_qsize 0\n",
            "2021-06-05 17:24:27,689 : INFO : EPOCH 18 - PROGRESS: at 19.11% examples, 400643 words/s, in_qsize 16, out_qsize 0\n",
            "2021-06-05 17:24:28,732 : INFO : EPOCH 18 - PROGRESS: at 23.78% examples, 398125 words/s, in_qsize 14, out_qsize 1\n",
            "2021-06-05 17:24:29,777 : INFO : EPOCH 18 - PROGRESS: at 28.75% examples, 400583 words/s, in_qsize 16, out_qsize 2\n",
            "2021-06-05 17:24:30,808 : INFO : EPOCH 18 - PROGRESS: at 33.83% examples, 404304 words/s, in_qsize 14, out_qsize 1\n",
            "2021-06-05 17:24:31,874 : INFO : EPOCH 18 - PROGRESS: at 39.01% examples, 406433 words/s, in_qsize 15, out_qsize 0\n",
            "2021-06-05 17:24:32,945 : INFO : EPOCH 18 - PROGRESS: at 43.87% examples, 406122 words/s, in_qsize 15, out_qsize 2\n",
            "2021-06-05 17:24:33,945 : INFO : EPOCH 18 - PROGRESS: at 48.64% examples, 405923 words/s, in_qsize 16, out_qsize 4\n",
            "2021-06-05 17:24:35,008 : INFO : EPOCH 18 - PROGRESS: at 53.91% examples, 408193 words/s, in_qsize 15, out_qsize 0\n",
            "2021-06-05 17:24:36,015 : INFO : EPOCH 18 - PROGRESS: at 59.09% examples, 411240 words/s, in_qsize 16, out_qsize 0\n",
            "2021-06-05 17:24:37,078 : INFO : EPOCH 18 - PROGRESS: at 63.64% examples, 408198 words/s, in_qsize 13, out_qsize 2\n",
            "2021-06-05 17:24:38,105 : INFO : EPOCH 18 - PROGRESS: at 69.04% examples, 411428 words/s, in_qsize 15, out_qsize 0\n",
            "2021-06-05 17:24:39,200 : INFO : EPOCH 18 - PROGRESS: at 74.52% examples, 412967 words/s, in_qsize 15, out_qsize 0\n",
            "2021-06-05 17:24:40,228 : INFO : EPOCH 18 - PROGRESS: at 79.52% examples, 413391 words/s, in_qsize 16, out_qsize 1\n",
            "2021-06-05 17:24:41,245 : INFO : EPOCH 18 - PROGRESS: at 84.71% examples, 414990 words/s, in_qsize 13, out_qsize 4\n",
            "2021-06-05 17:24:42,269 : INFO : EPOCH 18 - PROGRESS: at 90.10% examples, 417185 words/s, in_qsize 15, out_qsize 0\n",
            "2021-06-05 17:24:43,296 : INFO : EPOCH 18 - PROGRESS: at 95.30% examples, 418181 words/s, in_qsize 16, out_qsize 0\n",
            "2021-06-05 17:24:44,083 : INFO : worker thread finished; awaiting finish of 7 more threads\n",
            "2021-06-05 17:24:44,086 : INFO : worker thread finished; awaiting finish of 6 more threads\n",
            "2021-06-05 17:24:44,116 : INFO : worker thread finished; awaiting finish of 5 more threads\n",
            "2021-06-05 17:24:44,131 : INFO : worker thread finished; awaiting finish of 4 more threads\n",
            "2021-06-05 17:24:44,133 : INFO : worker thread finished; awaiting finish of 3 more threads\n",
            "2021-06-05 17:24:44,144 : INFO : worker thread finished; awaiting finish of 2 more threads\n",
            "2021-06-05 17:24:44,157 : INFO : worker thread finished; awaiting finish of 1 more threads\n",
            "2021-06-05 17:24:44,166 : INFO : worker thread finished; awaiting finish of 0 more threads\n",
            "2021-06-05 17:24:44,168 : INFO : EPOCH - 18 : training on 9838428 raw words (8660091 effective words) took 20.6s, 420261 effective words/s\n",
            "2021-06-05 17:24:45,217 : INFO : EPOCH 19 - PROGRESS: at 4.68% examples, 391031 words/s, in_qsize 13, out_qsize 2\n",
            "2021-06-05 17:24:46,238 : INFO : EPOCH 19 - PROGRESS: at 9.87% examples, 415299 words/s, in_qsize 15, out_qsize 0\n",
            "2021-06-05 17:24:47,279 : INFO : EPOCH 19 - PROGRESS: at 15.05% examples, 422604 words/s, in_qsize 15, out_qsize 3\n",
            "2021-06-05 17:24:48,284 : INFO : EPOCH 19 - PROGRESS: at 20.12% examples, 425437 words/s, in_qsize 14, out_qsize 2\n",
            "2021-06-05 17:24:49,350 : INFO : EPOCH 19 - PROGRESS: at 25.31% examples, 423868 words/s, in_qsize 15, out_qsize 0\n",
            "2021-06-05 17:24:50,383 : INFO : EPOCH 19 - PROGRESS: at 30.48% examples, 425651 words/s, in_qsize 15, out_qsize 0\n",
            "2021-06-05 17:24:51,417 : INFO : EPOCH 19 - PROGRESS: at 35.15% examples, 421858 words/s, in_qsize 15, out_qsize 3\n",
            "2021-06-05 17:24:52,416 : INFO : EPOCH 19 - PROGRESS: at 40.12% examples, 422063 words/s, in_qsize 14, out_qsize 1\n",
            "2021-06-05 17:24:53,440 : INFO : EPOCH 19 - PROGRESS: at 45.19% examples, 422901 words/s, in_qsize 15, out_qsize 0\n",
            "2021-06-05 17:24:54,452 : INFO : EPOCH 19 - PROGRESS: at 50.46% examples, 425801 words/s, in_qsize 15, out_qsize 0\n",
            "2021-06-05 17:24:55,475 : INFO : EPOCH 19 - PROGRESS: at 55.22% examples, 423861 words/s, in_qsize 16, out_qsize 0\n",
            "2021-06-05 17:24:56,525 : INFO : EPOCH 19 - PROGRESS: at 60.40% examples, 425032 words/s, in_qsize 15, out_qsize 0\n",
            "2021-06-05 17:24:57,556 : INFO : EPOCH 19 - PROGRESS: at 65.58% examples, 425029 words/s, in_qsize 15, out_qsize 0\n",
            "2021-06-05 17:24:58,601 : INFO : EPOCH 19 - PROGRESS: at 70.46% examples, 423523 words/s, in_qsize 14, out_qsize 1\n",
            "2021-06-05 17:24:59,670 : INFO : EPOCH 19 - PROGRESS: at 75.54% examples, 423418 words/s, in_qsize 15, out_qsize 4\n",
            "2021-06-05 17:25:00,674 : INFO : EPOCH 19 - PROGRESS: at 80.75% examples, 424166 words/s, in_qsize 15, out_qsize 0\n",
            "2021-06-05 17:25:01,684 : INFO : EPOCH 19 - PROGRESS: at 85.62% examples, 423824 words/s, in_qsize 15, out_qsize 0\n",
            "2021-06-05 17:25:02,689 : INFO : EPOCH 19 - PROGRESS: at 90.61% examples, 424088 words/s, in_qsize 15, out_qsize 0\n",
            "2021-06-05 17:25:03,691 : INFO : EPOCH 19 - PROGRESS: at 96.02% examples, 426200 words/s, in_qsize 13, out_qsize 2\n",
            "2021-06-05 17:25:04,367 : INFO : worker thread finished; awaiting finish of 7 more threads\n",
            "2021-06-05 17:25:04,381 : INFO : worker thread finished; awaiting finish of 6 more threads\n",
            "2021-06-05 17:25:04,385 : INFO : worker thread finished; awaiting finish of 5 more threads\n",
            "2021-06-05 17:25:04,390 : INFO : worker thread finished; awaiting finish of 4 more threads\n",
            "2021-06-05 17:25:04,411 : INFO : worker thread finished; awaiting finish of 3 more threads\n",
            "2021-06-05 17:25:04,428 : INFO : worker thread finished; awaiting finish of 2 more threads\n",
            "2021-06-05 17:25:04,442 : INFO : worker thread finished; awaiting finish of 1 more threads\n",
            "2021-06-05 17:25:04,451 : INFO : worker thread finished; awaiting finish of 0 more threads\n",
            "2021-06-05 17:25:04,452 : INFO : EPOCH - 19 : training on 9838428 raw words (8660712 effective words) took 20.3s, 427268 effective words/s\n",
            "2021-06-05 17:25:05,524 : INFO : EPOCH 20 - PROGRESS: at 4.99% examples, 407429 words/s, in_qsize 15, out_qsize 0\n",
            "2021-06-05 17:25:06,654 : INFO : EPOCH 20 - PROGRESS: at 10.08% examples, 398365 words/s, in_qsize 15, out_qsize 0\n",
            "2021-06-05 17:25:07,657 : INFO : EPOCH 20 - PROGRESS: at 15.36% examples, 416378 words/s, in_qsize 16, out_qsize 0\n",
            "2021-06-05 17:25:08,706 : INFO : EPOCH 20 - PROGRESS: at 20.43% examples, 417074 words/s, in_qsize 15, out_qsize 0\n",
            "2021-06-05 17:25:09,770 : INFO : EPOCH 20 - PROGRESS: at 25.61% examples, 417975 words/s, in_qsize 16, out_qsize 1\n",
            "2021-06-05 17:25:10,785 : INFO : EPOCH 20 - PROGRESS: at 30.79% examples, 421875 words/s, in_qsize 15, out_qsize 0\n",
            "2021-06-05 17:25:11,824 : INFO : EPOCH 20 - PROGRESS: at 35.96% examples, 423263 words/s, in_qsize 16, out_qsize 0\n",
            "2021-06-05 17:25:12,860 : INFO : EPOCH 20 - PROGRESS: at 41.13% examples, 424470 words/s, in_qsize 14, out_qsize 1\n",
            "2021-06-05 17:25:13,874 : INFO : EPOCH 20 - PROGRESS: at 46.10% examples, 424566 words/s, in_qsize 15, out_qsize 0\n",
            "2021-06-05 17:25:14,874 : INFO : EPOCH 20 - PROGRESS: at 50.96% examples, 424374 words/s, in_qsize 15, out_qsize 0\n",
            "2021-06-05 17:25:15,958 : INFO : EPOCH 20 - PROGRESS: at 56.23% examples, 424196 words/s, in_qsize 15, out_qsize 0\n",
            "2021-06-05 17:25:17,023 : INFO : EPOCH 20 - PROGRESS: at 61.52% examples, 424651 words/s, in_qsize 15, out_qsize 0\n",
            "2021-06-05 17:25:18,072 : INFO : EPOCH 20 - PROGRESS: at 66.60% examples, 424264 words/s, in_qsize 14, out_qsize 1\n",
            "2021-06-05 17:25:19,111 : INFO : EPOCH 20 - PROGRESS: at 71.68% examples, 424195 words/s, in_qsize 15, out_qsize 0\n",
            "2021-06-05 17:25:20,139 : INFO : EPOCH 20 - PROGRESS: at 76.35% examples, 422174 words/s, in_qsize 13, out_qsize 5\n",
            "2021-06-05 17:25:21,184 : INFO : EPOCH 20 - PROGRESS: at 81.67% examples, 423145 words/s, in_qsize 15, out_qsize 0\n",
            "2021-06-05 17:25:22,202 : INFO : EPOCH 20 - PROGRESS: at 86.64% examples, 423134 words/s, in_qsize 15, out_qsize 0\n",
            "2021-06-05 17:25:23,236 : INFO : EPOCH 20 - PROGRESS: at 91.42% examples, 421838 words/s, in_qsize 15, out_qsize 0\n",
            "2021-06-05 17:25:24,243 : INFO : EPOCH 20 - PROGRESS: at 96.32% examples, 421708 words/s, in_qsize 15, out_qsize 0\n",
            "2021-06-05 17:25:24,799 : INFO : worker thread finished; awaiting finish of 7 more threads\n",
            "2021-06-05 17:25:24,827 : INFO : worker thread finished; awaiting finish of 6 more threads\n",
            "2021-06-05 17:25:24,843 : INFO : worker thread finished; awaiting finish of 5 more threads\n",
            "2021-06-05 17:25:24,849 : INFO : worker thread finished; awaiting finish of 4 more threads\n",
            "2021-06-05 17:25:24,851 : INFO : worker thread finished; awaiting finish of 3 more threads\n",
            "2021-06-05 17:25:24,864 : INFO : worker thread finished; awaiting finish of 2 more threads\n",
            "2021-06-05 17:25:24,869 : INFO : worker thread finished; awaiting finish of 1 more threads\n",
            "2021-06-05 17:25:24,873 : INFO : worker thread finished; awaiting finish of 0 more threads\n",
            "2021-06-05 17:25:24,876 : INFO : EPOCH - 20 : training on 9838428 raw words (8659195 effective words) took 20.4s, 424277 effective words/s\n",
            "2021-06-05 17:25:25,927 : INFO : EPOCH 21 - PROGRESS: at 4.37% examples, 365262 words/s, in_qsize 15, out_qsize 0\n",
            "2021-06-05 17:25:26,944 : INFO : EPOCH 21 - PROGRESS: at 9.16% examples, 385981 words/s, in_qsize 12, out_qsize 3\n",
            "2021-06-05 17:25:27,946 : INFO : EPOCH 21 - PROGRESS: at 14.25% examples, 403347 words/s, in_qsize 15, out_qsize 0\n",
            "2021-06-05 17:25:28,951 : INFO : EPOCH 21 - PROGRESS: at 19.51% examples, 416100 words/s, in_qsize 16, out_qsize 0\n",
            "2021-06-05 17:25:30,034 : INFO : EPOCH 21 - PROGRESS: at 24.60% examples, 415719 words/s, in_qsize 15, out_qsize 1\n",
            "2021-06-05 17:25:31,017 : INFO : EPOCH 21 - PROGRESS: at 29.67% examples, 419430 words/s, in_qsize 14, out_qsize 1\n",
            "2021-06-05 17:25:32,035 : INFO : EPOCH 21 - PROGRESS: at 34.75% examples, 421243 words/s, in_qsize 14, out_qsize 1\n",
            "2021-06-05 17:25:33,038 : INFO : EPOCH 21 - PROGRESS: at 39.51% examples, 420164 words/s, in_qsize 15, out_qsize 0\n",
            "2021-06-05 17:25:34,082 : INFO : EPOCH 21 - PROGRESS: at 43.97% examples, 414594 words/s, in_qsize 15, out_qsize 0\n",
            "2021-06-05 17:25:35,109 : INFO : EPOCH 21 - PROGRESS: at 48.53% examples, 411690 words/s, in_qsize 14, out_qsize 0\n",
            "2021-06-05 17:25:36,115 : INFO : EPOCH 21 - PROGRESS: at 52.90% examples, 408530 words/s, in_qsize 15, out_qsize 0\n",
            "2021-06-05 17:25:37,115 : INFO : EPOCH 21 - PROGRESS: at 57.86% examples, 410395 words/s, in_qsize 15, out_qsize 0\n",
            "2021-06-05 17:25:38,179 : INFO : EPOCH 21 - PROGRESS: at 61.92% examples, 404020 words/s, in_qsize 13, out_qsize 5\n",
            "2021-06-05 17:25:39,234 : INFO : EPOCH 21 - PROGRESS: at 67.01% examples, 404983 words/s, in_qsize 15, out_qsize 0\n",
            "2021-06-05 17:25:40,234 : INFO : EPOCH 21 - PROGRESS: at 71.88% examples, 406115 words/s, in_qsize 16, out_qsize 1\n",
            "2021-06-05 17:25:41,245 : INFO : EPOCH 21 - PROGRESS: at 76.56% examples, 405765 words/s, in_qsize 16, out_qsize 1\n",
            "2021-06-05 17:25:42,256 : INFO : EPOCH 21 - PROGRESS: at 81.56% examples, 406972 words/s, in_qsize 16, out_qsize 1\n",
            "2021-06-05 17:25:43,274 : INFO : EPOCH 21 - PROGRESS: at 86.64% examples, 408368 words/s, in_qsize 15, out_qsize 0\n",
            "2021-06-05 17:25:44,283 : INFO : EPOCH 21 - PROGRESS: at 91.42% examples, 408422 words/s, in_qsize 15, out_qsize 0\n",
            "2021-06-05 17:25:45,285 : INFO : EPOCH 21 - PROGRESS: at 96.22% examples, 408620 words/s, in_qsize 11, out_qsize 3\n",
            "2021-06-05 17:25:45,881 : INFO : worker thread finished; awaiting finish of 7 more threads\n",
            "2021-06-05 17:25:45,938 : INFO : worker thread finished; awaiting finish of 6 more threads\n",
            "2021-06-05 17:25:45,943 : INFO : worker thread finished; awaiting finish of 5 more threads\n",
            "2021-06-05 17:25:45,944 : INFO : worker thread finished; awaiting finish of 4 more threads\n",
            "2021-06-05 17:25:45,957 : INFO : worker thread finished; awaiting finish of 3 more threads\n",
            "2021-06-05 17:25:45,958 : INFO : worker thread finished; awaiting finish of 2 more threads\n",
            "2021-06-05 17:25:45,966 : INFO : worker thread finished; awaiting finish of 1 more threads\n",
            "2021-06-05 17:25:45,975 : INFO : worker thread finished; awaiting finish of 0 more threads\n",
            "2021-06-05 17:25:45,976 : INFO : EPOCH - 21 : training on 9838428 raw words (8661424 effective words) took 21.1s, 410797 effective words/s\n",
            "2021-06-05 17:25:47,019 : INFO : EPOCH 22 - PROGRESS: at 4.58% examples, 390812 words/s, in_qsize 15, out_qsize 0\n",
            "2021-06-05 17:25:48,063 : INFO : EPOCH 22 - PROGRESS: at 9.37% examples, 398276 words/s, in_qsize 15, out_qsize 0\n",
            "2021-06-05 17:25:49,055 : INFO : EPOCH 22 - PROGRESS: at 14.24% examples, 403912 words/s, in_qsize 15, out_qsize 0\n",
            "2021-06-05 17:25:50,073 : INFO : EPOCH 22 - PROGRESS: at 18.61% examples, 395889 words/s, in_qsize 16, out_qsize 6\n",
            "2021-06-05 17:25:51,076 : INFO : EPOCH 22 - PROGRESS: at 23.98% examples, 409518 words/s, in_qsize 15, out_qsize 1\n",
            "2021-06-05 17:25:52,113 : INFO : EPOCH 22 - PROGRESS: at 28.45% examples, 403388 words/s, in_qsize 11, out_qsize 4\n",
            "2021-06-05 17:25:53,158 : INFO : EPOCH 22 - PROGRESS: at 33.53% examples, 405979 words/s, in_qsize 15, out_qsize 0\n",
            "2021-06-05 17:25:54,231 : INFO : EPOCH 22 - PROGRESS: at 38.60% examples, 407656 words/s, in_qsize 15, out_qsize 2\n",
            "2021-06-05 17:25:55,250 : INFO : EPOCH 22 - PROGRESS: at 43.87% examples, 411198 words/s, in_qsize 16, out_qsize 0\n",
            "2021-06-05 17:25:56,328 : INFO : EPOCH 22 - PROGRESS: at 48.84% examples, 410073 words/s, in_qsize 16, out_qsize 0\n",
            "2021-06-05 17:25:57,329 : INFO : EPOCH 22 - PROGRESS: at 54.11% examples, 414245 words/s, in_qsize 15, out_qsize 0\n",
            "2021-06-05 17:25:58,428 : INFO : EPOCH 22 - PROGRESS: at 59.19% examples, 413004 words/s, in_qsize 15, out_qsize 0\n",
            "2021-06-05 17:25:59,464 : INFO : EPOCH 22 - PROGRESS: at 64.05% examples, 412576 words/s, in_qsize 12, out_qsize 3\n",
            "2021-06-05 17:26:00,471 : INFO : EPOCH 22 - PROGRESS: at 69.14% examples, 414293 words/s, in_qsize 16, out_qsize 1\n",
            "2021-06-05 17:26:01,492 : INFO : EPOCH 22 - PROGRESS: at 74.01% examples, 414250 words/s, in_qsize 15, out_qsize 0\n",
            "2021-06-05 17:26:02,517 : INFO : EPOCH 22 - PROGRESS: at 78.81% examples, 413559 words/s, in_qsize 15, out_qsize 0\n",
            "2021-06-05 17:26:03,555 : INFO : EPOCH 22 - PROGRESS: at 83.50% examples, 412186 words/s, in_qsize 15, out_qsize 0\n",
            "2021-06-05 17:26:04,585 : INFO : EPOCH 22 - PROGRESS: at 88.27% examples, 411582 words/s, in_qsize 15, out_qsize 0\n",
            "2021-06-05 17:26:05,586 : INFO : EPOCH 22 - PROGRESS: at 93.15% examples, 412085 words/s, in_qsize 15, out_qsize 1\n",
            "2021-06-05 17:26:06,646 : INFO : EPOCH 22 - PROGRESS: at 98.04% examples, 411380 words/s, in_qsize 15, out_qsize 0\n",
            "2021-06-05 17:26:06,896 : INFO : worker thread finished; awaiting finish of 7 more threads\n",
            "2021-06-05 17:26:06,905 : INFO : worker thread finished; awaiting finish of 6 more threads\n",
            "2021-06-05 17:26:06,906 : INFO : worker thread finished; awaiting finish of 5 more threads\n",
            "2021-06-05 17:26:06,931 : INFO : worker thread finished; awaiting finish of 4 more threads\n",
            "2021-06-05 17:26:06,936 : INFO : worker thread finished; awaiting finish of 3 more threads\n",
            "2021-06-05 17:26:06,939 : INFO : worker thread finished; awaiting finish of 2 more threads\n",
            "2021-06-05 17:26:06,963 : INFO : worker thread finished; awaiting finish of 1 more threads\n",
            "2021-06-05 17:26:06,977 : INFO : worker thread finished; awaiting finish of 0 more threads\n",
            "2021-06-05 17:26:06,979 : INFO : EPOCH - 22 : training on 9838428 raw words (8660638 effective words) took 21.0s, 412948 effective words/s\n",
            "2021-06-05 17:26:07,998 : INFO : EPOCH 23 - PROGRESS: at 4.48% examples, 384071 words/s, in_qsize 15, out_qsize 1\n",
            "2021-06-05 17:26:09,020 : INFO : EPOCH 23 - PROGRESS: at 9.06% examples, 385989 words/s, in_qsize 14, out_qsize 1\n",
            "2021-06-05 17:26:10,081 : INFO : EPOCH 23 - PROGRESS: at 14.35% examples, 401469 words/s, in_qsize 14, out_qsize 4\n",
            "2021-06-05 17:26:11,135 : INFO : EPOCH 23 - PROGRESS: at 19.52% examples, 407449 words/s, in_qsize 13, out_qsize 2\n",
            "2021-06-05 17:26:12,145 : INFO : EPOCH 23 - PROGRESS: at 24.70% examples, 414757 words/s, in_qsize 15, out_qsize 0\n",
            "2021-06-05 17:26:13,193 : INFO : EPOCH 23 - PROGRESS: at 29.57% examples, 412730 words/s, in_qsize 15, out_qsize 3\n",
            "2021-06-05 17:26:14,203 : INFO : EPOCH 23 - PROGRESS: at 34.44% examples, 413509 words/s, in_qsize 12, out_qsize 3\n",
            "2021-06-05 17:26:15,254 : INFO : EPOCH 23 - PROGRESS: at 39.31% examples, 412832 words/s, in_qsize 16, out_qsize 2\n",
            "2021-06-05 17:26:16,267 : INFO : EPOCH 23 - PROGRESS: at 44.37% examples, 414450 words/s, in_qsize 16, out_qsize 1\n",
            "2021-06-05 17:26:17,298 : INFO : EPOCH 23 - PROGRESS: at 49.45% examples, 416411 words/s, in_qsize 15, out_qsize 1\n",
            "2021-06-05 17:26:18,326 : INFO : EPOCH 23 - PROGRESS: at 54.71% examples, 418393 words/s, in_qsize 15, out_qsize 0\n",
            "2021-06-05 17:26:19,370 : INFO : EPOCH 23 - PROGRESS: at 59.89% examples, 419349 words/s, in_qsize 15, out_qsize 0\n",
            "2021-06-05 17:26:20,396 : INFO : EPOCH 23 - PROGRESS: at 64.86% examples, 419433 words/s, in_qsize 15, out_qsize 1\n",
            "2021-06-05 17:26:21,496 : INFO : EPOCH 23 - PROGRESS: at 70.26% examples, 419793 words/s, in_qsize 13, out_qsize 2\n",
            "2021-06-05 17:26:22,512 : INFO : EPOCH 23 - PROGRESS: at 75.94% examples, 424026 words/s, in_qsize 16, out_qsize 0\n",
            "2021-06-05 17:26:23,554 : INFO : EPOCH 23 - PROGRESS: at 80.24% examples, 419675 words/s, in_qsize 13, out_qsize 2\n",
            "2021-06-05 17:26:24,613 : INFO : EPOCH 23 - PROGRESS: at 85.72% examples, 421415 words/s, in_qsize 14, out_qsize 1\n",
            "2021-06-05 17:26:25,658 : INFO : EPOCH 23 - PROGRESS: at 90.81% examples, 421378 words/s, in_qsize 15, out_qsize 0\n",
            "2021-06-05 17:26:26,779 : INFO : EPOCH 23 - PROGRESS: at 96.32% examples, 421514 words/s, in_qsize 15, out_qsize 0\n",
            "2021-06-05 17:26:27,409 : INFO : worker thread finished; awaiting finish of 7 more threads\n",
            "2021-06-05 17:26:27,417 : INFO : worker thread finished; awaiting finish of 6 more threads\n",
            "2021-06-05 17:26:27,418 : INFO : worker thread finished; awaiting finish of 5 more threads\n",
            "2021-06-05 17:26:27,422 : INFO : worker thread finished; awaiting finish of 4 more threads\n",
            "2021-06-05 17:26:27,426 : INFO : worker thread finished; awaiting finish of 3 more threads\n",
            "2021-06-05 17:26:27,446 : INFO : worker thread finished; awaiting finish of 2 more threads\n",
            "2021-06-05 17:26:27,463 : INFO : worker thread finished; awaiting finish of 1 more threads\n",
            "2021-06-05 17:26:27,474 : INFO : worker thread finished; awaiting finish of 0 more threads\n",
            "2021-06-05 17:26:27,476 : INFO : EPOCH - 23 : training on 9838428 raw words (8660175 effective words) took 20.5s, 422755 effective words/s\n",
            "2021-06-05 17:26:28,494 : INFO : EPOCH 24 - PROGRESS: at 4.48% examples, 384070 words/s, in_qsize 15, out_qsize 0\n",
            "2021-06-05 17:26:29,545 : INFO : EPOCH 24 - PROGRESS: at 9.77% examples, 410635 words/s, in_qsize 15, out_qsize 0\n",
            "2021-06-05 17:26:30,568 : INFO : EPOCH 24 - PROGRESS: at 15.36% examples, 431140 words/s, in_qsize 16, out_qsize 0\n",
            "2021-06-05 17:26:31,598 : INFO : EPOCH 24 - PROGRESS: at 20.02% examples, 421553 words/s, in_qsize 15, out_qsize 0\n",
            "2021-06-05 17:26:32,601 : INFO : EPOCH 24 - PROGRESS: at 25.42% examples, 430061 words/s, in_qsize 15, out_qsize 1\n",
            "2021-06-05 17:26:33,628 : INFO : EPOCH 24 - PROGRESS: at 30.38% examples, 428326 words/s, in_qsize 16, out_qsize 0\n",
            "2021-06-05 17:26:34,742 : INFO : EPOCH 24 - PROGRESS: at 35.86% examples, 428064 words/s, in_qsize 16, out_qsize 0\n",
            "2021-06-05 17:26:35,747 : INFO : EPOCH 24 - PROGRESS: at 41.03% examples, 430324 words/s, in_qsize 14, out_qsize 0\n",
            "2021-06-05 17:26:36,761 : INFO : EPOCH 24 - PROGRESS: at 46.00% examples, 429758 words/s, in_qsize 15, out_qsize 0\n",
            "2021-06-05 17:26:37,784 : INFO : EPOCH 24 - PROGRESS: at 51.17% examples, 430669 words/s, in_qsize 14, out_qsize 1\n",
            "2021-06-05 17:26:38,789 : INFO : EPOCH 24 - PROGRESS: at 56.23% examples, 431318 words/s, in_qsize 11, out_qsize 4\n",
            "2021-06-05 17:26:39,826 : INFO : EPOCH 24 - PROGRESS: at 61.62% examples, 432863 words/s, in_qsize 14, out_qsize 1\n",
            "2021-06-05 17:26:40,829 : INFO : EPOCH 24 - PROGRESS: at 67.11% examples, 435925 words/s, in_qsize 15, out_qsize 0\n",
            "2021-06-05 17:26:41,834 : INFO : EPOCH 24 - PROGRESS: at 71.78% examples, 433577 words/s, in_qsize 15, out_qsize 0\n",
            "2021-06-05 17:26:42,852 : INFO : EPOCH 24 - PROGRESS: at 77.17% examples, 435181 words/s, in_qsize 16, out_qsize 0\n",
            "2021-06-05 17:26:43,916 : INFO : EPOCH 24 - PROGRESS: at 82.28% examples, 433776 words/s, in_qsize 15, out_qsize 0\n",
            "2021-06-05 17:26:44,920 : INFO : EPOCH 24 - PROGRESS: at 87.66% examples, 435552 words/s, in_qsize 15, out_qsize 0\n",
            "2021-06-05 17:26:45,983 : INFO : EPOCH 24 - PROGRESS: at 92.74% examples, 434272 words/s, in_qsize 14, out_qsize 1\n",
            "2021-06-05 17:26:46,987 : INFO : EPOCH 24 - PROGRESS: at 98.04% examples, 435352 words/s, in_qsize 16, out_qsize 0\n",
            "2021-06-05 17:26:47,223 : INFO : worker thread finished; awaiting finish of 7 more threads\n",
            "2021-06-05 17:26:47,225 : INFO : worker thread finished; awaiting finish of 6 more threads\n",
            "2021-06-05 17:26:47,233 : INFO : worker thread finished; awaiting finish of 5 more threads\n",
            "2021-06-05 17:26:47,234 : INFO : worker thread finished; awaiting finish of 4 more threads\n",
            "2021-06-05 17:26:47,266 : INFO : worker thread finished; awaiting finish of 3 more threads\n",
            "2021-06-05 17:26:47,277 : INFO : worker thread finished; awaiting finish of 2 more threads\n",
            "2021-06-05 17:26:47,286 : INFO : worker thread finished; awaiting finish of 1 more threads\n",
            "2021-06-05 17:26:47,304 : INFO : worker thread finished; awaiting finish of 0 more threads\n",
            "2021-06-05 17:26:47,305 : INFO : EPOCH - 24 : training on 9838428 raw words (8659705 effective words) took 19.8s, 436953 effective words/s\n",
            "2021-06-05 17:26:48,321 : INFO : EPOCH 25 - PROGRESS: at 4.38% examples, 377348 words/s, in_qsize 10, out_qsize 7\n",
            "2021-06-05 17:26:49,388 : INFO : EPOCH 25 - PROGRESS: at 9.67% examples, 404073 words/s, in_qsize 11, out_qsize 4\n",
            "2021-06-05 17:26:50,458 : INFO : EPOCH 25 - PROGRESS: at 15.36% examples, 423081 words/s, in_qsize 15, out_qsize 0\n",
            "2021-06-05 17:26:51,486 : INFO : EPOCH 25 - PROGRESS: at 20.53% examples, 426481 words/s, in_qsize 14, out_qsize 1\n",
            "2021-06-05 17:26:52,486 : INFO : EPOCH 25 - PROGRESS: at 25.51% examples, 427348 words/s, in_qsize 15, out_qsize 3\n",
            "2021-06-05 17:26:53,530 : INFO : EPOCH 25 - PROGRESS: at 31.09% examples, 433486 words/s, in_qsize 15, out_qsize 0\n",
            "2021-06-05 17:26:54,599 : INFO : EPOCH 25 - PROGRESS: at 36.26% examples, 431450 words/s, in_qsize 15, out_qsize 0\n",
            "2021-06-05 17:26:55,603 : INFO : EPOCH 25 - PROGRESS: at 41.53% examples, 434404 words/s, in_qsize 15, out_qsize 0\n",
            "2021-06-05 17:26:56,638 : INFO : EPOCH 25 - PROGRESS: at 46.81% examples, 435273 words/s, in_qsize 16, out_qsize 4\n",
            "2021-06-05 17:26:57,662 : INFO : EPOCH 25 - PROGRESS: at 52.39% examples, 439016 words/s, in_qsize 15, out_qsize 0\n",
            "2021-06-05 17:26:58,672 : INFO : EPOCH 25 - PROGRESS: at 57.25% examples, 437129 words/s, in_qsize 15, out_qsize 0\n",
            "2021-06-05 17:26:59,724 : INFO : EPOCH 25 - PROGRESS: at 62.53% examples, 437846 words/s, in_qsize 14, out_qsize 4\n",
            "2021-06-05 17:27:00,708 : INFO : EPOCH 25 - PROGRESS: at 67.72% examples, 438372 words/s, in_qsize 14, out_qsize 1\n",
            "2021-06-05 17:27:01,748 : INFO : EPOCH 25 - PROGRESS: at 72.79% examples, 437255 words/s, in_qsize 14, out_qsize 1\n",
            "2021-06-05 17:27:02,774 : INFO : EPOCH 25 - PROGRESS: at 77.89% examples, 436910 words/s, in_qsize 15, out_qsize 1\n",
            "2021-06-05 17:27:03,768 : INFO : EPOCH 25 - PROGRESS: at 83.29% examples, 438663 words/s, in_qsize 15, out_qsize 0\n",
            "2021-06-05 17:27:04,783 : INFO : EPOCH 25 - PROGRESS: at 88.47% examples, 438831 words/s, in_qsize 15, out_qsize 0\n",
            "2021-06-05 17:27:05,795 : INFO : EPOCH 25 - PROGRESS: at 93.67% examples, 439050 words/s, in_qsize 15, out_qsize 0\n",
            "2021-06-05 17:27:06,870 : INFO : EPOCH 25 - PROGRESS: at 99.05% examples, 438774 words/s, in_qsize 9, out_qsize 1\n",
            "2021-06-05 17:27:06,913 : INFO : worker thread finished; awaiting finish of 7 more threads\n",
            "2021-06-05 17:27:06,949 : INFO : worker thread finished; awaiting finish of 6 more threads\n",
            "2021-06-05 17:27:06,954 : INFO : worker thread finished; awaiting finish of 5 more threads\n",
            "2021-06-05 17:27:06,956 : INFO : worker thread finished; awaiting finish of 4 more threads\n",
            "2021-06-05 17:27:06,959 : INFO : worker thread finished; awaiting finish of 3 more threads\n",
            "2021-06-05 17:27:06,962 : INFO : worker thread finished; awaiting finish of 2 more threads\n",
            "2021-06-05 17:27:06,979 : INFO : worker thread finished; awaiting finish of 1 more threads\n",
            "2021-06-05 17:27:06,987 : INFO : worker thread finished; awaiting finish of 0 more threads\n",
            "2021-06-05 17:27:06,988 : INFO : EPOCH - 25 : training on 9838428 raw words (8660684 effective words) took 19.7s, 440322 effective words/s\n",
            "2021-06-05 17:27:08,026 : INFO : EPOCH 26 - PROGRESS: at 4.58% examples, 386267 words/s, in_qsize 16, out_qsize 0\n",
            "2021-06-05 17:27:09,059 : INFO : EPOCH 26 - PROGRESS: at 9.97% examples, 419124 words/s, in_qsize 15, out_qsize 0\n",
            "2021-06-05 17:27:10,085 : INFO : EPOCH 26 - PROGRESS: at 14.85% examples, 416584 words/s, in_qsize 16, out_qsize 0\n",
            "2021-06-05 17:27:11,102 : INFO : EPOCH 26 - PROGRESS: at 20.12% examples, 424726 words/s, in_qsize 14, out_qsize 0\n",
            "2021-06-05 17:27:12,104 : INFO : EPOCH 26 - PROGRESS: at 25.21% examples, 427491 words/s, in_qsize 16, out_qsize 0\n",
            "2021-06-05 17:27:13,108 : INFO : EPOCH 26 - PROGRESS: at 30.28% examples, 429243 words/s, in_qsize 16, out_qsize 3\n",
            "2021-06-05 17:27:14,113 : INFO : EPOCH 26 - PROGRESS: at 35.86% examples, 436690 words/s, in_qsize 14, out_qsize 0\n",
            "2021-06-05 17:27:15,131 : INFO : EPOCH 26 - PROGRESS: at 41.03% examples, 437185 words/s, in_qsize 15, out_qsize 0\n",
            "2021-06-05 17:27:16,162 : INFO : EPOCH 26 - PROGRESS: at 46.10% examples, 435976 words/s, in_qsize 16, out_qsize 0\n",
            "2021-06-05 17:27:17,194 : INFO : EPOCH 26 - PROGRESS: at 51.27% examples, 436241 words/s, in_qsize 15, out_qsize 1\n",
            "2021-06-05 17:27:18,286 : INFO : EPOCH 26 - PROGRESS: at 56.95% examples, 437383 words/s, in_qsize 15, out_qsize 0\n",
            "2021-06-05 17:27:19,316 : INFO : EPOCH 26 - PROGRESS: at 62.53% examples, 440122 words/s, in_qsize 15, out_qsize 0\n",
            "2021-06-05 17:27:20,388 : INFO : EPOCH 26 - PROGRESS: at 67.92% examples, 439709 words/s, in_qsize 15, out_qsize 0\n",
            "2021-06-05 17:27:21,408 : INFO : EPOCH 26 - PROGRESS: at 73.30% examples, 440921 words/s, in_qsize 14, out_qsize 1\n",
            "2021-06-05 17:27:22,469 : INFO : EPOCH 26 - PROGRESS: at 78.50% examples, 439685 words/s, in_qsize 16, out_qsize 0\n",
            "2021-06-05 17:27:23,498 : INFO : EPOCH 26 - PROGRESS: at 83.70% examples, 440176 words/s, in_qsize 16, out_qsize 0\n",
            "2021-06-05 17:27:24,473 : INFO : EPOCH 26 - PROGRESS: at 88.77% examples, 440115 words/s, in_qsize 15, out_qsize 1\n",
            "2021-06-05 17:27:25,479 : INFO : EPOCH 26 - PROGRESS: at 94.18% examples, 441371 words/s, in_qsize 15, out_qsize 1\n",
            "2021-06-05 17:27:26,470 : INFO : worker thread finished; awaiting finish of 7 more threads\n",
            "2021-06-05 17:27:26,473 : INFO : worker thread finished; awaiting finish of 6 more threads\n",
            "2021-06-05 17:27:26,533 : INFO : EPOCH 26 - PROGRESS: at 99.56% examples, 441425 words/s, in_qsize 5, out_qsize 1\n",
            "2021-06-05 17:27:26,535 : INFO : worker thread finished; awaiting finish of 5 more threads\n",
            "2021-06-05 17:27:26,548 : INFO : worker thread finished; awaiting finish of 4 more threads\n",
            "2021-06-05 17:27:26,569 : INFO : worker thread finished; awaiting finish of 3 more threads\n",
            "2021-06-05 17:27:26,586 : INFO : worker thread finished; awaiting finish of 2 more threads\n",
            "2021-06-05 17:27:26,594 : INFO : worker thread finished; awaiting finish of 1 more threads\n",
            "2021-06-05 17:27:26,600 : INFO : worker thread finished; awaiting finish of 0 more threads\n",
            "2021-06-05 17:27:26,602 : INFO : EPOCH - 26 : training on 9838428 raw words (8659808 effective words) took 19.6s, 441798 effective words/s\n",
            "2021-06-05 17:27:27,622 : INFO : EPOCH 27 - PROGRESS: at 4.48% examples, 383808 words/s, in_qsize 15, out_qsize 0\n",
            "2021-06-05 17:27:28,635 : INFO : EPOCH 27 - PROGRESS: at 9.47% examples, 404854 words/s, in_qsize 13, out_qsize 5\n",
            "2021-06-05 17:27:29,693 : INFO : EPOCH 27 - PROGRESS: at 15.06% examples, 422759 words/s, in_qsize 16, out_qsize 0\n",
            "2021-06-05 17:27:30,702 : INFO : EPOCH 27 - PROGRESS: at 20.53% examples, 434653 words/s, in_qsize 15, out_qsize 0\n",
            "2021-06-05 17:27:31,737 : INFO : EPOCH 27 - PROGRESS: at 25.62% examples, 432676 words/s, in_qsize 15, out_qsize 0\n",
            "2021-06-05 17:27:32,742 : INFO : EPOCH 27 - PROGRESS: at 30.58% examples, 432166 words/s, in_qsize 12, out_qsize 3\n",
            "2021-06-05 17:27:33,757 : INFO : EPOCH 27 - PROGRESS: at 35.86% examples, 434821 words/s, in_qsize 15, out_qsize 0\n",
            "2021-06-05 17:27:34,771 : INFO : EPOCH 27 - PROGRESS: at 40.72% examples, 432551 words/s, in_qsize 16, out_qsize 0\n",
            "2021-06-05 17:27:35,772 : INFO : EPOCH 27 - PROGRESS: at 45.59% examples, 431359 words/s, in_qsize 15, out_qsize 1\n",
            "2021-06-05 17:27:36,790 : INFO : EPOCH 27 - PROGRESS: at 50.66% examples, 431478 words/s, in_qsize 15, out_qsize 0\n",
            "2021-06-05 17:27:37,798 : INFO : EPOCH 27 - PROGRESS: at 55.72% examples, 431935 words/s, in_qsize 12, out_qsize 3\n",
            "2021-06-05 17:27:38,798 : INFO : EPOCH 27 - PROGRESS: at 61.02% examples, 434024 words/s, in_qsize 14, out_qsize 1\n",
            "2021-06-05 17:27:39,802 : INFO : EPOCH 27 - PROGRESS: at 65.68% examples, 431680 words/s, in_qsize 15, out_qsize 0\n",
            "2021-06-05 17:27:40,881 : INFO : EPOCH 27 - PROGRESS: at 70.76% examples, 429875 words/s, in_qsize 15, out_qsize 7\n",
            "2021-06-05 17:27:41,922 : INFO : EPOCH 27 - PROGRESS: at 76.35% examples, 432895 words/s, in_qsize 15, out_qsize 2\n",
            "2021-06-05 17:27:42,969 : INFO : EPOCH 27 - PROGRESS: at 81.87% examples, 433600 words/s, in_qsize 15, out_qsize 1\n",
            "2021-06-05 17:27:44,029 : INFO : EPOCH 27 - PROGRESS: at 87.34% examples, 434500 words/s, in_qsize 15, out_qsize 0\n",
            "2021-06-05 17:27:45,040 : INFO : EPOCH 27 - PROGRESS: at 92.95% examples, 436897 words/s, in_qsize 15, out_qsize 0\n",
            "2021-06-05 17:27:46,105 : INFO : EPOCH 27 - PROGRESS: at 97.94% examples, 435127 words/s, in_qsize 15, out_qsize 4\n",
            "2021-06-05 17:27:46,294 : INFO : worker thread finished; awaiting finish of 7 more threads\n",
            "2021-06-05 17:27:46,302 : INFO : worker thread finished; awaiting finish of 6 more threads\n",
            "2021-06-05 17:27:46,335 : INFO : worker thread finished; awaiting finish of 5 more threads\n",
            "2021-06-05 17:27:46,352 : INFO : worker thread finished; awaiting finish of 4 more threads\n",
            "2021-06-05 17:27:46,367 : INFO : worker thread finished; awaiting finish of 3 more threads\n",
            "2021-06-05 17:27:46,381 : INFO : worker thread finished; awaiting finish of 2 more threads\n",
            "2021-06-05 17:27:46,389 : INFO : worker thread finished; awaiting finish of 1 more threads\n",
            "2021-06-05 17:27:46,398 : INFO : worker thread finished; awaiting finish of 0 more threads\n",
            "2021-06-05 17:27:46,400 : INFO : EPOCH - 27 : training on 9838428 raw words (8660296 effective words) took 19.8s, 437693 effective words/s\n",
            "2021-06-05 17:27:47,456 : INFO : EPOCH 28 - PROGRESS: at 4.89% examples, 404994 words/s, in_qsize 15, out_qsize 0\n",
            "2021-06-05 17:27:48,478 : INFO : EPOCH 28 - PROGRESS: at 9.87% examples, 417411 words/s, in_qsize 15, out_qsize 4\n",
            "2021-06-05 17:27:49,475 : INFO : EPOCH 28 - PROGRESS: at 15.16% examples, 427996 words/s, in_qsize 15, out_qsize 0\n",
            "2021-06-05 17:27:50,476 : INFO : EPOCH 28 - PROGRESS: at 20.22% examples, 430766 words/s, in_qsize 15, out_qsize 0\n",
            "2021-06-05 17:27:51,567 : INFO : EPOCH 28 - PROGRESS: at 25.51% examples, 428340 words/s, in_qsize 15, out_qsize 0\n",
            "2021-06-05 17:27:52,622 : INFO : EPOCH 28 - PROGRESS: at 30.99% examples, 432150 words/s, in_qsize 15, out_qsize 0\n",
            "2021-06-05 17:27:53,659 : INFO : EPOCH 28 - PROGRESS: at 36.06% examples, 430986 words/s, in_qsize 15, out_qsize 0\n",
            "2021-06-05 17:27:54,666 : INFO : EPOCH 28 - PROGRESS: at 41.13% examples, 431727 words/s, in_qsize 14, out_qsize 1\n",
            "2021-06-05 17:27:55,674 : INFO : EPOCH 28 - PROGRESS: at 46.61% examples, 436057 words/s, in_qsize 15, out_qsize 0\n",
            "2021-06-05 17:27:56,701 : INFO : EPOCH 28 - PROGRESS: at 52.08% examples, 438740 words/s, in_qsize 15, out_qsize 1\n",
            "2021-06-05 17:27:57,717 : INFO : EPOCH 28 - PROGRESS: at 57.05% examples, 437446 words/s, in_qsize 15, out_qsize 0\n",
            "2021-06-05 17:27:58,740 : INFO : EPOCH 28 - PROGRESS: at 62.23% examples, 437592 words/s, in_qsize 15, out_qsize 0\n",
            "2021-06-05 17:27:59,838 : INFO : EPOCH 28 - PROGRESS: at 67.72% examples, 437187 words/s, in_qsize 14, out_qsize 1\n",
            "2021-06-05 17:28:00,838 : INFO : EPOCH 28 - PROGRESS: at 72.90% examples, 437964 words/s, in_qsize 12, out_qsize 4\n",
            "2021-06-05 17:28:01,961 : INFO : EPOCH 28 - PROGRESS: at 78.60% examples, 438016 words/s, in_qsize 14, out_qsize 1\n",
            "2021-06-05 17:28:02,977 : INFO : EPOCH 28 - PROGRESS: at 84.20% examples, 440374 words/s, in_qsize 14, out_qsize 1\n",
            "2021-06-05 17:28:04,017 : INFO : EPOCH 28 - PROGRESS: at 89.17% examples, 438867 words/s, in_qsize 15, out_qsize 0\n",
            "2021-06-05 17:28:05,043 : INFO : EPOCH 28 - PROGRESS: at 94.59% examples, 440197 words/s, in_qsize 15, out_qsize 0\n",
            "2021-06-05 17:28:05,957 : INFO : worker thread finished; awaiting finish of 7 more threads\n",
            "2021-06-05 17:28:05,960 : INFO : worker thread finished; awaiting finish of 6 more threads\n",
            "2021-06-05 17:28:05,961 : INFO : worker thread finished; awaiting finish of 5 more threads\n",
            "2021-06-05 17:28:05,962 : INFO : worker thread finished; awaiting finish of 4 more threads\n",
            "2021-06-05 17:28:05,986 : INFO : worker thread finished; awaiting finish of 3 more threads\n",
            "2021-06-05 17:28:06,000 : INFO : worker thread finished; awaiting finish of 2 more threads\n",
            "2021-06-05 17:28:06,006 : INFO : worker thread finished; awaiting finish of 1 more threads\n",
            "2021-06-05 17:28:06,013 : INFO : worker thread finished; awaiting finish of 0 more threads\n",
            "2021-06-05 17:28:06,014 : INFO : EPOCH - 28 : training on 9838428 raw words (8660280 effective words) took 19.6s, 441845 effective words/s\n",
            "2021-06-05 17:28:07,076 : INFO : EPOCH 29 - PROGRESS: at 4.89% examples, 401858 words/s, in_qsize 15, out_qsize 0\n",
            "2021-06-05 17:28:08,077 : INFO : EPOCH 29 - PROGRESS: at 10.08% examples, 424731 words/s, in_qsize 15, out_qsize 0\n",
            "2021-06-05 17:28:09,083 : INFO : EPOCH 29 - PROGRESS: at 15.15% examples, 428838 words/s, in_qsize 16, out_qsize 0\n",
            "2021-06-05 17:28:10,090 : INFO : EPOCH 29 - PROGRESS: at 20.12% examples, 428561 words/s, in_qsize 14, out_qsize 1\n",
            "2021-06-05 17:28:11,103 : INFO : EPOCH 29 - PROGRESS: at 25.11% examples, 428017 words/s, in_qsize 13, out_qsize 3\n",
            "2021-06-05 17:28:12,152 : INFO : EPOCH 29 - PROGRESS: at 30.48% examples, 430780 words/s, in_qsize 14, out_qsize 1\n",
            "2021-06-05 17:28:13,157 : INFO : EPOCH 29 - PROGRESS: at 35.55% examples, 431754 words/s, in_qsize 13, out_qsize 2\n",
            "2021-06-05 17:28:14,172 : INFO : EPOCH 29 - PROGRESS: at 40.52% examples, 430933 words/s, in_qsize 10, out_qsize 5\n",
            "2021-06-05 17:28:15,180 : INFO : EPOCH 29 - PROGRESS: at 45.90% examples, 434395 words/s, in_qsize 14, out_qsize 1\n",
            "2021-06-05 17:28:16,224 : INFO : EPOCH 29 - PROGRESS: at 50.86% examples, 432239 words/s, in_qsize 15, out_qsize 3\n",
            "2021-06-05 17:28:17,269 : INFO : EPOCH 29 - PROGRESS: at 56.34% examples, 434320 words/s, in_qsize 16, out_qsize 1\n",
            "2021-06-05 17:28:18,272 : INFO : EPOCH 29 - PROGRESS: at 61.92% examples, 438278 words/s, in_qsize 14, out_qsize 1\n",
            "2021-06-05 17:28:19,327 : INFO : EPOCH 29 - PROGRESS: at 67.00% examples, 436654 words/s, in_qsize 16, out_qsize 0\n",
            "2021-06-05 17:28:20,357 : INFO : EPOCH 29 - PROGRESS: at 72.29% examples, 437158 words/s, in_qsize 13, out_qsize 2\n",
            "2021-06-05 17:28:21,410 : INFO : EPOCH 29 - PROGRESS: at 77.68% examples, 437546 words/s, in_qsize 15, out_qsize 0\n",
            "2021-06-05 17:28:22,455 : INFO : EPOCH 29 - PROGRESS: at 82.78% examples, 436491 words/s, in_qsize 16, out_qsize 1\n",
            "2021-06-05 17:28:23,563 : INFO : EPOCH 29 - PROGRESS: at 88.57% examples, 437507 words/s, in_qsize 15, out_qsize 0\n",
            "2021-06-05 17:28:24,590 : INFO : EPOCH 29 - PROGRESS: at 94.18% examples, 439313 words/s, in_qsize 16, out_qsize 0\n",
            "2021-06-05 17:28:25,630 : INFO : EPOCH 29 - PROGRESS: at 99.15% examples, 437995 words/s, in_qsize 8, out_qsize 1\n",
            "2021-06-05 17:28:25,634 : INFO : worker thread finished; awaiting finish of 7 more threads\n",
            "2021-06-05 17:28:25,641 : INFO : worker thread finished; awaiting finish of 6 more threads\n",
            "2021-06-05 17:28:25,647 : INFO : worker thread finished; awaiting finish of 5 more threads\n",
            "2021-06-05 17:28:25,649 : INFO : worker thread finished; awaiting finish of 4 more threads\n",
            "2021-06-05 17:28:25,661 : INFO : worker thread finished; awaiting finish of 3 more threads\n",
            "2021-06-05 17:28:25,667 : INFO : worker thread finished; awaiting finish of 2 more threads\n",
            "2021-06-05 17:28:25,678 : INFO : worker thread finished; awaiting finish of 1 more threads\n",
            "2021-06-05 17:28:25,692 : INFO : worker thread finished; awaiting finish of 0 more threads\n",
            "2021-06-05 17:28:25,694 : INFO : EPOCH - 29 : training on 9838428 raw words (8659354 effective words) took 19.7s, 440287 effective words/s\n",
            "2021-06-05 17:28:26,770 : INFO : EPOCH 30 - PROGRESS: at 4.68% examples, 384778 words/s, in_qsize 16, out_qsize 2\n",
            "2021-06-05 17:28:27,788 : INFO : EPOCH 30 - PROGRESS: at 9.67% examples, 401697 words/s, in_qsize 14, out_qsize 1\n",
            "2021-06-05 17:28:28,791 : INFO : EPOCH 30 - PROGRESS: at 14.65% examples, 410760 words/s, in_qsize 13, out_qsize 2\n",
            "2021-06-05 17:28:29,828 : INFO : EPOCH 30 - PROGRESS: at 19.82% examples, 416204 words/s, in_qsize 16, out_qsize 0\n",
            "2021-06-05 17:28:30,846 : INFO : EPOCH 30 - PROGRESS: at 25.41% examples, 427956 words/s, in_qsize 15, out_qsize 0\n",
            "2021-06-05 17:28:31,859 : INFO : EPOCH 30 - PROGRESS: at 30.48% examples, 429010 words/s, in_qsize 15, out_qsize 0\n",
            "2021-06-05 17:28:32,860 : INFO : EPOCH 30 - PROGRESS: at 35.55% examples, 430476 words/s, in_qsize 12, out_qsize 3\n",
            "2021-06-05 17:28:33,949 : INFO : EPOCH 30 - PROGRESS: at 41.03% examples, 431324 words/s, in_qsize 16, out_qsize 0\n",
            "2021-06-05 17:28:34,995 : INFO : EPOCH 30 - PROGRESS: at 46.10% examples, 430123 words/s, in_qsize 16, out_qsize 2\n",
            "2021-06-05 17:28:36,040 : INFO : EPOCH 30 - PROGRESS: at 51.47% examples, 431783 words/s, in_qsize 15, out_qsize 0\n",
            "2021-06-05 17:28:37,071 : INFO : EPOCH 30 - PROGRESS: at 56.95% examples, 434404 words/s, in_qsize 15, out_qsize 0\n",
            "2021-06-05 17:28:38,109 : INFO : EPOCH 30 - PROGRESS: at 62.02% examples, 433502 words/s, in_qsize 14, out_qsize 1\n",
            "2021-06-05 17:28:39,151 : INFO : EPOCH 30 - PROGRESS: at 67.11% examples, 432621 words/s, in_qsize 15, out_qsize 0\n",
            "2021-06-05 17:28:40,233 : INFO : EPOCH 30 - PROGRESS: at 72.49% examples, 432500 words/s, in_qsize 15, out_qsize 0\n",
            "2021-06-05 17:28:41,241 : INFO : EPOCH 30 - PROGRESS: at 77.58% examples, 432748 words/s, in_qsize 15, out_qsize 0\n",
            "2021-06-05 17:28:42,360 : INFO : EPOCH 30 - PROGRESS: at 82.88% examples, 431144 words/s, in_qsize 15, out_qsize 6\n",
            "2021-06-05 17:28:43,382 : INFO : EPOCH 30 - PROGRESS: at 88.26% examples, 432602 words/s, in_qsize 15, out_qsize 4\n",
            "2021-06-05 17:28:44,431 : INFO : EPOCH 30 - PROGRESS: at 93.98% examples, 434655 words/s, in_qsize 15, out_qsize 0\n",
            "2021-06-05 17:28:45,433 : INFO : EPOCH 30 - PROGRESS: at 99.25% examples, 435765 words/s, in_qsize 8, out_qsize 0\n",
            "2021-06-05 17:28:45,469 : INFO : worker thread finished; awaiting finish of 7 more threads\n",
            "2021-06-05 17:28:45,481 : INFO : worker thread finished; awaiting finish of 6 more threads\n",
            "2021-06-05 17:28:45,483 : INFO : worker thread finished; awaiting finish of 5 more threads\n",
            "2021-06-05 17:28:45,486 : INFO : worker thread finished; awaiting finish of 4 more threads\n",
            "2021-06-05 17:28:45,505 : INFO : worker thread finished; awaiting finish of 3 more threads\n",
            "2021-06-05 17:28:45,514 : INFO : worker thread finished; awaiting finish of 2 more threads\n",
            "2021-06-05 17:28:45,524 : INFO : worker thread finished; awaiting finish of 1 more threads\n",
            "2021-06-05 17:28:45,530 : INFO : worker thread finished; awaiting finish of 0 more threads\n",
            "2021-06-05 17:28:45,531 : INFO : EPOCH - 30 : training on 9838428 raw words (8660608 effective words) took 19.8s, 436858 effective words/s\n",
            "2021-06-05 17:28:46,575 : INFO : EPOCH 31 - PROGRESS: at 5.09% examples, 427070 words/s, in_qsize 16, out_qsize 0\n",
            "2021-06-05 17:28:47,597 : INFO : EPOCH 31 - PROGRESS: at 9.97% examples, 420426 words/s, in_qsize 15, out_qsize 1\n",
            "2021-06-05 17:28:48,604 : INFO : EPOCH 31 - PROGRESS: at 15.05% examples, 425720 words/s, in_qsize 14, out_qsize 1\n",
            "2021-06-05 17:28:49,607 : INFO : EPOCH 31 - PROGRESS: at 20.42% examples, 435437 words/s, in_qsize 16, out_qsize 1\n",
            "2021-06-05 17:28:50,632 : INFO : EPOCH 31 - PROGRESS: at 25.62% examples, 435915 words/s, in_qsize 16, out_qsize 1\n",
            "2021-06-05 17:28:51,658 : INFO : EPOCH 31 - PROGRESS: at 30.79% examples, 437175 words/s, in_qsize 15, out_qsize 1\n",
            "2021-06-05 17:28:52,645 : INFO : EPOCH 31 - PROGRESS: at 35.66% examples, 435028 words/s, in_qsize 11, out_qsize 5\n",
            "2021-06-05 17:28:53,721 : INFO : EPOCH 31 - PROGRESS: at 41.33% examples, 438015 words/s, in_qsize 15, out_qsize 0\n",
            "2021-06-05 17:28:54,725 : INFO : EPOCH 31 - PROGRESS: at 46.20% examples, 436161 words/s, in_qsize 14, out_qsize 1\n",
            "2021-06-05 17:28:55,763 : INFO : EPOCH 31 - PROGRESS: at 51.17% examples, 434706 words/s, in_qsize 16, out_qsize 2\n",
            "2021-06-05 17:28:56,829 : INFO : EPOCH 31 - PROGRESS: at 56.64% examples, 435175 words/s, in_qsize 14, out_qsize 1\n",
            "2021-06-05 17:28:57,840 : INFO : EPOCH 31 - PROGRESS: at 62.02% examples, 437323 words/s, in_qsize 15, out_qsize 2\n",
            "2021-06-05 17:28:58,875 : INFO : EPOCH 31 - PROGRESS: at 67.31% examples, 437681 words/s, in_qsize 15, out_qsize 0\n",
            "2021-06-05 17:28:59,880 : INFO : EPOCH 31 - PROGRESS: at 72.90% examples, 440743 words/s, in_qsize 15, out_qsize 0\n",
            "2021-06-05 17:29:00,882 : INFO : EPOCH 31 - PROGRESS: at 77.88% examples, 440064 words/s, in_qsize 15, out_qsize 0\n",
            "2021-06-05 17:29:01,943 : INFO : EPOCH 31 - PROGRESS: at 83.39% examples, 440573 words/s, in_qsize 15, out_qsize 0\n",
            "2021-06-05 17:29:03,043 : INFO : EPOCH 31 - PROGRESS: at 88.47% examples, 438037 words/s, in_qsize 16, out_qsize 4\n",
            "2021-06-05 17:29:04,047 : INFO : EPOCH 31 - PROGRESS: at 94.18% examples, 440867 words/s, in_qsize 15, out_qsize 0\n",
            "2021-06-05 17:29:05,030 : INFO : worker thread finished; awaiting finish of 7 more threads\n",
            "2021-06-05 17:29:05,036 : INFO : worker thread finished; awaiting finish of 6 more threads\n",
            "2021-06-05 17:29:05,045 : INFO : worker thread finished; awaiting finish of 5 more threads\n",
            "2021-06-05 17:29:05,084 : INFO : EPOCH 31 - PROGRESS: at 99.59% examples, 441473 words/s, in_qsize 4, out_qsize 0\n",
            "2021-06-05 17:29:05,094 : INFO : worker thread finished; awaiting finish of 4 more threads\n",
            "2021-06-05 17:29:05,113 : INFO : worker thread finished; awaiting finish of 3 more threads\n",
            "2021-06-05 17:29:05,121 : INFO : worker thread finished; awaiting finish of 2 more threads\n",
            "2021-06-05 17:29:05,122 : INFO : worker thread finished; awaiting finish of 1 more threads\n",
            "2021-06-05 17:29:05,137 : INFO : worker thread finished; awaiting finish of 0 more threads\n",
            "2021-06-05 17:29:05,139 : INFO : EPOCH - 31 : training on 9838428 raw words (8660869 effective words) took 19.6s, 442017 effective words/s\n",
            "2021-06-05 17:29:06,167 : INFO : EPOCH 32 - PROGRESS: at 4.48% examples, 381262 words/s, in_qsize 13, out_qsize 2\n",
            "2021-06-05 17:29:07,188 : INFO : EPOCH 32 - PROGRESS: at 9.67% examples, 410640 words/s, in_qsize 15, out_qsize 0\n",
            "2021-06-05 17:29:08,255 : INFO : EPOCH 32 - PROGRESS: at 15.26% examples, 429028 words/s, in_qsize 15, out_qsize 1\n",
            "2021-06-05 17:29:09,269 : INFO : EPOCH 32 - PROGRESS: at 20.43% examples, 429549 words/s, in_qsize 15, out_qsize 0\n",
            "2021-06-05 17:29:10,345 : INFO : EPOCH 32 - PROGRESS: at 25.82% examples, 430344 words/s, in_qsize 15, out_qsize 0\n",
            "2021-06-05 17:29:11,386 : INFO : EPOCH 32 - PROGRESS: at 31.40% examples, 436128 words/s, in_qsize 15, out_qsize 0\n",
            "2021-06-05 17:29:12,438 : INFO : EPOCH 32 - PROGRESS: at 36.56% examples, 434746 words/s, in_qsize 15, out_qsize 0\n",
            "2021-06-05 17:29:13,442 : INFO : EPOCH 32 - PROGRESS: at 42.04% examples, 439373 words/s, in_qsize 15, out_qsize 0\n",
            "2021-06-05 17:29:14,452 : INFO : EPOCH 32 - PROGRESS: at 46.71% examples, 435215 words/s, in_qsize 15, out_qsize 0\n",
            "2021-06-05 17:29:15,461 : INFO : EPOCH 32 - PROGRESS: at 52.18% examples, 438711 words/s, in_qsize 16, out_qsize 0\n",
            "2021-06-05 17:29:16,555 : INFO : EPOCH 32 - PROGRESS: at 57.25% examples, 435170 words/s, in_qsize 14, out_qsize 4\n",
            "2021-06-05 17:29:17,568 : INFO : EPOCH 32 - PROGRESS: at 62.83% examples, 438679 words/s, in_qsize 16, out_qsize 0\n",
            "2021-06-05 17:29:18,594 : INFO : EPOCH 32 - PROGRESS: at 67.82% examples, 437242 words/s, in_qsize 15, out_qsize 0\n",
            "2021-06-05 17:29:19,599 : INFO : EPOCH 32 - PROGRESS: at 72.79% examples, 436657 words/s, in_qsize 15, out_qsize 0\n",
            "2021-06-05 17:29:20,694 : INFO : EPOCH 32 - PROGRESS: at 78.40% examples, 437041 words/s, in_qsize 12, out_qsize 3\n",
            "2021-06-05 17:29:21,708 : INFO : EPOCH 32 - PROGRESS: at 83.80% examples, 438445 words/s, in_qsize 15, out_qsize 0\n",
            "2021-06-05 17:29:22,729 : INFO : EPOCH 32 - PROGRESS: at 89.07% examples, 439010 words/s, in_qsize 15, out_qsize 0\n",
            "2021-06-05 17:29:23,762 : INFO : EPOCH 32 - PROGRESS: at 94.39% examples, 439203 words/s, in_qsize 15, out_qsize 0\n",
            "2021-06-05 17:29:24,704 : INFO : worker thread finished; awaiting finish of 7 more threads\n",
            "2021-06-05 17:29:24,709 : INFO : worker thread finished; awaiting finish of 6 more threads\n",
            "2021-06-05 17:29:24,722 : INFO : worker thread finished; awaiting finish of 5 more threads\n",
            "2021-06-05 17:29:24,724 : INFO : worker thread finished; awaiting finish of 4 more threads\n",
            "2021-06-05 17:29:24,731 : INFO : worker thread finished; awaiting finish of 3 more threads\n",
            "2021-06-05 17:29:24,746 : INFO : worker thread finished; awaiting finish of 2 more threads\n",
            "2021-06-05 17:29:24,763 : INFO : EPOCH 32 - PROGRESS: at 99.90% examples, 441131 words/s, in_qsize 1, out_qsize 1\n",
            "2021-06-05 17:29:24,764 : INFO : worker thread finished; awaiting finish of 1 more threads\n",
            "2021-06-05 17:29:24,784 : INFO : worker thread finished; awaiting finish of 0 more threads\n",
            "2021-06-05 17:29:24,785 : INFO : EPOCH - 32 : training on 9838428 raw words (8659773 effective words) took 19.6s, 441100 effective words/s\n",
            "2021-06-05 17:29:24,787 : INFO : training on a 314829696 raw words (277125557 effective words) took 635.5s, 436075 effective words/s\n"
          ],
          "name": "stderr"
        },
        {
          "output_type": "stream",
          "text": [
            "CPU times: user 20min 24s, sys: 6.82 s, total: 20min 31s\n",
            "Wall time: 10min 35s\n"
          ],
          "name": "stdout"
        },
        {
          "output_type": "execute_result",
          "data": {
            "text/plain": [
              "(277125557, 314829696)"
            ]
          },
          "metadata": {
            "tags": []
          },
          "execution_count": 18
        }
      ]
    },
    {
      "cell_type": "code",
      "metadata": {
        "colab": {
          "base_uri": "https://localhost:8080/"
        },
        "id": "OjNH1L-DdCUI",
        "outputId": "698f1a1d-d9b4-400a-f457-c129c602bcdc"
      },
      "source": [
        "w2v_model.most_similar(\"love\")"
      ],
      "execution_count": null,
      "outputs": [
        {
          "output_type": "stream",
          "text": [
            "/usr/local/lib/python3.7/dist-packages/ipykernel_launcher.py:1: DeprecationWarning: Call to deprecated `most_similar` (Method will be removed in 4.0.0, use self.wv.most_similar() instead).\n",
            "  \"\"\"Entry point for launching an IPython kernel.\n",
            "2021-06-05 17:29:24,803 : INFO : precomputing L2-norms of word weight vectors\n"
          ],
          "name": "stderr"
        },
        {
          "output_type": "execute_result",
          "data": {
            "text/plain": [
              "[('luv', 0.5866920351982117),\n",
              " ('adore', 0.5491572022438049),\n",
              " ('loves', 0.5378339290618896),\n",
              " ('loved', 0.5090295672416687),\n",
              " ('amazing', 0.5080989003181458),\n",
              " ('lovee', 0.4910221993923187),\n",
              " ('looove', 0.4869469702243805),\n",
              " ('loveee', 0.4788251519203186),\n",
              " ('awesome', 0.458760142326355),\n",
              " ('loooove', 0.4512588381767273)]"
            ]
          },
          "metadata": {
            "tags": []
          },
          "execution_count": 19
        }
      ]
    },
    {
      "cell_type": "code",
      "metadata": {
        "colab": {
          "base_uri": "https://localhost:8080/"
        },
        "id": "WFDXUI5ueENK",
        "outputId": "05cbc348-4789-4b7d-f648-09b5b8d66951"
      },
      "source": [
        "%%time\n",
        "tokenizer = Tokenizer()\n",
        "tokenizer.fit_on_texts(df_train.text)\n",
        "\n",
        "vocab_size = len(tokenizer.word_index) + 1\n",
        "print(\"Total words\", vocab_size)"
      ],
      "execution_count": null,
      "outputs": [
        {
          "output_type": "stream",
          "text": [
            "Total words 295348\n",
            "CPU times: user 15.3 s, sys: 197 ms, total: 15.5 s\n",
            "Wall time: 15.4 s\n"
          ],
          "name": "stdout"
        }
      ]
    },
    {
      "cell_type": "code",
      "metadata": {
        "colab": {
          "base_uri": "https://localhost:8080/"
        },
        "id": "NlOTTYG_eEQz",
        "outputId": "e11570c5-e1e2-453a-92d2-a72e6daea85e"
      },
      "source": [
        "%%time\n",
        "x_train = pad_sequences(tokenizer.texts_to_sequences(df_train.text), maxlen=SEQUENCE_LENGTH)\n",
        "x_test = pad_sequences(tokenizer.texts_to_sequences(df_test.text), maxlen=SEQUENCE_LENGTH)\n",
        "\n",
        "print(\"Training X Shape:\",x_train.shape)\n",
        "print(\"Testing X Shape:\",x_test.shape)"
      ],
      "execution_count": null,
      "outputs": [
        {
          "output_type": "stream",
          "text": [
            "Training X Shape: (1280000, 30)\n",
            "Testing X Shape: (320000, 30)\n",
            "CPU times: user 22.4 s, sys: 398 ms, total: 22.8 s\n",
            "Wall time: 22.6 s\n"
          ],
          "name": "stdout"
        }
      ]
    },
    {
      "cell_type": "code",
      "metadata": {
        "colab": {
          "base_uri": "https://localhost:8080/"
        },
        "id": "MvCOGcpZeEUO",
        "outputId": "034e9984-4187-435b-f4d0-f1b6d60da8c6"
      },
      "source": [
        "labels = df_train.target.unique().tolist()\n",
        "labels"
      ],
      "execution_count": null,
      "outputs": [
        {
          "output_type": "execute_result",
          "data": {
            "text/plain": [
              "['POSITIVE', 'NEGATIVE']"
            ]
          },
          "metadata": {
            "tags": []
          },
          "execution_count": 22
        }
      ]
    },
    {
      "cell_type": "code",
      "metadata": {
        "colab": {
          "base_uri": "https://localhost:8080/"
        },
        "id": "pspgH0creEXU",
        "outputId": "ff2625bf-1692-4d55-fa9f-2aed0cf09831"
      },
      "source": [
        "encoder = LabelEncoder()\n",
        "encoder.fit(df_train.target.tolist())\n",
        "\n",
        "y_train = encoder.transform(df_train.target.tolist())\n",
        "y_test = encoder.transform(df_test.target.tolist())\n",
        "\n",
        "y_train = y_train.reshape(-1,1)\n",
        "y_test = y_test.reshape(-1,1)\n",
        "\n",
        "print(\"y_train\",y_train.shape)\n",
        "print(\"y_test\",y_test.shape)"
      ],
      "execution_count": null,
      "outputs": [
        {
          "output_type": "stream",
          "text": [
            "y_train (1280000, 1)\n",
            "y_test (320000, 1)\n"
          ],
          "name": "stdout"
        }
      ]
    },
    {
      "cell_type": "code",
      "metadata": {
        "colab": {
          "base_uri": "https://localhost:8080/"
        },
        "id": "yAt6UDZ2eEac",
        "outputId": "eaa9beab-cd22-4f7c-8224-0c4fe4462b54"
      },
      "source": [
        "print(\"x_train\", x_train.shape)\n",
        "print(\"y_train\", y_train.shape)\n",
        "print()\n",
        "print(\"x_test\", x_test.shape)\n",
        "print(\"y_test\", y_test.shape)"
      ],
      "execution_count": null,
      "outputs": [
        {
          "output_type": "stream",
          "text": [
            "x_train (1280000, 30)\n",
            "y_train (1280000, 1)\n",
            "\n",
            "x_test (320000, 30)\n",
            "y_test (320000, 1)\n"
          ],
          "name": "stdout"
        }
      ]
    },
    {
      "cell_type": "code",
      "metadata": {
        "colab": {
          "base_uri": "https://localhost:8080/"
        },
        "id": "ZjD5cqZMeEd-",
        "outputId": "2d0f81fe-82ba-4f37-fae7-883e3587c65c"
      },
      "source": [
        "y_train[:10]"
      ],
      "execution_count": null,
      "outputs": [
        {
          "output_type": "execute_result",
          "data": {
            "text/plain": [
              "array([[1],\n",
              "       [1],\n",
              "       [1],\n",
              "       [0],\n",
              "       [1],\n",
              "       [1],\n",
              "       [1],\n",
              "       [1],\n",
              "       [1],\n",
              "       [1]])"
            ]
          },
          "metadata": {
            "tags": []
          },
          "execution_count": 25
        }
      ]
    },
    {
      "cell_type": "code",
      "metadata": {
        "colab": {
          "base_uri": "https://localhost:8080/"
        },
        "id": "NQLH_o6AeSw1",
        "outputId": "15090cf6-ef48-4835-968c-dc537919a4a7"
      },
      "source": [
        "embedding_matrix = np.zeros((vocab_size, W2V_SIZE))\n",
        "for word, i in tokenizer.word_index.items():\n",
        "  if word in w2v_model.wv:\n",
        "    embedding_matrix[i] = w2v_model.wv[word]\n",
        "print(embedding_matrix.shape)"
      ],
      "execution_count": null,
      "outputs": [
        {
          "output_type": "stream",
          "text": [
            "(295348, 300)\n"
          ],
          "name": "stdout"
        }
      ]
    },
    {
      "cell_type": "code",
      "metadata": {
        "id": "NItKKaz9eS0O"
      },
      "source": [
        "embedding_layer = Embedding(vocab_size, W2V_SIZE, weights=[embedding_matrix], input_length=SEQUENCE_LENGTH, trainable=False)"
      ],
      "execution_count": null,
      "outputs": []
    },
    {
      "cell_type": "code",
      "metadata": {
        "colab": {
          "base_uri": "https://localhost:8080/"
        },
        "id": "nLADk0y4eS3N",
        "outputId": "d14bca45-363a-4a33-f70d-9cb13c011e61"
      },
      "source": [
        "model = Sequential()\n",
        "model.add(embedding_layer)\n",
        "model.add(Dropout(0.5))\n",
        "model.add(LSTM(100, dropout=0.2, recurrent_dropout=0.2))\n",
        "model.add(Dense(1, activation='sigmoid'))\n",
        "\n",
        "model.summary()"
      ],
      "execution_count": null,
      "outputs": [
        {
          "output_type": "stream",
          "text": [
            "WARNING:tensorflow:Layer lstm will not use cuDNN kernels since it doesn't meet the criteria. It will use a generic GPU kernel as fallback when running on GPU.\n"
          ],
          "name": "stdout"
        },
        {
          "output_type": "stream",
          "text": [
            "2021-06-05 17:30:10,279 : WARNING : Layer lstm will not use cuDNN kernels since it doesn't meet the criteria. It will use a generic GPU kernel as fallback when running on GPU.\n"
          ],
          "name": "stderr"
        },
        {
          "output_type": "stream",
          "text": [
            "Model: \"sequential\"\n",
            "_________________________________________________________________\n",
            "Layer (type)                 Output Shape              Param #   \n",
            "=================================================================\n",
            "embedding (Embedding)        (None, 30, 300)           88604400  \n",
            "_________________________________________________________________\n",
            "dropout (Dropout)            (None, 30, 300)           0         \n",
            "_________________________________________________________________\n",
            "lstm (LSTM)                  (None, 100)               160400    \n",
            "_________________________________________________________________\n",
            "dense (Dense)                (None, 1)                 101       \n",
            "=================================================================\n",
            "Total params: 88,764,901\n",
            "Trainable params: 160,501\n",
            "Non-trainable params: 88,604,400\n",
            "_________________________________________________________________\n"
          ],
          "name": "stdout"
        }
      ]
    },
    {
      "cell_type": "code",
      "metadata": {
        "id": "seyJuefFeS64"
      },
      "source": [
        "model.compile(loss='binary_crossentropy',\n",
        "              optimizer=\"adam\",\n",
        "              metrics=['accuracy'])"
      ],
      "execution_count": null,
      "outputs": []
    },
    {
      "cell_type": "code",
      "metadata": {
        "id": "8Qh_Z3BbeEhn"
      },
      "source": [
        "callbacks = [ ReduceLROnPlateau(monitor='val_loss', patience=5, cooldown=0),\n",
        "              EarlyStopping(monitor='val_accuracy', min_delta=1e-4, patience=5)]"
      ],
      "execution_count": null,
      "outputs": []
    },
    {
      "cell_type": "code",
      "metadata": {
        "id": "iCOeaYl8efj2",
        "colab": {
          "base_uri": "https://localhost:8080/"
        },
        "outputId": "7cebd522-c24d-44e5-e4ab-2999c62060bb"
      },
      "source": [
        "%%time\n",
        "history = model.fit(x_train, y_train,\n",
        "                    batch_size=BATCH_SIZE,\n",
        "                    epochs=EPOCHS,\n",
        "                    validation_split=0.1,\n",
        "                    verbose=1,\n",
        "                    callbacks=callbacks)"
      ],
      "execution_count": null,
      "outputs": [
        {
          "output_type": "stream",
          "text": [
            "Epoch 1/15\n",
            "1125/1125 [==============================] - 88s 58ms/step - loss: 0.5072 - accuracy: 0.7485 - val_loss: 0.4402 - val_accuracy: 0.7984\n",
            "Epoch 2/15\n",
            "1125/1125 [==============================] - 64s 57ms/step - loss: 0.4512 - accuracy: 0.7874 - val_loss: 0.4255 - val_accuracy: 0.8053\n",
            "Epoch 3/15\n",
            "1125/1125 [==============================] - 64s 57ms/step - loss: 0.4409 - accuracy: 0.7930 - val_loss: 0.4185 - val_accuracy: 0.8089\n",
            "Epoch 4/15\n",
            "1125/1125 [==============================] - 64s 57ms/step - loss: 0.4358 - accuracy: 0.7956 - val_loss: 0.4155 - val_accuracy: 0.8100\n",
            "Epoch 5/15\n",
            "1125/1125 [==============================] - 63s 56ms/step - loss: 0.4329 - accuracy: 0.7975 - val_loss: 0.4151 - val_accuracy: 0.8111\n",
            "Epoch 6/15\n",
            "1125/1125 [==============================] - 63s 56ms/step - loss: 0.4308 - accuracy: 0.7989 - val_loss: 0.4120 - val_accuracy: 0.8123\n",
            "Epoch 7/15\n",
            "1125/1125 [==============================] - 63s 56ms/step - loss: 0.4287 - accuracy: 0.8004 - val_loss: 0.4119 - val_accuracy: 0.8124\n",
            "Epoch 8/15\n",
            "1125/1125 [==============================] - 64s 57ms/step - loss: 0.4282 - accuracy: 0.8003 - val_loss: 0.4104 - val_accuracy: 0.8123\n",
            "Epoch 9/15\n",
            "1125/1125 [==============================] - 62s 55ms/step - loss: 0.4272 - accuracy: 0.8009 - val_loss: 0.4104 - val_accuracy: 0.8135\n",
            "Epoch 10/15\n",
            "1125/1125 [==============================] - 62s 55ms/step - loss: 0.4265 - accuracy: 0.8012 - val_loss: 0.4098 - val_accuracy: 0.8135\n",
            "Epoch 11/15\n",
            "1125/1125 [==============================] - 62s 55ms/step - loss: 0.4258 - accuracy: 0.8020 - val_loss: 0.4095 - val_accuracy: 0.8136\n",
            "Epoch 12/15\n",
            "1125/1125 [==============================] - 62s 55ms/step - loss: 0.4235 - accuracy: 0.8031 - val_loss: 0.4088 - val_accuracy: 0.8142\n",
            "Epoch 13/15\n",
            "1125/1125 [==============================] - 62s 55ms/step - loss: 0.4232 - accuracy: 0.8033 - val_loss: 0.4084 - val_accuracy: 0.8135\n",
            "Epoch 14/15\n",
            "1125/1125 [==============================] - 60s 53ms/step - loss: 0.4225 - accuracy: 0.8036 - val_loss: 0.4074 - val_accuracy: 0.8149\n",
            "Epoch 15/15\n",
            "1125/1125 [==============================] - 60s 53ms/step - loss: 0.4237 - accuracy: 0.8033 - val_loss: 0.4057 - val_accuracy: 0.8149\n",
            "CPU times: user 20min 59s, sys: 1min 29s, total: 22min 28s\n",
            "Wall time: 16min 2s\n"
          ],
          "name": "stdout"
        }
      ]
    },
    {
      "cell_type": "code",
      "metadata": {
        "colab": {
          "base_uri": "https://localhost:8080/"
        },
        "id": "TTw9khDpefnM",
        "outputId": "af6b708a-fb20-4755-9e66-33d0bc2f3e95"
      },
      "source": [
        "%%time\n",
        "score = model.evaluate(x_test, y_test, batch_size=BATCH_SIZE)\n",
        "print()\n",
        "print(\"ACCURACY:\",score[1])\n",
        "print(\"LOSS:\",score[0])"
      ],
      "execution_count": null,
      "outputs": [
        {
          "output_type": "stream",
          "text": [
            "313/313 [==============================] - 7s 20ms/step - loss: 0.4058 - accuracy: 0.8147\n",
            "\n",
            "ACCURACY: 0.814662516117096\n",
            "LOSS: 0.4058171212673187\n",
            "CPU times: user 6.57 s, sys: 207 ms, total: 6.78 s\n",
            "Wall time: 6.98 s\n"
          ],
          "name": "stdout"
        }
      ]
    },
    {
      "cell_type": "code",
      "metadata": {
        "colab": {
          "base_uri": "https://localhost:8080/",
          "height": 308
        },
        "id": "zrbM9HTYwlD5",
        "outputId": "5f34fa00-04b0-4e2e-e650-3ac8a1bffce8"
      },
      "source": [
        "s, (at, al) = plt.subplots(2,1)\n",
        "at.plot(history.history['accuracy'], c= 'b')\n",
        "at.plot(history.history['val_accuracy'], c='r')\n",
        "at.set_title('model accuracy')\n",
        "at.set_ylabel('accuracy')\n",
        "at.set_xlabel('epoch')\n",
        "at.legend(['LSTM_train', 'LSTM_val'], loc='upper left')\n",
        "\n",
        "al.plot(history.history['loss'], c='m')\n",
        "al.plot(history.history['val_loss'], c='c')\n",
        "al.set_title('model loss')\n",
        "al.set_ylabel('loss')\n",
        "al.set_xlabel('epoch')\n",
        "al.legend(['train', 'val'], loc = 'upper left')\n",
        "plt.subplots_adjust(left=0.1,\n",
        "                    bottom=0.1, \n",
        "                    right=0.9, \n",
        "                    top=0.9, \n",
        "                    wspace=0.4, \n",
        "                    hspace=0.7)"
      ],
      "execution_count": null,
      "outputs": [
        {
          "output_type": "display_data",
          "data": {
            "image/png": "[encoded data removed]",
            "text/plain": [
              "<Figure size 432x288 with 2 Axes>"
            ]
          },
          "metadata": {
            "tags": [],
            "needs_background": "light"
          }
        }
      ]
    },
    {
      "cell_type": "code",
      "metadata": {
        "id": "Rv16_RwOefs2"
      },
      "source": [
        "def decode_sentiment(score):\n",
        "    return POSITIVE if score>0.5 else NEGATIVE"
      ],
      "execution_count": null,
      "outputs": []
    },
    {
      "cell_type": "code",
      "metadata": {
        "colab": {
          "base_uri": "https://localhost:8080/"
        },
        "id": "kdukS8lCesR5",
        "outputId": "8c0fba85-b9f8-4690-ecd6-d0fe6a25283b"
      },
      "source": [
        "%%time\n",
        "y_pred_1d = []\n",
        "y_test_1d = list(df_test.target)\n",
        "scores = model.predict(x_test, verbose=1, batch_size=8000)\n",
        "y_pred_1d = [decode_sentiment(score) for score in scores]"
      ],
      "execution_count": null,
      "outputs": [
        {
          "output_type": "stream",
          "text": [
            "40/40 [==============================] - 5s 108ms/step\n",
            "CPU times: user 5.59 s, sys: 321 ms, total: 5.91 s\n",
            "Wall time: 5.6 s\n"
          ],
          "name": "stdout"
        }
      ]
    },
    {
      "cell_type": "code",
      "metadata": {
        "id": "RnROOfegesWE"
      },
      "source": [
        "def plot_confusion_matrix(cm, classes,\n",
        "                          title='Confusion matrix',\n",
        "                          cmap=plt.cm.Blues):\n",
        "    \"\"\"\n",
        "    This function prints and plots the confusion matrix.\n",
        "    Normalization can be applied by setting `normalize=True`.\n",
        "    \"\"\"\n",
        "\n",
        "    cm = cm.astype('float') / cm.sum(axis=1)[:, np.newaxis]\n",
        "\n",
        "    plt.imshow(cm, interpolation='nearest', cmap=cmap)\n",
        "    plt.title(title, fontsize=20)\n",
        "    plt.colorbar()\n",
        "    tick_marks = np.arange(len(classes))\n",
        "    plt.xticks(tick_marks, classes, rotation=90, fontsize=13)\n",
        "    plt.yticks(tick_marks, classes, fontsize=13)\n",
        "\n",
        "    fmt = '.2f'\n",
        "    thresh = cm.max() / 2.\n",
        "    for i, j in itertools.product(range(cm.shape[0]), range(cm.shape[1])):\n",
        "        plt.text(j, i, format(cm[i, j], fmt),\n",
        "                 horizontalalignment=\"center\",\n",
        "                 color=\"white\" if cm[i, j] > thresh else \"black\")\n",
        "\n",
        "    plt.ylabel('True label', fontsize=17)\n",
        "    plt.xlabel('Predicted label', fontsize=17)"
      ],
      "execution_count": null,
      "outputs": []
    },
    {
      "cell_type": "code",
      "metadata": {
        "id": "5WMJVYQhesZu",
        "colab": {
          "base_uri": "https://localhost:8080/",
          "height": 421
        },
        "outputId": "f6b30da1-a600-4423-e396-0d26c06e7816"
      },
      "source": [
        "cnf_matrix = confusion_matrix(y_test_1d, y_pred_1d)\n",
        "plt.figure(figsize=(6,6))\n",
        "plot_confusion_matrix(cnf_matrix, classes=df_train.target.unique(), title=\"Confusion matrix\")\n",
        "plt.show()"
      ],
      "execution_count": null,
      "outputs": [
        {
          "output_type": "display_data",
          "data": {
            "image/png": "[encoded data removed]",
            "text/plain": [
              "<Figure size 432x432 with 2 Axes>"
            ]
          },
          "metadata": {
            "tags": [],
            "needs_background": "light"
          }
        }
      ]
    },
    {
      "cell_type": "code",
      "metadata": {
        "id": "W_EuaoCme50m",
        "colab": {
          "base_uri": "https://localhost:8080/"
        },
        "outputId": "b136edd7-ab7e-418a-da29-1f10954ca370"
      },
      "source": [
        "print(classification_report(y_test_1d, y_pred_1d))"
      ],
      "execution_count": null,
      "outputs": [
        {
          "output_type": "stream",
          "text": [
            "              precision    recall  f1-score   support\n",
            "\n",
            "    NEGATIVE       0.81      0.81      0.81    159494\n",
            "    POSITIVE       0.82      0.81      0.82    160506\n",
            "\n",
            "    accuracy                           0.81    320000\n",
            "   macro avg       0.81      0.81      0.81    320000\n",
            "weighted avg       0.81      0.81      0.81    320000\n",
            "\n"
          ],
          "name": "stdout"
        }
      ]
    },
    {
      "cell_type": "code",
      "metadata": {
        "id": "urNHIaNTe53f",
        "colab": {
          "base_uri": "https://localhost:8080/"
        },
        "outputId": "6421950c-7a9d-43d2-924b-0af3656c3157"
      },
      "source": [
        "accuracy_score(y_test_1d, y_pred_1d)"
      ],
      "execution_count": null,
      "outputs": [
        {
          "output_type": "execute_result",
          "data": {
            "text/plain": [
              "0.8146625"
            ]
          },
          "metadata": {
            "tags": []
          },
          "execution_count": 86
        }
      ]
    },
    {
      "cell_type": "code",
      "metadata": {
        "id": "lp5y_DYHefwP"
      },
      "source": [
        "def predict(text):\n",
        "    start_at = time.time()\n",
        "    # Tokenize text\n",
        "    x_test = pad_sequences(tokenizer.texts_to_sequences([text]), maxlen=SEQUENCE_LENGTH)\n",
        "    # Predict\n",
        "    score = model.predict([x_test])[0]\n",
        "    # Decode sentiment\n",
        "    label = decode_sentiment(score)\n",
        "    return { \"score\": float(score)}\n",
        "    #return { \"score\": float(score),\n",
        "   "
      ],
      "execution_count": null,
      "outputs": []
    },
    {
      "cell_type": "code",
      "metadata": {
        "colab": {
          "base_uri": "https://localhost:8080/"
        },
        "id": "MLqyC9Yzefz1",
        "outputId": "74bea8cc-3050-4d1e-96fb-5d6d6e260c02"
      },
      "source": [
        "predict(\"feeling good\")"
      ],
      "execution_count": null,
      "outputs": [
        {
          "output_type": "execute_result",
          "data": {
            "text/plain": [
              "{'score': 0.944380521774292}"
            ]
          },
          "metadata": {
            "tags": []
          },
          "execution_count": 81
        }
      ]
    },
    {
      "cell_type": "code",
      "metadata": {
        "colab": {
          "base_uri": "https://localhost:8080/"
        },
        "id": "GA4TyBqqesJV",
        "outputId": "1d357320-03ef-42f1-a2bc-2146a8f855a8"
      },
      "source": [
        "predict(\"I hate the rain\")"
      ],
      "execution_count": null,
      "outputs": [
        {
          "output_type": "execute_result",
          "data": {
            "text/plain": [
              "{'score': 0.008667835965752602}"
            ]
          },
          "metadata": {
            "tags": []
          },
          "execution_count": 38
        }
      ]
    },
    {
      "cell_type": "code",
      "metadata": {
        "colab": {
          "base_uri": "https://localhost:8080/"
        },
        "id": "dOqQ7YXNIp__",
        "outputId": "3bb1fba5-a23f-43c4-a772-3ac1289e65af"
      },
      "source": [
        "predict(\"does sounds good\")"
      ],
      "execution_count": null,
      "outputs": [
        {
          "output_type": "execute_result",
          "data": {
            "text/plain": [
              "{'score': 0.9837750792503357}"
            ]
          },
          "metadata": {
            "tags": []
          },
          "execution_count": 79
        }
      ]
    },
    {
      "cell_type": "code",
      "metadata": {
        "colab": {
          "base_uri": "https://localhost:8080/"
        },
        "id": "zN7VgtoqesM5",
        "outputId": "2c2c66fb-df66-474d-a16c-55f17ac44a31"
      },
      "source": [
        "predict(\"i don't know what i'm doing\")"
      ],
      "execution_count": null,
      "outputs": [
        {
          "output_type": "execute_result",
          "data": {
            "text/plain": [
              "{'score': 0.31240713596343994}"
            ]
          },
          "metadata": {
            "tags": []
          },
          "execution_count": 40
        }
      ]
    },
    {
      "cell_type": "code",
      "metadata": {
        "id": "D2R42uMqe56d",
        "colab": {
          "base_uri": "https://localhost:8080/"
        },
        "outputId": "a7624ca6-5c67-4db2-e9cc-94374be4030a"
      },
      "source": [
        "model.save(KERAS_MODEL)\n",
        "w2v_model.save(WORD2VEC_MODEL)\n",
        "pickle.dump(tokenizer, open(TOKENIZER_MODEL, \"wb\"), protocol=0)\n",
        "pickle.dump(encoder, open(ENCODER_MODEL, \"wb\"), protocol=0)"
      ],
      "execution_count": null,
      "outputs": [
        {
          "output_type": "stream",
          "text": [
            "2021-06-05 17:46:32,781 : INFO : saving Word2Vec object under modelvs.w2v, separately None\n",
            "2021-06-05 17:46:32,783 : INFO : not storing attribute vectors_norm\n",
            "2021-06-05 17:46:32,787 : INFO : not storing attribute cum_table\n",
            "2021-06-05 17:46:33,474 : INFO : saved modelvs.w2v\n"
          ],
          "name": "stderr"
        }
      ]
    },
    {
      "cell_type": "code",
      "metadata": {
        "id": "7fOxRoCNe59U"
      },
      "source": [
        ""
      ],
      "execution_count": null,
      "outputs": []
    },
    {
      "cell_type": "code",
      "metadata": {
        "id": "mSqMeGubeseN"
      },
      "source": [
        ""
      ],
      "execution_count": null,
      "outputs": []
    }
  ]
}